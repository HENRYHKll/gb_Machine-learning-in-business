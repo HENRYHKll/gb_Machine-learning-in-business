{
  "cells": [
    {
      "cell_type": "markdown",
      "metadata": {
        "id": "XWHlmmzgFs0r"
      },
      "source": [
        "# Урок 6. Задача lookalike (Positive Unlabeled Learning)#"
      ]
    },
    {
      "cell_type": "markdown",
      "metadata": {
        "id": "6b2T16VXFs2U"
      },
      "source": [
        "<img src='https://drive.google.com/uc?export=view&id=1tgPJoFNVVULBpB8DcT2O0AYnSgZolbEH'>"
      ]
    },
    {
      "cell_type": "markdown",
      "source": [
        "Пример задачи - один клиент в магазине не купил корм для кошек, но если мы ему скажем о корме, может ли он его купить?"
      ],
      "metadata": {
        "id": "vYRBZQlcK9ke"
      }
    },
    {
      "cell_type": "markdown",
      "metadata": {
        "id": "O4U1ECdrFs0z"
      },
      "source": [
        "Программа урока:\n",
        "1. Теоретическая часть:\n",
        "\n",
        "     - Задача обучения с учителем (повторение)\n",
        "     - Примеры кейсов, когда разметка содержит только наблюдения положительного класса\n",
        "     - Какие задачи не относятся к lookalike\n",
        "\n",
        "\n",
        "2. Практическая часть\n",
        "    - Метод решения random negative sampling\n",
        "    - Метод 2-step approach\n",
        "    - Метод spy\n",
        "    - Сравнение методов между собой на датасете, для которого метки известны\n",
        "    - Сравнение лучшего метода с моделью, построенной на данных, для которых известны метки всех классов"
      ]
    },
    {
      "cell_type": "markdown",
      "metadata": {
        "id": "OmL_5Vd4Fs06"
      },
      "source": [
        "<img src='https://drive.google.com/uc?export=view&id=1EqTtbS848-pfoWA-MTV8scVmbYyoB0Sy' width=800>"
      ]
    },
    {
      "cell_type": "markdown",
      "metadata": {
        "id": "itk6NZ8zFs0-"
      },
      "source": [
        "Т.е в \"стандартной\" постановке задачи обучения с учителем у нас есть разметка.\n",
        "\n",
        "Например, если мы решаем задачу бинарной классификации, то у нас есть объекты с метками обоих классов (positive/negative)."
      ]
    },
    {
      "cell_type": "markdown",
      "metadata": {
        "id": "tLZ9E4UeFs1l"
      },
      "source": [
        "На практике часто бывает так, что мы сравнительно легко можем определить объекты одного класса (дпопустим, мы легко понимаем, какие объекты можно назвать положительными), но при этом возникают сложности с определением объектов другого класса (негативы)."
      ]
    },
    {
      "cell_type": "markdown",
      "metadata": {
        "id": "SQLShPwYFs2H"
      },
      "source": [
        "<img src='https://drive.google.com/uc?export=view&id=1begp9Rz9FI0DZ1Ff_jmcYRlYsK9SIXHB'>"
      ]
    },
    {
      "cell_type": "markdown",
      "metadata": {
        "id": "1KDoAlAPFs1z"
      },
      "source": [
        "Примеры задач:\n",
        "\n",
        "- Продвижение услуг и приложений\n",
        "- Выделение сегмента пользователей, которые совершат нужное нам целевое действие"
      ]
    },
    {
      "cell_type": "markdown",
      "metadata": {
        "id": "QH1BGob4Fs2N"
      },
      "source": [
        "<img src='https://drive.google.com/uc?export=view&id=1FoFble2hEnexFOpIbQWyMheFv92Tlieh'>\n",
        "\n",
        "a) Выделяем только группу позитивно размеченного класса. Хорошей похожести вряд ли найдем, т.к. ищем похожих только в одной группе\n",
        "\n",
        "b) Строим более интересную границу, чтобы обобщить неразмеченные объекты и интерпретировать их не как отрицание, а как положительный объект."
      ]
    },
    {
      "cell_type": "markdown",
      "metadata": {
        "id": "qSnZI10xFs2P"
      },
      "source": [
        "### Более формальное описание задачи"
      ]
    },
    {
      "cell_type": "markdown",
      "metadata": {
        "id": "Ytmpp5y_Fs2R"
      },
      "source": [
        "1. оценивается вероятность того, что пользователь совершит некоторое целевое действие (приобретение подписки, установка или регистрация в приложении и т.д)\n",
        "2. У нас есть только те, кто совершил это действие - это positives. При этом нет определения того, что такое negative. Все, кроме P - Unlabeled (U)\n",
        "3. Нам нужно как-то собрать выборку и обучить модель, которая будет отличать P от N \n"
      ]
    },
    {
      "cell_type": "markdown",
      "metadata": {
        "id": "MXdqea-gFs2b"
      },
      "source": [
        "Обучение на PU данных нетривиально. Существует 2 возможных объяснения, почему конкретный объект не имеет метки класса:\n",
        "1. это объект класса 0 (True negative)\n",
        "2. это объект класса 1, но просто неразмеченный"
      ]
    },
    {
      "cell_type": "markdown",
      "metadata": {
        "id": "eT4nzNw1Fs2c"
      },
      "source": [
        "## PU learning (варианты решения)\n",
        "\n",
        "\n",
        "1. Random negative sampling\n",
        "2. 2-step approach\n",
        "3. SPY\n",
        "4. … (много других)"
      ]
    },
    {
      "cell_type": "markdown",
      "metadata": {
        "id": "UqRt6V5RFs2k"
      },
      "source": [
        "### 1. Random negative sampling\n",
        "\n",
        "Другое название random negative sampling -> The Selected Completely At Random (SCAR)\n",
        "\n",
        "- Семплируем подможножество из U и присваиваем им метку 0 (множество N)\n",
        "- Строим бинарный классификатор, который учится различать N от P\n",
        "- Используем полученный классификатор без дополнительных телодвижений\n",
        "\n",
        "\n",
        "Здесь не можем строить точную модель, т.к. не уверены в своем множестве N, так что нужно позволить модели ошибаться."
      ]
    },
    {
      "cell_type": "markdown",
      "metadata": {
        "id": "DSu4LHlRFs22"
      },
      "source": [
        "- random negative sampling основан на предположении, что размеченные данные являются независимыми и одинаково распределенными\n",
        "- random negative sampling очень популярен, но главным образом благодаря тому, что проблема в итоге сводится к задаче бинарной классификации"
      ]
    },
    {
      "cell_type": "markdown",
      "metadata": {
        "id": "LdGFtQDtFs26"
      },
      "source": [
        "Ниже на картинке пример, если размеченные данные (Labeled Positive) выбраны независимо и равновероятно из генеральной совокупности (множества всех позитивов - Unlabeled Positive)\n",
        "\n",
        "<img src='https://drive.google.com/uc?export=view&id=1iLurg0reVcqyb1UJqnQDVLY2vk9az6jo' width=600>"
      ]
    },
    {
      "cell_type": "markdown",
      "metadata": {
        "id": "j8H69sxKFs28"
      },
      "source": [
        "Ниже на картинке пример, где мы уже видим, что семплирование смещено. \n",
        "\n",
        "<img src='https://drive.google.com/uc?export=view&id=17vzbOt7QrAEA2AN6lAVTkE4p36TEfFPC' width=600>"
      ]
    },
    {
      "cell_type": "markdown",
      "source": [
        "RNS - одностадийный и слишком простой."
      ],
      "metadata": {
        "id": "gJyLj9w2UGXs"
      }
    },
    {
      "cell_type": "markdown",
      "metadata": {
        "id": "TRILgiISFs2m"
      },
      "source": [
        "### 2-step approach"
      ]
    },
    {
      "cell_type": "markdown",
      "metadata": {
        "id": "xmh-CaCKFs2o"
      },
      "source": [
        "<img src='https://drive.google.com/uc?export=view&id=1KQKwTm_Wx68SLal456Bk8oVMtgkgsRjf' width=600>"
      ]
    },
    {
      "cell_type": "markdown",
      "metadata": {
        "id": "HxEoxstFFs2q"
      },
      "source": [
        "#### Или словами:"
      ]
    },
    {
      "cell_type": "markdown",
      "metadata": {
        "id": "58c41fSHFs2r"
      },
      "source": [
        "1. определяем RN (reliable negatives) (по факту это делаем шаг Random Negative Sampling'a).\n",
        "2. Используем метод обучения с учителем для обучения классификатора на P, RN\n",
        "3. Сделаем предсказание этой моделью на всем множестве U, проскорим и выберем топ объектов, которые вероятней всего принадлежат множеству N.\n",
        "4. Обучаем еще раз модель на P и проскоренных N из RN.\n",
        "5. Можно повторять шаги несколько раз."
      ]
    },
    {
      "cell_type": "markdown",
      "metadata": {
        "id": "0uHLXIWPFs2w"
      },
      "source": [
        "### 3. Алгоритм Spy\n",
        "\n",
        "\n",
        "<img src='https://drive.google.com/uc?export=view&id=1MYczAPDN0rlCyvf2fFS4_KaytGHreTGt'>\n",
        "\n",
        "- Семплируем множество S из P и помещаем их в U\n",
        "- S - это шпионы (позитивные примеры)\n",
        "- Обучение классификатор на P-S (метка 1) и UuS (метка 0)\n",
        "- Смотрим, какие вероятности получили элементы S, чтобы определить порог для выбора RN (надежные негативы)\n"
      ]
    },
    {
      "cell_type": "markdown",
      "metadata": {
        "id": "-RSeyQ_jFs2-"
      },
      "source": [
        "### Разметить все неразмеченные данные как Negatives\n",
        "\n",
        "Но конечно такой метод на практике почти не используется, хотя и очень прост и понятен."
      ]
    },
    {
      "cell_type": "markdown",
      "metadata": {
        "id": "ConIOowrFs3E"
      },
      "source": [
        "## Пример 1"
      ]
    },
    {
      "cell_type": "markdown",
      "metadata": {
        "id": "7ONQErfoFs3F"
      },
      "source": [
        "1. сгенерируем игрушечный датасет из двух множеств так, чтобы они немного пересекались с помощью https://scikit-learn.org/stable/modules/generated/sklearn.datasets.make_blobs.html#sklearn.datasets.make_blobs"
      ]
    },
    {
      "cell_type": "code",
      "execution_count": 39,
      "metadata": {
        "id": "wYnI2_MhFs3H"
      },
      "outputs": [],
      "source": [
        "from __future__ import division, print_function\n",
        "import numpy as np\n",
        "%matplotlib inline\n",
        "import matplotlib.pylab as plt\n",
        "from sklearn.datasets import make_blobs\n",
        "from sklearn.tree import DecisionTreeClassifier\n",
        "from sklearn.metrics import precision_recall_curve"
      ]
    },
    {
      "cell_type": "markdown",
      "metadata": {
        "id": "emfC0JP4Fs3L"
      },
      "source": [
        "2. Нарисуем график с нашими и данными. Часть данных (250 примеров) размечена как позитивы, остальные - неразмечены"
      ]
    },
    {
      "cell_type": "code",
      "execution_count": 2,
      "metadata": {
        "id": "70Oeb_DvFs3N",
        "outputId": "9b98a0e1-4ad6-43f9-ee38-d30b387b6622",
        "colab": {
          "base_uri": "https://localhost:8080/",
          "height": 418
        }
      },
      "outputs": [
        {
          "output_type": "stream",
          "name": "stdout",
          "text": [
            "labeled samples: 250\n"
          ]
        },
        {
          "output_type": "display_data",
          "data": {
            "text/plain": [
              "<Figure size 720x468 with 1 Axes>"
            ],
            "image/png": "[encoded data removed]"
          },
          "metadata": {
            "needs_background": "light"
          }
        }
      ],
      "source": [
        "N = 5000\n",
        "known_labels_ratio = 0.1\n",
        "X, y = make_blobs(n_samples=N, centers=2, \n",
        "                  n_features=2, shuffle=True, \n",
        "                  cluster_std=2,\n",
        "                #   cluster_std=5,\n",
        "                  random_state=42)\n",
        "\n",
        "rp = np.random.permutation(int(N/2))\n",
        "\n",
        "data_P = X[y == 1][rp[:int(len(rp) * known_labels_ratio)]]\n",
        "\n",
        "data_U = np.concatenate(\n",
        "    (X[y == 1][rp[int(len(rp) * known_labels_ratio):]], X[y == 0]),\n",
        "    axis=0)\n",
        "\n",
        "print(f\"labeled samples: {data_P.shape[0]}\")\n",
        "\n",
        "plt.figure(figsize=(10, 6.5))\n",
        "plt.scatter(data_U[:, 0], data_U[:, 1], c='k', marker='.', lw=1, s=1, alpha=0.5, label='Unlabeled')\n",
        "plt.scatter(data_P[:, 0], data_P[:, 1], c='b', marker='o', lw=0, s=20, alpha=0.5, label='Positive')\n",
        "plt.grid()\n",
        "plt.legend();"
      ]
    },
    {
      "cell_type": "markdown",
      "metadata": {
        "id": "oJuGiFLSFs3S"
      },
      "source": [
        "3. Обучим 1000 деревьев решений, используя bagging\n",
        "4. Предсказания делаем oob (out-of-the-bag) и затем для каждого примера мы все прогнозы усредняем"
      ]
    },
    {
      "cell_type": "markdown",
      "metadata": {
        "id": "m9P_C2mWFs3U"
      },
      "source": [
        "Что такое bagging (ссылка - https://en.wikipedia.org/wiki/Bootstrap_aggregating)"
      ]
    },
    {
      "cell_type": "markdown",
      "metadata": {
        "id": "kymZHaC2Fs3W"
      },
      "source": [
        "<img src='https://drive.google.com/uc?export=view&id=1Qcpg4-KWmDV8hL_DKdULd5580bQETaoy'>"
      ]
    },
    {
      "cell_type": "code",
      "execution_count": 3,
      "metadata": {
        "id": "JAqRwapTFs3W"
      },
      "outputs": [],
      "source": [
        "NP = data_P.shape[0]\n",
        "NU = data_U.shape[0]\n",
        "\n",
        "num_trees = 1000\n",
        "train_label = np.zeros(shape=(NP+NP,))\n",
        "train_label[:NP] = 1.0\n",
        "n_oob = np.zeros(shape=(NU,))\n",
        "f_oob = np.zeros(shape=(NU, 2))\n",
        "\n",
        "for i in range(num_trees):\n",
        "    # Bootstrap resample\n",
        "    bootstrap_sample = np.random.choice(np.arange(NU), replace=True, size=NP)\n",
        "    \n",
        "    # Positive set + bootstrapped unlabeled set\n",
        "    data_bootstrap = np.concatenate((data_P, data_U[bootstrap_sample, :]), axis=0)\n",
        "\n",
        "    # Train model\n",
        "    model = DecisionTreeClassifier(class_weight='balanced')\n",
        "    model.fit(data_bootstrap, train_label)\n",
        "    \n",
        "    # Index for the out of the bag (oob) samples\n",
        "    idx_oob = sorted(set(range(NU)) - set(np.unique(bootstrap_sample)))\n",
        "    \n",
        "    # Transductive learning of oob samples\n",
        "    f_oob[idx_oob] += model.predict_proba(data_U[idx_oob])\n",
        "    n_oob[idx_oob] += 1\n",
        "\n",
        "predict_proba = f_oob[:, 1] / n_oob"
      ]
    },
    {
      "cell_type": "markdown",
      "metadata": {
        "id": "GVy2gDrDFs3Y"
      },
      "source": [
        "5. наконец, посчитаем Precision, Recall и оптимальный порог и посмотрим, как наш алгоритм справился (ведь мы для наших данных знаем реальные метки классов)"
      ]
    },
    {
      "cell_type": "code",
      "execution_count": 4,
      "metadata": {
        "id": "1PsEXAeRFs3Z",
        "outputId": "305e6e12-bf6f-4611-eb1a-f4eabf913181",
        "colab": {
          "base_uri": "https://localhost:8080/",
          "height": 281
        }
      },
      "outputs": [
        {
          "output_type": "display_data",
          "data": {
            "text/plain": [
              "<Figure size 864x288 with 3 Axes>"
            ],
            "image/png": "[encoded data removed]"
          },
          "metadata": {
            "needs_background": "light"
          }
        }
      ],
      "source": [
        "# Plot the class probabilities for the unlabeled samples\n",
        "fig = plt.figure(figsize=(12, 4))\n",
        "ax1 = fig.add_subplot(1, 2, 1)\n",
        "sp= ax1.scatter(data_U[:, 0], data_U[:, 1], c=predict_proba, \n",
        "                lw=0, s=5, alpha=0.5, cmap=plt.cm.plasma, label='unlabeled')\n",
        "plt.grid()\n",
        "plt.colorbar(sp, label='Class probability on Unlabeled set')\n",
        "\n",
        "true_labels = np.zeros(shape=(data_U.shape[0]))\n",
        "true_labels[:int(len(rp) * (1.0 - known_labels_ratio))] = 1.0\n",
        "\n",
        "precision, recall, th = precision_recall_curve(true_labels, predict_proba)\n",
        "ax2 = fig.add_subplot(1, 2, 2)\n",
        "f1s = precision[:-1] * recall[:-1]\n",
        "ax2.plot(th, f1s, lw=2, alpha=0.5)\n",
        "\n",
        "best_th = np.argmax(f1s)\n",
        "ax2.plot(th[best_th], f1s[best_th], c='r', marker='o')\n",
        "ax2.plot([th[best_th], th[best_th]], [0.0,f1s[best_th] ], 'r--')\n",
        "ax2.plot([0.0, th[best_th]], [f1s[best_th], f1s[best_th] ], 'r--')\n",
        "ax2.annotate(f'Pre: {precision[best_th]:.3f}, Rec: {recall[best_th]:.3f}', \n",
        "             xy=(th[best_th]+ 0.01, f1s[best_th]-0.05))\n",
        "ax2.set_ylabel('F1 score')\n",
        "ax2.set_xlabel('Probability threshold')\n",
        "plt.grid()\n"
      ]
    },
    {
      "cell_type": "markdown",
      "metadata": {
        "id": "wv7bNCLqFs3c"
      },
      "source": [
        "Видим, что наши данные очень неплохо разделяются и хорошие показатели pr/rec.\n",
        "\n",
        "Получившуюся модель можно использовать больше даже никак конечная модель, а как инструмент разметки нашей базы."
      ]
    },
    {
      "cell_type": "markdown",
      "metadata": {
        "id": "1KZMnsrfFs3f"
      },
      "source": [
        "## Пример 2"
      ]
    },
    {
      "cell_type": "markdown",
      "metadata": {
        "id": "EYpaEZzYFs3g"
      },
      "source": [
        "Есть аудитория магазина и покупки за некоторый период\n",
        "\n",
        "Датасет предметов (товаров):"
      ]
    },
    {
      "cell_type": "code",
      "source": [
        "!wget 'https://drive.google.com/uc?export=download&id=1TRYfDdFMHrSS6HT4anx_b9P2hxUDsvxt' -O items.csv"
      ],
      "metadata": {
        "id": "3mxCxVoxJkE4",
        "colab": {
          "base_uri": "https://localhost:8080/"
        },
        "outputId": "7dfce762-0a04-486b-aafe-f61d7d543004"
      },
      "execution_count": 40,
      "outputs": [
        {
          "output_type": "stream",
          "name": "stdout",
          "text": [
            "--2022-04-01 17:36:22--  https://drive.google.com/uc?export=download&id=1TRYfDdFMHrSS6HT4anx_b9P2hxUDsvxt\n",
            "Resolving drive.google.com (drive.google.com)... 108.177.98.100, 108.177.98.113, 108.177.98.139, ...\n",
            "Connecting to drive.google.com (drive.google.com)|108.177.98.100|:443... connected.\n",
            "HTTP request sent, awaiting response... 303 See Other\n",
            "Location: https://doc-14-c0-docs.googleusercontent.com/docs/securesc/ha0ro937gcuc7l7deffksulhg5h7mbp1/l80v2u38oql090uoff1932r4cbc75kaj/1648834575000/14904333240138417226/*/1TRYfDdFMHrSS6HT4anx_b9P2hxUDsvxt?e=download [following]\n",
            "Warning: wildcards not supported in HTTP.\n",
            "--2022-04-01 17:36:23--  https://doc-14-c0-docs.googleusercontent.com/docs/securesc/ha0ro937gcuc7l7deffksulhg5h7mbp1/l80v2u38oql090uoff1932r4cbc75kaj/1648834575000/14904333240138417226/*/1TRYfDdFMHrSS6HT4anx_b9P2hxUDsvxt?e=download\n",
            "Resolving doc-14-c0-docs.googleusercontent.com (doc-14-c0-docs.googleusercontent.com)... 74.125.199.132, 2607:f8b0:400e:c02::84\n",
            "Connecting to doc-14-c0-docs.googleusercontent.com (doc-14-c0-docs.googleusercontent.com)|74.125.199.132|:443... connected.\n",
            "HTTP request sent, awaiting response... 200 OK\n",
            "Length: 1624576 (1.5M) [text/csv]\n",
            "Saving to: ‘items.csv’\n",
            "\n",
            "items.csv           100%[===================>]   1.55M  --.-KB/s    in 0.009s  \n",
            "\n",
            "2022-04-01 17:36:23 (164 MB/s) - ‘items.csv’ saved [1624576/1624576]\n",
            "\n"
          ]
        }
      ]
    },
    {
      "cell_type": "code",
      "execution_count": 6,
      "metadata": {
        "id": "lq7FqZU-Fs3h",
        "outputId": "a924a01c-43e4-4df7-eaed-9458340c8cc5",
        "colab": {
          "base_uri": "https://localhost:8080/",
          "height": 274
        }
      },
      "outputs": [
        {
          "output_type": "stream",
          "name": "stdout",
          "text": [
            "Num unique items: 10237\n",
            "Num unique categories: 10\n"
          ]
        },
        {
          "output_type": "execute_result",
          "data": {
            "text/plain": [
              "                                                Name  \\\n",
              "0                    зубная паста лакалют актив 75мл   \n",
              "1                 зубная паста лакалют сенситив 75мл   \n",
              "2  зубная паста лесной бальзам ромашка и облепиха...   \n",
              "\n",
              "                     item_category      item_brand item_weight     item_type  \n",
              "0  Красота, гигиена, бытовая химия           splat        75мл  зубная паста  \n",
              "1  Красота, гигиена, бытовая химия           splat        75мл  зубная паста  \n",
              "2  Красота, гигиена, бытовая химия  лесной бальзам         NaN  зубная паста  "
            ],
            "text/html": [
              "\n",
              "  <div id=\"df-bc4e1cbb-0422-42ec-9c26-a10f3cf70bfe\">\n",
              "    <div class=\"colab-df-container\">\n",
              "      <div>\n",
              "<style scoped>\n",
              "    .dataframe tbody tr th:only-of-type {\n",
              "        vertical-align: middle;\n",
              "    }\n",
              "\n",
              "    .dataframe tbody tr th {\n",
              "        vertical-align: top;\n",
              "    }\n",
              "\n",
              "    .dataframe thead th {\n",
              "        text-align: right;\n",
              "    }\n",
              "</style>\n",
              "<table border=\"1\" class=\"dataframe\">\n",
              "  <thead>\n",
              "    <tr style=\"text-align: right;\">\n",
              "      <th></th>\n",
              "      <th>Name</th>\n",
              "      <th>item_category</th>\n",
              "      <th>item_brand</th>\n",
              "      <th>item_weight</th>\n",
              "      <th>item_type</th>\n",
              "    </tr>\n",
              "  </thead>\n",
              "  <tbody>\n",
              "    <tr>\n",
              "      <th>0</th>\n",
              "      <td>зубная паста лакалют актив 75мл</td>\n",
              "      <td>Красота, гигиена, бытовая химия</td>\n",
              "      <td>splat</td>\n",
              "      <td>75мл</td>\n",
              "      <td>зубная паста</td>\n",
              "    </tr>\n",
              "    <tr>\n",
              "      <th>1</th>\n",
              "      <td>зубная паста лакалют сенситив 75мл</td>\n",
              "      <td>Красота, гигиена, бытовая химия</td>\n",
              "      <td>splat</td>\n",
              "      <td>75мл</td>\n",
              "      <td>зубная паста</td>\n",
              "    </tr>\n",
              "    <tr>\n",
              "      <th>2</th>\n",
              "      <td>зубная паста лесной бальзам ромашка и облепиха...</td>\n",
              "      <td>Красота, гигиена, бытовая химия</td>\n",
              "      <td>лесной бальзам</td>\n",
              "      <td>NaN</td>\n",
              "      <td>зубная паста</td>\n",
              "    </tr>\n",
              "  </tbody>\n",
              "</table>\n",
              "</div>\n",
              "      <button class=\"colab-df-convert\" onclick=\"convertToInteractive('df-bc4e1cbb-0422-42ec-9c26-a10f3cf70bfe')\"\n",
              "              title=\"Convert this dataframe to an interactive table.\"\n",
              "              style=\"display:none;\">\n",
              "        \n",
              "  <svg xmlns=\"http://www.w3.org/2000/svg\" height=\"24px\"viewBox=\"0 0 24 24\"\n",
              "       width=\"24px\">\n",
              "    <path d=\"M0 0h24v24H0V0z\" fill=\"none\"/>\n",
              "    <path d=\"M18.56 5.44l.94 2.06.94-2.06 2.06-.94-2.06-.94-.94-2.06-.94 2.06-2.06.94zm-11 1L8.5 8.5l.94-2.06 2.06-.94-2.06-.94L8.5 2.5l-.94 2.06-2.06.94zm10 10l.94 2.06.94-2.06 2.06-.94-2.06-.94-.94-2.06-.94 2.06-2.06.94z\"/><path d=\"M17.41 7.96l-1.37-1.37c-.4-.4-.92-.59-1.43-.59-.52 0-1.04.2-1.43.59L10.3 9.45l-7.72 7.72c-.78.78-.78 2.05 0 2.83L4 21.41c.39.39.9.59 1.41.59.51 0 1.02-.2 1.41-.59l7.78-7.78 2.81-2.81c.8-.78.8-2.07 0-2.86zM5.41 20L4 18.59l7.72-7.72 1.47 1.35L5.41 20z\"/>\n",
              "  </svg>\n",
              "      </button>\n",
              "      \n",
              "  <style>\n",
              "    .colab-df-container {\n",
              "      display:flex;\n",
              "      flex-wrap:wrap;\n",
              "      gap: 12px;\n",
              "    }\n",
              "\n",
              "    .colab-df-convert {\n",
              "      background-color: #E8F0FE;\n",
              "      border: none;\n",
              "      border-radius: 50%;\n",
              "      cursor: pointer;\n",
              "      display: none;\n",
              "      fill: #1967D2;\n",
              "      height: 32px;\n",
              "      padding: 0 0 0 0;\n",
              "      width: 32px;\n",
              "    }\n",
              "\n",
              "    .colab-df-convert:hover {\n",
              "      background-color: #E2EBFA;\n",
              "      box-shadow: 0px 1px 2px rgba(60, 64, 67, 0.3), 0px 1px 3px 1px rgba(60, 64, 67, 0.15);\n",
              "      fill: #174EA6;\n",
              "    }\n",
              "\n",
              "    [theme=dark] .colab-df-convert {\n",
              "      background-color: #3B4455;\n",
              "      fill: #D2E3FC;\n",
              "    }\n",
              "\n",
              "    [theme=dark] .colab-df-convert:hover {\n",
              "      background-color: #434B5C;\n",
              "      box-shadow: 0px 1px 3px 1px rgba(0, 0, 0, 0.15);\n",
              "      filter: drop-shadow(0px 1px 2px rgba(0, 0, 0, 0.3));\n",
              "      fill: #FFFFFF;\n",
              "    }\n",
              "  </style>\n",
              "\n",
              "      <script>\n",
              "        const buttonEl =\n",
              "          document.querySelector('#df-bc4e1cbb-0422-42ec-9c26-a10f3cf70bfe button.colab-df-convert');\n",
              "        buttonEl.style.display =\n",
              "          google.colab.kernel.accessAllowed ? 'block' : 'none';\n",
              "\n",
              "        async function convertToInteractive(key) {\n",
              "          const element = document.querySelector('#df-bc4e1cbb-0422-42ec-9c26-a10f3cf70bfe');\n",
              "          const dataTable =\n",
              "            await google.colab.kernel.invokeFunction('convertToInteractive',\n",
              "                                                     [key], {});\n",
              "          if (!dataTable) return;\n",
              "\n",
              "          const docLinkHtml = 'Like what you see? Visit the ' +\n",
              "            '<a target=\"_blank\" href=https://colab.research.google.com/notebooks/data_table.ipynb>data table notebook</a>'\n",
              "            + ' to learn more about interactive tables.';\n",
              "          element.innerHTML = '';\n",
              "          dataTable['output_type'] = 'display_data';\n",
              "          await google.colab.output.renderOutput(dataTable, element);\n",
              "          const docLink = document.createElement('div');\n",
              "          docLink.innerHTML = docLinkHtml;\n",
              "          element.appendChild(docLink);\n",
              "        }\n",
              "      </script>\n",
              "    </div>\n",
              "  </div>\n",
              "  "
            ]
          },
          "metadata": {},
          "execution_count": 6
        }
      ],
      "source": [
        "import numpy as np\n",
        "import pandas as pd\n",
        "from sklearn.pipeline import Pipeline, make_pipeline\n",
        "from sklearn.base import BaseEstimator, TransformerMixin\n",
        "from sklearn.linear_model import LogisticRegression\n",
        "from sklearn.model_selection import train_test_split\n",
        "from sklearn.feature_extraction.text import TfidfVectorizer\n",
        "import itertools\n",
        "\n",
        "import matplotlib.pyplot as plt\n",
        "\n",
        "\n",
        "items = pd.read_csv(\"items.csv\")\n",
        "print(f\"Num unique items: {items.shape[0]}\\nNum unique categories: {len(items['item_type'].unique())}\")\n",
        "items.head(3)"
      ]
    },
    {
      "cell_type": "markdown",
      "metadata": {
        "id": "-gwiHrY9Fs3n"
      },
      "source": [
        "Покупки"
      ]
    },
    {
      "cell_type": "code",
      "source": [
        "!wget 'https://drive.google.com/uc?export=download&id=1XngPllkMD71ENaKetD9PuihFtJUWmpea' -O purchases.csv"
      ],
      "metadata": {
        "id": "aOFsbfa3KPfn",
        "colab": {
          "base_uri": "https://localhost:8080/"
        },
        "outputId": "7b260d16-534d-4b74-ee3f-b2cb5fff39bf"
      },
      "execution_count": 7,
      "outputs": [
        {
          "output_type": "stream",
          "name": "stdout",
          "text": [
            "--2022-04-01 17:14:46--  https://drive.google.com/uc?export=download&id=1XngPllkMD71ENaKetD9PuihFtJUWmpea\n",
            "Resolving drive.google.com (drive.google.com)... 74.125.195.102, 74.125.195.139, 74.125.195.138, ...\n",
            "Connecting to drive.google.com (drive.google.com)|74.125.195.102|:443... connected.\n",
            "HTTP request sent, awaiting response... 303 See Other\n",
            "Location: https://doc-0s-c0-docs.googleusercontent.com/docs/securesc/ha0ro937gcuc7l7deffksulhg5h7mbp1/ocfa0gr3kl83i5d4m5ru70ibqtgsdsah/1648833225000/14904333240138417226/*/1XngPllkMD71ENaKetD9PuihFtJUWmpea?e=download [following]\n",
            "Warning: wildcards not supported in HTTP.\n",
            "--2022-04-01 17:14:47--  https://doc-0s-c0-docs.googleusercontent.com/docs/securesc/ha0ro937gcuc7l7deffksulhg5h7mbp1/ocfa0gr3kl83i5d4m5ru70ibqtgsdsah/1648833225000/14904333240138417226/*/1XngPllkMD71ENaKetD9PuihFtJUWmpea?e=download\n",
            "Resolving doc-0s-c0-docs.googleusercontent.com (doc-0s-c0-docs.googleusercontent.com)... 74.125.199.132, 2607:f8b0:400e:c02::84\n",
            "Connecting to doc-0s-c0-docs.googleusercontent.com (doc-0s-c0-docs.googleusercontent.com)|74.125.199.132|:443... connected.\n",
            "HTTP request sent, awaiting response... 200 OK\n",
            "Length: 20127928 (19M) [text/csv]\n",
            "Saving to: ‘purchases.csv’\n",
            "\n",
            "purchases.csv       100%[===================>]  19.20M  72.0MB/s    in 0.3s    \n",
            "\n",
            "2022-04-01 17:14:48 (72.0 MB/s) - ‘purchases.csv’ saved [20127928/20127928]\n",
            "\n"
          ]
        }
      ]
    },
    {
      "cell_type": "code",
      "execution_count": 8,
      "metadata": {
        "id": "qR2Xpj1AFs3o",
        "outputId": "29409a59-87a9-4cb7-e540-4dcaa0966f2d",
        "colab": {
          "base_uri": "https://localhost:8080/",
          "height": 161
        }
      },
      "outputs": [
        {
          "output_type": "stream",
          "name": "stdout",
          "text": [
            "Num unique users: 32000\n"
          ]
        },
        {
          "output_type": "execute_result",
          "data": {
            "text/plain": [
              "                                user_id  \\\n",
              "0  ed6b1aaf-21df-5b75-9b7f-ed67926cd17c   \n",
              "1  ba82ad84-3a19-5a91-8e1e-7fd87628afb4   \n",
              "2  74a2856d-f0ec-59a6-89f3-1f80b294e852   \n",
              "\n",
              "                                                Name  \n",
              "0  шоколад \"alpen gold\" белый с миндалем и кокосо...  \n",
              "1           пюре тема говядина с гречкой с 8 месяцев  \n",
              "2  колбаса микоян сервелат кремлевский варено-коп...  "
            ],
            "text/html": [
              "\n",
              "  <div id=\"df-051ea16f-255a-4580-ac5d-7a9f559c1d0c\">\n",
              "    <div class=\"colab-df-container\">\n",
              "      <div>\n",
              "<style scoped>\n",
              "    .dataframe tbody tr th:only-of-type {\n",
              "        vertical-align: middle;\n",
              "    }\n",
              "\n",
              "    .dataframe tbody tr th {\n",
              "        vertical-align: top;\n",
              "    }\n",
              "\n",
              "    .dataframe thead th {\n",
              "        text-align: right;\n",
              "    }\n",
              "</style>\n",
              "<table border=\"1\" class=\"dataframe\">\n",
              "  <thead>\n",
              "    <tr style=\"text-align: right;\">\n",
              "      <th></th>\n",
              "      <th>user_id</th>\n",
              "      <th>Name</th>\n",
              "    </tr>\n",
              "  </thead>\n",
              "  <tbody>\n",
              "    <tr>\n",
              "      <th>0</th>\n",
              "      <td>ed6b1aaf-21df-5b75-9b7f-ed67926cd17c</td>\n",
              "      <td>шоколад \"alpen gold\" белый с миндалем и кокосо...</td>\n",
              "    </tr>\n",
              "    <tr>\n",
              "      <th>1</th>\n",
              "      <td>ba82ad84-3a19-5a91-8e1e-7fd87628afb4</td>\n",
              "      <td>пюре тема говядина с гречкой с 8 месяцев</td>\n",
              "    </tr>\n",
              "    <tr>\n",
              "      <th>2</th>\n",
              "      <td>74a2856d-f0ec-59a6-89f3-1f80b294e852</td>\n",
              "      <td>колбаса микоян сервелат кремлевский варено-коп...</td>\n",
              "    </tr>\n",
              "  </tbody>\n",
              "</table>\n",
              "</div>\n",
              "      <button class=\"colab-df-convert\" onclick=\"convertToInteractive('df-051ea16f-255a-4580-ac5d-7a9f559c1d0c')\"\n",
              "              title=\"Convert this dataframe to an interactive table.\"\n",
              "              style=\"display:none;\">\n",
              "        \n",
              "  <svg xmlns=\"http://www.w3.org/2000/svg\" height=\"24px\"viewBox=\"0 0 24 24\"\n",
              "       width=\"24px\">\n",
              "    <path d=\"M0 0h24v24H0V0z\" fill=\"none\"/>\n",
              "    <path d=\"M18.56 5.44l.94 2.06.94-2.06 2.06-.94-2.06-.94-.94-2.06-.94 2.06-2.06.94zm-11 1L8.5 8.5l.94-2.06 2.06-.94-2.06-.94L8.5 2.5l-.94 2.06-2.06.94zm10 10l.94 2.06.94-2.06 2.06-.94-2.06-.94-.94-2.06-.94 2.06-2.06.94z\"/><path d=\"M17.41 7.96l-1.37-1.37c-.4-.4-.92-.59-1.43-.59-.52 0-1.04.2-1.43.59L10.3 9.45l-7.72 7.72c-.78.78-.78 2.05 0 2.83L4 21.41c.39.39.9.59 1.41.59.51 0 1.02-.2 1.41-.59l7.78-7.78 2.81-2.81c.8-.78.8-2.07 0-2.86zM5.41 20L4 18.59l7.72-7.72 1.47 1.35L5.41 20z\"/>\n",
              "  </svg>\n",
              "      </button>\n",
              "      \n",
              "  <style>\n",
              "    .colab-df-container {\n",
              "      display:flex;\n",
              "      flex-wrap:wrap;\n",
              "      gap: 12px;\n",
              "    }\n",
              "\n",
              "    .colab-df-convert {\n",
              "      background-color: #E8F0FE;\n",
              "      border: none;\n",
              "      border-radius: 50%;\n",
              "      cursor: pointer;\n",
              "      display: none;\n",
              "      fill: #1967D2;\n",
              "      height: 32px;\n",
              "      padding: 0 0 0 0;\n",
              "      width: 32px;\n",
              "    }\n",
              "\n",
              "    .colab-df-convert:hover {\n",
              "      background-color: #E2EBFA;\n",
              "      box-shadow: 0px 1px 2px rgba(60, 64, 67, 0.3), 0px 1px 3px 1px rgba(60, 64, 67, 0.15);\n",
              "      fill: #174EA6;\n",
              "    }\n",
              "\n",
              "    [theme=dark] .colab-df-convert {\n",
              "      background-color: #3B4455;\n",
              "      fill: #D2E3FC;\n",
              "    }\n",
              "\n",
              "    [theme=dark] .colab-df-convert:hover {\n",
              "      background-color: #434B5C;\n",
              "      box-shadow: 0px 1px 3px 1px rgba(0, 0, 0, 0.15);\n",
              "      filter: drop-shadow(0px 1px 2px rgba(0, 0, 0, 0.3));\n",
              "      fill: #FFFFFF;\n",
              "    }\n",
              "  </style>\n",
              "\n",
              "      <script>\n",
              "        const buttonEl =\n",
              "          document.querySelector('#df-051ea16f-255a-4580-ac5d-7a9f559c1d0c button.colab-df-convert');\n",
              "        buttonEl.style.display =\n",
              "          google.colab.kernel.accessAllowed ? 'block' : 'none';\n",
              "\n",
              "        async function convertToInteractive(key) {\n",
              "          const element = document.querySelector('#df-051ea16f-255a-4580-ac5d-7a9f559c1d0c');\n",
              "          const dataTable =\n",
              "            await google.colab.kernel.invokeFunction('convertToInteractive',\n",
              "                                                     [key], {});\n",
              "          if (!dataTable) return;\n",
              "\n",
              "          const docLinkHtml = 'Like what you see? Visit the ' +\n",
              "            '<a target=\"_blank\" href=https://colab.research.google.com/notebooks/data_table.ipynb>data table notebook</a>'\n",
              "            + ' to learn more about interactive tables.';\n",
              "          element.innerHTML = '';\n",
              "          dataTable['output_type'] = 'display_data';\n",
              "          await google.colab.output.renderOutput(dataTable, element);\n",
              "          const docLink = document.createElement('div');\n",
              "          docLink.innerHTML = docLinkHtml;\n",
              "          element.appendChild(docLink);\n",
              "        }\n",
              "      </script>\n",
              "    </div>\n",
              "  </div>\n",
              "  "
            ]
          },
          "metadata": {},
          "execution_count": 8
        }
      ],
      "source": [
        "purchases = pd.read_csv(\"purchases.csv\")\n",
        "print(f\"Num unique users: {len(purchases['user_id'].unique())}\")\n",
        "purchases.columns = ['user_id', 'Name']\n",
        "purchases.head(3)"
      ]
    },
    {
      "cell_type": "markdown",
      "metadata": {
        "id": "LnUTOrgoFs3r"
      },
      "source": [
        "**Задача: Нужно провести акцию с предложением чая (со скидкой) 5 тысячам пользователей (всего у нас 32 тысячи)**"
      ]
    },
    {
      "cell_type": "markdown",
      "metadata": {
        "id": "szlrAg3ZFs3r"
      },
      "source": [
        "Варианты решения задачи:\n",
        "1. Случайная выборка\n",
        "2. Что-то более умное (сведем все к задаче lookalike)"
      ]
    },
    {
      "cell_type": "markdown",
      "metadata": {
        "id": "ukLN-yy1Fs3t"
      },
      "source": [
        "Возможный алгоритм:\n",
        "1. Выбираем по базе тех, кто покупал чай ранее - это наши позитивы \n",
        "2. Решаем задачу бинарной классификации (lookalike)\n",
        "3. Скорим нашу аудиторию\n",
        "4. Берем топ 5 тысяч\n",
        "5. Запускаем рекламную кампанию"
      ]
    },
    {
      "cell_type": "markdown",
      "metadata": {
        "id": "ICT3tjGFFs3u"
      },
      "source": [
        "Далее дожидаемся окончания кампании и анализируем результаты"
      ]
    },
    {
      "cell_type": "markdown",
      "metadata": {
        "id": "8ePnH_UsFs3w"
      },
      "source": [
        "Для начала поджойним предметы и покупки"
      ]
    },
    {
      "cell_type": "code",
      "execution_count": 9,
      "metadata": {
        "id": "AmjXz_vqFs3x",
        "outputId": "67176581-94a2-4416-9ae9-3afbf5651906",
        "colab": {
          "base_uri": "https://localhost:8080/",
          "height": 240
        }
      },
      "outputs": [
        {
          "output_type": "execute_result",
          "data": {
            "text/plain": [
              "                                user_id  \\\n",
              "0  ed6b1aaf-21df-5b75-9b7f-ed67926cd17c   \n",
              "1  b4a10859-3f8c-5dc1-8d5d-5977f9aa8bde   \n",
              "2  464053f2-ead4-500e-8486-9d5d66c1bbd7   \n",
              "\n",
              "                                                Name          item_category  \\\n",
              "0  шоколад \"alpen gold\" белый с миндалем и кокосо...  Хлеб, сладости, снеки   \n",
              "1  шоколад \"alpen gold\" белый с миндалем и кокосо...  Хлеб, сладости, снеки   \n",
              "2  шоколад \"alpen gold\" белый с миндалем и кокосо...  Хлеб, сладости, снеки   \n",
              "\n",
              "   item_brand item_weight item_type  \n",
              "0  alpen gold         90г   шоколад  \n",
              "1  alpen gold         90г   шоколад  \n",
              "2  alpen gold         90г   шоколад  "
            ],
            "text/html": [
              "\n",
              "  <div id=\"df-ad7b96f8-7fba-4600-a2b3-4c83a6133e8c\">\n",
              "    <div class=\"colab-df-container\">\n",
              "      <div>\n",
              "<style scoped>\n",
              "    .dataframe tbody tr th:only-of-type {\n",
              "        vertical-align: middle;\n",
              "    }\n",
              "\n",
              "    .dataframe tbody tr th {\n",
              "        vertical-align: top;\n",
              "    }\n",
              "\n",
              "    .dataframe thead th {\n",
              "        text-align: right;\n",
              "    }\n",
              "</style>\n",
              "<table border=\"1\" class=\"dataframe\">\n",
              "  <thead>\n",
              "    <tr style=\"text-align: right;\">\n",
              "      <th></th>\n",
              "      <th>user_id</th>\n",
              "      <th>Name</th>\n",
              "      <th>item_category</th>\n",
              "      <th>item_brand</th>\n",
              "      <th>item_weight</th>\n",
              "      <th>item_type</th>\n",
              "    </tr>\n",
              "  </thead>\n",
              "  <tbody>\n",
              "    <tr>\n",
              "      <th>0</th>\n",
              "      <td>ed6b1aaf-21df-5b75-9b7f-ed67926cd17c</td>\n",
              "      <td>шоколад \"alpen gold\" белый с миндалем и кокосо...</td>\n",
              "      <td>Хлеб, сладости, снеки</td>\n",
              "      <td>alpen gold</td>\n",
              "      <td>90г</td>\n",
              "      <td>шоколад</td>\n",
              "    </tr>\n",
              "    <tr>\n",
              "      <th>1</th>\n",
              "      <td>b4a10859-3f8c-5dc1-8d5d-5977f9aa8bde</td>\n",
              "      <td>шоколад \"alpen gold\" белый с миндалем и кокосо...</td>\n",
              "      <td>Хлеб, сладости, снеки</td>\n",
              "      <td>alpen gold</td>\n",
              "      <td>90г</td>\n",
              "      <td>шоколад</td>\n",
              "    </tr>\n",
              "    <tr>\n",
              "      <th>2</th>\n",
              "      <td>464053f2-ead4-500e-8486-9d5d66c1bbd7</td>\n",
              "      <td>шоколад \"alpen gold\" белый с миндалем и кокосо...</td>\n",
              "      <td>Хлеб, сладости, снеки</td>\n",
              "      <td>alpen gold</td>\n",
              "      <td>90г</td>\n",
              "      <td>шоколад</td>\n",
              "    </tr>\n",
              "  </tbody>\n",
              "</table>\n",
              "</div>\n",
              "      <button class=\"colab-df-convert\" onclick=\"convertToInteractive('df-ad7b96f8-7fba-4600-a2b3-4c83a6133e8c')\"\n",
              "              title=\"Convert this dataframe to an interactive table.\"\n",
              "              style=\"display:none;\">\n",
              "        \n",
              "  <svg xmlns=\"http://www.w3.org/2000/svg\" height=\"24px\"viewBox=\"0 0 24 24\"\n",
              "       width=\"24px\">\n",
              "    <path d=\"M0 0h24v24H0V0z\" fill=\"none\"/>\n",
              "    <path d=\"M18.56 5.44l.94 2.06.94-2.06 2.06-.94-2.06-.94-.94-2.06-.94 2.06-2.06.94zm-11 1L8.5 8.5l.94-2.06 2.06-.94-2.06-.94L8.5 2.5l-.94 2.06-2.06.94zm10 10l.94 2.06.94-2.06 2.06-.94-2.06-.94-.94-2.06-.94 2.06-2.06.94z\"/><path d=\"M17.41 7.96l-1.37-1.37c-.4-.4-.92-.59-1.43-.59-.52 0-1.04.2-1.43.59L10.3 9.45l-7.72 7.72c-.78.78-.78 2.05 0 2.83L4 21.41c.39.39.9.59 1.41.59.51 0 1.02-.2 1.41-.59l7.78-7.78 2.81-2.81c.8-.78.8-2.07 0-2.86zM5.41 20L4 18.59l7.72-7.72 1.47 1.35L5.41 20z\"/>\n",
              "  </svg>\n",
              "      </button>\n",
              "      \n",
              "  <style>\n",
              "    .colab-df-container {\n",
              "      display:flex;\n",
              "      flex-wrap:wrap;\n",
              "      gap: 12px;\n",
              "    }\n",
              "\n",
              "    .colab-df-convert {\n",
              "      background-color: #E8F0FE;\n",
              "      border: none;\n",
              "      border-radius: 50%;\n",
              "      cursor: pointer;\n",
              "      display: none;\n",
              "      fill: #1967D2;\n",
              "      height: 32px;\n",
              "      padding: 0 0 0 0;\n",
              "      width: 32px;\n",
              "    }\n",
              "\n",
              "    .colab-df-convert:hover {\n",
              "      background-color: #E2EBFA;\n",
              "      box-shadow: 0px 1px 2px rgba(60, 64, 67, 0.3), 0px 1px 3px 1px rgba(60, 64, 67, 0.15);\n",
              "      fill: #174EA6;\n",
              "    }\n",
              "\n",
              "    [theme=dark] .colab-df-convert {\n",
              "      background-color: #3B4455;\n",
              "      fill: #D2E3FC;\n",
              "    }\n",
              "\n",
              "    [theme=dark] .colab-df-convert:hover {\n",
              "      background-color: #434B5C;\n",
              "      box-shadow: 0px 1px 3px 1px rgba(0, 0, 0, 0.15);\n",
              "      filter: drop-shadow(0px 1px 2px rgba(0, 0, 0, 0.3));\n",
              "      fill: #FFFFFF;\n",
              "    }\n",
              "  </style>\n",
              "\n",
              "      <script>\n",
              "        const buttonEl =\n",
              "          document.querySelector('#df-ad7b96f8-7fba-4600-a2b3-4c83a6133e8c button.colab-df-convert');\n",
              "        buttonEl.style.display =\n",
              "          google.colab.kernel.accessAllowed ? 'block' : 'none';\n",
              "\n",
              "        async function convertToInteractive(key) {\n",
              "          const element = document.querySelector('#df-ad7b96f8-7fba-4600-a2b3-4c83a6133e8c');\n",
              "          const dataTable =\n",
              "            await google.colab.kernel.invokeFunction('convertToInteractive',\n",
              "                                                     [key], {});\n",
              "          if (!dataTable) return;\n",
              "\n",
              "          const docLinkHtml = 'Like what you see? Visit the ' +\n",
              "            '<a target=\"_blank\" href=https://colab.research.google.com/notebooks/data_table.ipynb>data table notebook</a>'\n",
              "            + ' to learn more about interactive tables.';\n",
              "          element.innerHTML = '';\n",
              "          dataTable['output_type'] = 'display_data';\n",
              "          await google.colab.output.renderOutput(dataTable, element);\n",
              "          const docLink = document.createElement('div');\n",
              "          docLink.innerHTML = docLinkHtml;\n",
              "          element.appendChild(docLink);\n",
              "        }\n",
              "      </script>\n",
              "    </div>\n",
              "  </div>\n",
              "  "
            ]
          },
          "metadata": {},
          "execution_count": 9
        }
      ],
      "source": [
        "purchases = pd.merge(purchases, items)\n",
        "purchases.head(3)"
      ]
    },
    {
      "cell_type": "markdown",
      "metadata": {
        "id": "tSfDBo8rFs30"
      },
      "source": [
        "Теперь посмотрим сколько у нас было пользователей, покупавших ранее чай"
      ]
    },
    {
      "cell_type": "code",
      "execution_count": 10,
      "metadata": {
        "id": "LSEKUfD8Fs31",
        "outputId": "303e00aa-58f7-46a7-f48a-d2b3444d96e2",
        "colab": {
          "base_uri": "https://localhost:8080/"
        }
      },
      "outputs": [
        {
          "output_type": "execute_result",
          "data": {
            "text/plain": [
              "1360"
            ]
          },
          "metadata": {},
          "execution_count": 10
        }
      ],
      "source": [
        "len(purchases[purchases['item_type'] == 'чай']['user_id'].unique())"
      ]
    },
    {
      "cell_type": "markdown",
      "metadata": {
        "id": "S0UivUXKFs34"
      },
      "source": [
        "1360 любителей чая (нам нужно 5000 по условию задачи). \n",
        "\n",
        "Давайте разметим наш датасет (все кто покупал чай в прошлом - метка 1) - это класс 1. \n",
        "\n",
        "Мы предполагаем, что людям со схожими на класс 1 предпочтениями и покупками (но не покупавшие чай), также понравится и чай. На этом предположении мы и двигаемся дальше. "
      ]
    },
    {
      "cell_type": "code",
      "execution_count": 11,
      "metadata": {
        "id": "x5dsxcJ4Fs35",
        "colab": {
          "base_uri": "https://localhost:8080/",
          "height": 337
        },
        "outputId": "f1545187-e103-4b33-8c7d-6a21c1ed1bd4"
      },
      "outputs": [
        {
          "output_type": "execute_result",
          "data": {
            "text/plain": [
              "                                user_id  \\\n",
              "0  ed6b1aaf-21df-5b75-9b7f-ed67926cd17c   \n",
              "1  b4a10859-3f8c-5dc1-8d5d-5977f9aa8bde   \n",
              "2  464053f2-ead4-500e-8486-9d5d66c1bbd7   \n",
              "3  baf7d53b-3170-5984-b05c-c5d2b8788d57   \n",
              "4  ef6beb0e-a09e-5372-aa91-eb467f117aa8   \n",
              "\n",
              "                                                Name          item_category  \\\n",
              "0  шоколад \"alpen gold\" белый с миндалем и кокосо...  Хлеб, сладости, снеки   \n",
              "1  шоколад \"alpen gold\" белый с миндалем и кокосо...  Хлеб, сладости, снеки   \n",
              "2  шоколад \"alpen gold\" белый с миндалем и кокосо...  Хлеб, сладости, снеки   \n",
              "3  шоколад \"alpen gold\" белый с миндалем и кокосо...  Хлеб, сладости, снеки   \n",
              "4  шоколад \"alpen gold\" белый с миндалем и кокосо...  Хлеб, сладости, снеки   \n",
              "\n",
              "   item_brand item_weight item_type  y  \n",
              "0  alpen gold         90г   шоколад  0  \n",
              "1  alpen gold         90г   шоколад  0  \n",
              "2  alpen gold         90г   шоколад  0  \n",
              "3  alpen gold         90г   шоколад  0  \n",
              "4  alpen gold         90г   шоколад  0  "
            ],
            "text/html": [
              "\n",
              "  <div id=\"df-c874be9c-3e38-414c-af4c-2d3cc0d5b267\">\n",
              "    <div class=\"colab-df-container\">\n",
              "      <div>\n",
              "<style scoped>\n",
              "    .dataframe tbody tr th:only-of-type {\n",
              "        vertical-align: middle;\n",
              "    }\n",
              "\n",
              "    .dataframe tbody tr th {\n",
              "        vertical-align: top;\n",
              "    }\n",
              "\n",
              "    .dataframe thead th {\n",
              "        text-align: right;\n",
              "    }\n",
              "</style>\n",
              "<table border=\"1\" class=\"dataframe\">\n",
              "  <thead>\n",
              "    <tr style=\"text-align: right;\">\n",
              "      <th></th>\n",
              "      <th>user_id</th>\n",
              "      <th>Name</th>\n",
              "      <th>item_category</th>\n",
              "      <th>item_brand</th>\n",
              "      <th>item_weight</th>\n",
              "      <th>item_type</th>\n",
              "      <th>y</th>\n",
              "    </tr>\n",
              "  </thead>\n",
              "  <tbody>\n",
              "    <tr>\n",
              "      <th>0</th>\n",
              "      <td>ed6b1aaf-21df-5b75-9b7f-ed67926cd17c</td>\n",
              "      <td>шоколад \"alpen gold\" белый с миндалем и кокосо...</td>\n",
              "      <td>Хлеб, сладости, снеки</td>\n",
              "      <td>alpen gold</td>\n",
              "      <td>90г</td>\n",
              "      <td>шоколад</td>\n",
              "      <td>0</td>\n",
              "    </tr>\n",
              "    <tr>\n",
              "      <th>1</th>\n",
              "      <td>b4a10859-3f8c-5dc1-8d5d-5977f9aa8bde</td>\n",
              "      <td>шоколад \"alpen gold\" белый с миндалем и кокосо...</td>\n",
              "      <td>Хлеб, сладости, снеки</td>\n",
              "      <td>alpen gold</td>\n",
              "      <td>90г</td>\n",
              "      <td>шоколад</td>\n",
              "      <td>0</td>\n",
              "    </tr>\n",
              "    <tr>\n",
              "      <th>2</th>\n",
              "      <td>464053f2-ead4-500e-8486-9d5d66c1bbd7</td>\n",
              "      <td>шоколад \"alpen gold\" белый с миндалем и кокосо...</td>\n",
              "      <td>Хлеб, сладости, снеки</td>\n",
              "      <td>alpen gold</td>\n",
              "      <td>90г</td>\n",
              "      <td>шоколад</td>\n",
              "      <td>0</td>\n",
              "    </tr>\n",
              "    <tr>\n",
              "      <th>3</th>\n",
              "      <td>baf7d53b-3170-5984-b05c-c5d2b8788d57</td>\n",
              "      <td>шоколад \"alpen gold\" белый с миндалем и кокосо...</td>\n",
              "      <td>Хлеб, сладости, снеки</td>\n",
              "      <td>alpen gold</td>\n",
              "      <td>90г</td>\n",
              "      <td>шоколад</td>\n",
              "      <td>0</td>\n",
              "    </tr>\n",
              "    <tr>\n",
              "      <th>4</th>\n",
              "      <td>ef6beb0e-a09e-5372-aa91-eb467f117aa8</td>\n",
              "      <td>шоколад \"alpen gold\" белый с миндалем и кокосо...</td>\n",
              "      <td>Хлеб, сладости, снеки</td>\n",
              "      <td>alpen gold</td>\n",
              "      <td>90г</td>\n",
              "      <td>шоколад</td>\n",
              "      <td>0</td>\n",
              "    </tr>\n",
              "  </tbody>\n",
              "</table>\n",
              "</div>\n",
              "      <button class=\"colab-df-convert\" onclick=\"convertToInteractive('df-c874be9c-3e38-414c-af4c-2d3cc0d5b267')\"\n",
              "              title=\"Convert this dataframe to an interactive table.\"\n",
              "              style=\"display:none;\">\n",
              "        \n",
              "  <svg xmlns=\"http://www.w3.org/2000/svg\" height=\"24px\"viewBox=\"0 0 24 24\"\n",
              "       width=\"24px\">\n",
              "    <path d=\"M0 0h24v24H0V0z\" fill=\"none\"/>\n",
              "    <path d=\"M18.56 5.44l.94 2.06.94-2.06 2.06-.94-2.06-.94-.94-2.06-.94 2.06-2.06.94zm-11 1L8.5 8.5l.94-2.06 2.06-.94-2.06-.94L8.5 2.5l-.94 2.06-2.06.94zm10 10l.94 2.06.94-2.06 2.06-.94-2.06-.94-.94-2.06-.94 2.06-2.06.94z\"/><path d=\"M17.41 7.96l-1.37-1.37c-.4-.4-.92-.59-1.43-.59-.52 0-1.04.2-1.43.59L10.3 9.45l-7.72 7.72c-.78.78-.78 2.05 0 2.83L4 21.41c.39.39.9.59 1.41.59.51 0 1.02-.2 1.41-.59l7.78-7.78 2.81-2.81c.8-.78.8-2.07 0-2.86zM5.41 20L4 18.59l7.72-7.72 1.47 1.35L5.41 20z\"/>\n",
              "  </svg>\n",
              "      </button>\n",
              "      \n",
              "  <style>\n",
              "    .colab-df-container {\n",
              "      display:flex;\n",
              "      flex-wrap:wrap;\n",
              "      gap: 12px;\n",
              "    }\n",
              "\n",
              "    .colab-df-convert {\n",
              "      background-color: #E8F0FE;\n",
              "      border: none;\n",
              "      border-radius: 50%;\n",
              "      cursor: pointer;\n",
              "      display: none;\n",
              "      fill: #1967D2;\n",
              "      height: 32px;\n",
              "      padding: 0 0 0 0;\n",
              "      width: 32px;\n",
              "    }\n",
              "\n",
              "    .colab-df-convert:hover {\n",
              "      background-color: #E2EBFA;\n",
              "      box-shadow: 0px 1px 2px rgba(60, 64, 67, 0.3), 0px 1px 3px 1px rgba(60, 64, 67, 0.15);\n",
              "      fill: #174EA6;\n",
              "    }\n",
              "\n",
              "    [theme=dark] .colab-df-convert {\n",
              "      background-color: #3B4455;\n",
              "      fill: #D2E3FC;\n",
              "    }\n",
              "\n",
              "    [theme=dark] .colab-df-convert:hover {\n",
              "      background-color: #434B5C;\n",
              "      box-shadow: 0px 1px 3px 1px rgba(0, 0, 0, 0.15);\n",
              "      filter: drop-shadow(0px 1px 2px rgba(0, 0, 0, 0.3));\n",
              "      fill: #FFFFFF;\n",
              "    }\n",
              "  </style>\n",
              "\n",
              "      <script>\n",
              "        const buttonEl =\n",
              "          document.querySelector('#df-c874be9c-3e38-414c-af4c-2d3cc0d5b267 button.colab-df-convert');\n",
              "        buttonEl.style.display =\n",
              "          google.colab.kernel.accessAllowed ? 'block' : 'none';\n",
              "\n",
              "        async function convertToInteractive(key) {\n",
              "          const element = document.querySelector('#df-c874be9c-3e38-414c-af4c-2d3cc0d5b267');\n",
              "          const dataTable =\n",
              "            await google.colab.kernel.invokeFunction('convertToInteractive',\n",
              "                                                     [key], {});\n",
              "          if (!dataTable) return;\n",
              "\n",
              "          const docLinkHtml = 'Like what you see? Visit the ' +\n",
              "            '<a target=\"_blank\" href=https://colab.research.google.com/notebooks/data_table.ipynb>data table notebook</a>'\n",
              "            + ' to learn more about interactive tables.';\n",
              "          element.innerHTML = '';\n",
              "          dataTable['output_type'] = 'display_data';\n",
              "          await google.colab.output.renderOutput(dataTable, element);\n",
              "          const docLink = document.createElement('div');\n",
              "          docLink.innerHTML = docLinkHtml;\n",
              "          element.appendChild(docLink);\n",
              "        }\n",
              "      </script>\n",
              "    </div>\n",
              "  </div>\n",
              "  "
            ]
          },
          "metadata": {},
          "execution_count": 11
        }
      ],
      "source": [
        "purchases['y'] = purchases['item_type'].apply(lambda x: 1 if x == 'чай' else 0)\n",
        "purchases.head()"
      ]
    },
    {
      "cell_type": "markdown",
      "metadata": {
        "id": "CgRMOHhFFs36"
      },
      "source": [
        "Попробуем для начала использовать просто список прошлых покупок (поле Name)"
      ]
    },
    {
      "cell_type": "code",
      "execution_count": 12,
      "metadata": {
        "id": "ASrUyxx1Fs37",
        "outputId": "dcd9ea13-e393-4272-b3a5-4d6a38b4ebdd",
        "colab": {
          "base_uri": "https://localhost:8080/",
          "height": 143
        }
      },
      "outputs": [
        {
          "output_type": "execute_result",
          "data": {
            "text/plain": [
              "                                user_id  \\\n",
              "0  00002f01-66e4-5ab8-8d1a-1562a4ddd418   \n",
              "1  0000fed8-b063-51ef-8ca4-c42c5bd022ad   \n",
              "2  0004cfe8-bcb2-5a2c-904b-643e0469cbe3   \n",
              "\n",
              "                                           purchases  y  \n",
              "0  [зубная паста splat stress off антистресс 75мл...  0  \n",
              "1  [шоколад schogetten black & white молочный с к...  0  \n",
              "2  [шоколад воздушный темный 85г, сыр белебеевски...  0  "
            ],
            "text/html": [
              "\n",
              "  <div id=\"df-a40b2641-3870-48e7-b1fb-1f1b1c546c76\">\n",
              "    <div class=\"colab-df-container\">\n",
              "      <div>\n",
              "<style scoped>\n",
              "    .dataframe tbody tr th:only-of-type {\n",
              "        vertical-align: middle;\n",
              "    }\n",
              "\n",
              "    .dataframe tbody tr th {\n",
              "        vertical-align: top;\n",
              "    }\n",
              "\n",
              "    .dataframe thead th {\n",
              "        text-align: right;\n",
              "    }\n",
              "</style>\n",
              "<table border=\"1\" class=\"dataframe\">\n",
              "  <thead>\n",
              "    <tr style=\"text-align: right;\">\n",
              "      <th></th>\n",
              "      <th>user_id</th>\n",
              "      <th>purchases</th>\n",
              "      <th>y</th>\n",
              "    </tr>\n",
              "  </thead>\n",
              "  <tbody>\n",
              "    <tr>\n",
              "      <th>0</th>\n",
              "      <td>00002f01-66e4-5ab8-8d1a-1562a4ddd418</td>\n",
              "      <td>[зубная паста splat stress off антистресс 75мл...</td>\n",
              "      <td>0</td>\n",
              "    </tr>\n",
              "    <tr>\n",
              "      <th>1</th>\n",
              "      <td>0000fed8-b063-51ef-8ca4-c42c5bd022ad</td>\n",
              "      <td>[шоколад schogetten black &amp; white молочный с к...</td>\n",
              "      <td>0</td>\n",
              "    </tr>\n",
              "    <tr>\n",
              "      <th>2</th>\n",
              "      <td>0004cfe8-bcb2-5a2c-904b-643e0469cbe3</td>\n",
              "      <td>[шоколад воздушный темный 85г, сыр белебеевски...</td>\n",
              "      <td>0</td>\n",
              "    </tr>\n",
              "  </tbody>\n",
              "</table>\n",
              "</div>\n",
              "      <button class=\"colab-df-convert\" onclick=\"convertToInteractive('df-a40b2641-3870-48e7-b1fb-1f1b1c546c76')\"\n",
              "              title=\"Convert this dataframe to an interactive table.\"\n",
              "              style=\"display:none;\">\n",
              "        \n",
              "  <svg xmlns=\"http://www.w3.org/2000/svg\" height=\"24px\"viewBox=\"0 0 24 24\"\n",
              "       width=\"24px\">\n",
              "    <path d=\"M0 0h24v24H0V0z\" fill=\"none\"/>\n",
              "    <path d=\"M18.56 5.44l.94 2.06.94-2.06 2.06-.94-2.06-.94-.94-2.06-.94 2.06-2.06.94zm-11 1L8.5 8.5l.94-2.06 2.06-.94-2.06-.94L8.5 2.5l-.94 2.06-2.06.94zm10 10l.94 2.06.94-2.06 2.06-.94-2.06-.94-.94-2.06-.94 2.06-2.06.94z\"/><path d=\"M17.41 7.96l-1.37-1.37c-.4-.4-.92-.59-1.43-.59-.52 0-1.04.2-1.43.59L10.3 9.45l-7.72 7.72c-.78.78-.78 2.05 0 2.83L4 21.41c.39.39.9.59 1.41.59.51 0 1.02-.2 1.41-.59l7.78-7.78 2.81-2.81c.8-.78.8-2.07 0-2.86zM5.41 20L4 18.59l7.72-7.72 1.47 1.35L5.41 20z\"/>\n",
              "  </svg>\n",
              "      </button>\n",
              "      \n",
              "  <style>\n",
              "    .colab-df-container {\n",
              "      display:flex;\n",
              "      flex-wrap:wrap;\n",
              "      gap: 12px;\n",
              "    }\n",
              "\n",
              "    .colab-df-convert {\n",
              "      background-color: #E8F0FE;\n",
              "      border: none;\n",
              "      border-radius: 50%;\n",
              "      cursor: pointer;\n",
              "      display: none;\n",
              "      fill: #1967D2;\n",
              "      height: 32px;\n",
              "      padding: 0 0 0 0;\n",
              "      width: 32px;\n",
              "    }\n",
              "\n",
              "    .colab-df-convert:hover {\n",
              "      background-color: #E2EBFA;\n",
              "      box-shadow: 0px 1px 2px rgba(60, 64, 67, 0.3), 0px 1px 3px 1px rgba(60, 64, 67, 0.15);\n",
              "      fill: #174EA6;\n",
              "    }\n",
              "\n",
              "    [theme=dark] .colab-df-convert {\n",
              "      background-color: #3B4455;\n",
              "      fill: #D2E3FC;\n",
              "    }\n",
              "\n",
              "    [theme=dark] .colab-df-convert:hover {\n",
              "      background-color: #434B5C;\n",
              "      box-shadow: 0px 1px 3px 1px rgba(0, 0, 0, 0.15);\n",
              "      filter: drop-shadow(0px 1px 2px rgba(0, 0, 0, 0.3));\n",
              "      fill: #FFFFFF;\n",
              "    }\n",
              "  </style>\n",
              "\n",
              "      <script>\n",
              "        const buttonEl =\n",
              "          document.querySelector('#df-a40b2641-3870-48e7-b1fb-1f1b1c546c76 button.colab-df-convert');\n",
              "        buttonEl.style.display =\n",
              "          google.colab.kernel.accessAllowed ? 'block' : 'none';\n",
              "\n",
              "        async function convertToInteractive(key) {\n",
              "          const element = document.querySelector('#df-a40b2641-3870-48e7-b1fb-1f1b1c546c76');\n",
              "          const dataTable =\n",
              "            await google.colab.kernel.invokeFunction('convertToInteractive',\n",
              "                                                     [key], {});\n",
              "          if (!dataTable) return;\n",
              "\n",
              "          const docLinkHtml = 'Like what you see? Visit the ' +\n",
              "            '<a target=\"_blank\" href=https://colab.research.google.com/notebooks/data_table.ipynb>data table notebook</a>'\n",
              "            + ' to learn more about interactive tables.';\n",
              "          element.innerHTML = '';\n",
              "          dataTable['output_type'] = 'display_data';\n",
              "          await google.colab.output.renderOutput(dataTable, element);\n",
              "          const docLink = document.createElement('div');\n",
              "          docLink.innerHTML = docLinkHtml;\n",
              "          element.appendChild(docLink);\n",
              "        }\n",
              "      </script>\n",
              "    </div>\n",
              "  </div>\n",
              "  "
            ]
          },
          "metadata": {},
          "execution_count": 12
        }
      ],
      "source": [
        "X = purchases.groupby(['user_id']).agg({\n",
        "    'Name': lambda x: list(x),\n",
        "    'y': lambda x: max(x)\n",
        "})\n",
        "\n",
        "X['user_id'] = [i for i in X.index.values]\n",
        "X.columns = ['purchases', 'y', 'user_id']\n",
        "X = X[['user_id', 'purchases', 'y']]\n",
        "X.index = range(len(X))\n",
        "X.head(3)"
      ]
    },
    {
      "cell_type": "markdown",
      "metadata": {
        "id": "nAbkwleUFs39"
      },
      "source": [
        "Посмотрим на соотношение классов (P vs U), где P - позитивы и U - все остальные неразмеченные данные"
      ]
    },
    {
      "cell_type": "code",
      "execution_count": 13,
      "metadata": {
        "id": "oliGRMt9Fs3-",
        "outputId": "06c2e1a7-9d9d-485a-b973-e5e60597ff01",
        "colab": {
          "base_uri": "https://localhost:8080/"
        }
      },
      "outputs": [
        {
          "output_type": "execute_result",
          "data": {
            "text/plain": [
              "0    30640\n",
              "1     1360\n",
              "Name: y, dtype: int64"
            ]
          },
          "metadata": {},
          "execution_count": 13
        }
      ],
      "source": [
        "X['y'].value_counts()"
      ]
    },
    {
      "cell_type": "code",
      "execution_count": 14,
      "metadata": {
        "id": "DFN9wzFIFs4B",
        "colab": {
          "base_uri": "https://localhost:8080/",
          "height": 206
        },
        "outputId": "2103fd98-8cce-4934-c3ee-7bcc90aa1d6d"
      },
      "outputs": [
        {
          "output_type": "execute_result",
          "data": {
            "text/plain": [
              "                                user_id  \\\n",
              "0  00002f01-66e4-5ab8-8d1a-1562a4ddd418   \n",
              "1  0000fed8-b063-51ef-8ca4-c42c5bd022ad   \n",
              "2  0004cfe8-bcb2-5a2c-904b-643e0469cbe3   \n",
              "3  000b8172-b96d-5c99-a418-fe1ca156bee1   \n",
              "4  000bf80e-219c-53b7-a000-6c3474c2bd14   \n",
              "\n",
              "                                           purchases  y  \n",
              "0  зубная паста splat stress off антистресс 75мл ...  0  \n",
              "1  шоколад schogetten black & white молочный с ку...  0  \n",
              "2  шоколад воздушный темный 85г сыр белебеевский ...  0  \n",
              "3  шампунь pantene pro-v интенсивное восстановлен...  0  \n",
              "4  шоколад schogetten black & white молочный с ку...  0  "
            ],
            "text/html": [
              "\n",
              "  <div id=\"df-cd6f70a4-e959-46bd-ae76-2a648ae13cdd\">\n",
              "    <div class=\"colab-df-container\">\n",
              "      <div>\n",
              "<style scoped>\n",
              "    .dataframe tbody tr th:only-of-type {\n",
              "        vertical-align: middle;\n",
              "    }\n",
              "\n",
              "    .dataframe tbody tr th {\n",
              "        vertical-align: top;\n",
              "    }\n",
              "\n",
              "    .dataframe thead th {\n",
              "        text-align: right;\n",
              "    }\n",
              "</style>\n",
              "<table border=\"1\" class=\"dataframe\">\n",
              "  <thead>\n",
              "    <tr style=\"text-align: right;\">\n",
              "      <th></th>\n",
              "      <th>user_id</th>\n",
              "      <th>purchases</th>\n",
              "      <th>y</th>\n",
              "    </tr>\n",
              "  </thead>\n",
              "  <tbody>\n",
              "    <tr>\n",
              "      <th>0</th>\n",
              "      <td>00002f01-66e4-5ab8-8d1a-1562a4ddd418</td>\n",
              "      <td>зубная паста splat stress off антистресс 75мл ...</td>\n",
              "      <td>0</td>\n",
              "    </tr>\n",
              "    <tr>\n",
              "      <th>1</th>\n",
              "      <td>0000fed8-b063-51ef-8ca4-c42c5bd022ad</td>\n",
              "      <td>шоколад schogetten black &amp; white молочный с ку...</td>\n",
              "      <td>0</td>\n",
              "    </tr>\n",
              "    <tr>\n",
              "      <th>2</th>\n",
              "      <td>0004cfe8-bcb2-5a2c-904b-643e0469cbe3</td>\n",
              "      <td>шоколад воздушный темный 85г сыр белебеевский ...</td>\n",
              "      <td>0</td>\n",
              "    </tr>\n",
              "    <tr>\n",
              "      <th>3</th>\n",
              "      <td>000b8172-b96d-5c99-a418-fe1ca156bee1</td>\n",
              "      <td>шампунь pantene pro-v интенсивное восстановлен...</td>\n",
              "      <td>0</td>\n",
              "    </tr>\n",
              "    <tr>\n",
              "      <th>4</th>\n",
              "      <td>000bf80e-219c-53b7-a000-6c3474c2bd14</td>\n",
              "      <td>шоколад schogetten black &amp; white молочный с ку...</td>\n",
              "      <td>0</td>\n",
              "    </tr>\n",
              "  </tbody>\n",
              "</table>\n",
              "</div>\n",
              "      <button class=\"colab-df-convert\" onclick=\"convertToInteractive('df-cd6f70a4-e959-46bd-ae76-2a648ae13cdd')\"\n",
              "              title=\"Convert this dataframe to an interactive table.\"\n",
              "              style=\"display:none;\">\n",
              "        \n",
              "  <svg xmlns=\"http://www.w3.org/2000/svg\" height=\"24px\"viewBox=\"0 0 24 24\"\n",
              "       width=\"24px\">\n",
              "    <path d=\"M0 0h24v24H0V0z\" fill=\"none\"/>\n",
              "    <path d=\"M18.56 5.44l.94 2.06.94-2.06 2.06-.94-2.06-.94-.94-2.06-.94 2.06-2.06.94zm-11 1L8.5 8.5l.94-2.06 2.06-.94-2.06-.94L8.5 2.5l-.94 2.06-2.06.94zm10 10l.94 2.06.94-2.06 2.06-.94-2.06-.94-.94-2.06-.94 2.06-2.06.94z\"/><path d=\"M17.41 7.96l-1.37-1.37c-.4-.4-.92-.59-1.43-.59-.52 0-1.04.2-1.43.59L10.3 9.45l-7.72 7.72c-.78.78-.78 2.05 0 2.83L4 21.41c.39.39.9.59 1.41.59.51 0 1.02-.2 1.41-.59l7.78-7.78 2.81-2.81c.8-.78.8-2.07 0-2.86zM5.41 20L4 18.59l7.72-7.72 1.47 1.35L5.41 20z\"/>\n",
              "  </svg>\n",
              "      </button>\n",
              "      \n",
              "  <style>\n",
              "    .colab-df-container {\n",
              "      display:flex;\n",
              "      flex-wrap:wrap;\n",
              "      gap: 12px;\n",
              "    }\n",
              "\n",
              "    .colab-df-convert {\n",
              "      background-color: #E8F0FE;\n",
              "      border: none;\n",
              "      border-radius: 50%;\n",
              "      cursor: pointer;\n",
              "      display: none;\n",
              "      fill: #1967D2;\n",
              "      height: 32px;\n",
              "      padding: 0 0 0 0;\n",
              "      width: 32px;\n",
              "    }\n",
              "\n",
              "    .colab-df-convert:hover {\n",
              "      background-color: #E2EBFA;\n",
              "      box-shadow: 0px 1px 2px rgba(60, 64, 67, 0.3), 0px 1px 3px 1px rgba(60, 64, 67, 0.15);\n",
              "      fill: #174EA6;\n",
              "    }\n",
              "\n",
              "    [theme=dark] .colab-df-convert {\n",
              "      background-color: #3B4455;\n",
              "      fill: #D2E3FC;\n",
              "    }\n",
              "\n",
              "    [theme=dark] .colab-df-convert:hover {\n",
              "      background-color: #434B5C;\n",
              "      box-shadow: 0px 1px 3px 1px rgba(0, 0, 0, 0.15);\n",
              "      filter: drop-shadow(0px 1px 2px rgba(0, 0, 0, 0.3));\n",
              "      fill: #FFFFFF;\n",
              "    }\n",
              "  </style>\n",
              "\n",
              "      <script>\n",
              "        const buttonEl =\n",
              "          document.querySelector('#df-cd6f70a4-e959-46bd-ae76-2a648ae13cdd button.colab-df-convert');\n",
              "        buttonEl.style.display =\n",
              "          google.colab.kernel.accessAllowed ? 'block' : 'none';\n",
              "\n",
              "        async function convertToInteractive(key) {\n",
              "          const element = document.querySelector('#df-cd6f70a4-e959-46bd-ae76-2a648ae13cdd');\n",
              "          const dataTable =\n",
              "            await google.colab.kernel.invokeFunction('convertToInteractive',\n",
              "                                                     [key], {});\n",
              "          if (!dataTable) return;\n",
              "\n",
              "          const docLinkHtml = 'Like what you see? Visit the ' +\n",
              "            '<a target=\"_blank\" href=https://colab.research.google.com/notebooks/data_table.ipynb>data table notebook</a>'\n",
              "            + ' to learn more about interactive tables.';\n",
              "          element.innerHTML = '';\n",
              "          dataTable['output_type'] = 'display_data';\n",
              "          await google.colab.output.renderOutput(dataTable, element);\n",
              "          const docLink = document.createElement('div');\n",
              "          docLink.innerHTML = docLinkHtml;\n",
              "          element.appendChild(docLink);\n",
              "        }\n",
              "      </script>\n",
              "    </div>\n",
              "  </div>\n",
              "  "
            ]
          },
          "metadata": {},
          "execution_count": 14
        }
      ],
      "source": [
        "X['purchases'] = X['purchases'].apply(lambda x: \" \".join(x), 1)\n",
        "X.head()"
      ]
    },
    {
      "cell_type": "markdown",
      "metadata": {
        "id": "Tl6VXqkaFs4C"
      },
      "source": [
        "Будем используем обычный random negative sample"
      ]
    },
    {
      "cell_type": "code",
      "execution_count": 15,
      "metadata": {
        "id": "vA-IOIFJFs4E"
      },
      "outputs": [],
      "source": [
        "# разделим данные на train/test\n",
        "X_train, X_test, y_train, y_test = train_test_split(X, X['y'], random_state=0)"
      ]
    },
    {
      "cell_type": "markdown",
      "metadata": {
        "id": "SFXNZQlZFs4F"
      },
      "source": [
        "У нас есть разметка (известные позитивы) и поле purchases (список покупок) из которого мы можем извлекать признаки. В качестве признаков будем использовать tfidf"
      ]
    },
    {
      "cell_type": "code",
      "execution_count": 16,
      "metadata": {
        "id": "pUvZyXOuFs4H"
      },
      "outputs": [],
      "source": [
        "# соберем наш простой pipeline, но нам понадобится написать класс для выбора нужного поля\n",
        "\n",
        "class FeatureSelector(BaseEstimator, TransformerMixin):\n",
        "    def __init__(self, column):\n",
        "        self.column = column\n",
        "\n",
        "    def fit(self, X, y=None):\n",
        "        return self\n",
        "\n",
        "    def transform(self, X, y=None):\n",
        "        return X[self.column]\n",
        "\n",
        "pipeline = Pipeline([('purchases_selector', FeatureSelector(column='purchases')), \n",
        "                     ('purchases_tfidf', TfidfVectorizer()), \n",
        "                     ('clf', LogisticRegression())])"
      ]
    },
    {
      "cell_type": "code",
      "execution_count": 17,
      "metadata": {
        "id": "qikxjg_8Fs4J",
        "outputId": "a13c79c0-c5dd-4f5d-dd90-c65d6f0a39ac",
        "colab": {
          "base_uri": "https://localhost:8080/"
        }
      },
      "outputs": [
        {
          "output_type": "execute_result",
          "data": {
            "text/plain": [
              "Pipeline(steps=[('purchases_selector', FeatureSelector(column='purchases')),\n",
              "                ('purchases_tfidf', TfidfVectorizer()),\n",
              "                ('clf', LogisticRegression())])"
            ]
          },
          "metadata": {},
          "execution_count": 17
        }
      ],
      "source": [
        "# обучим наш пайплайн\n",
        "pipeline.fit(X_train, y_train)"
      ]
    },
    {
      "cell_type": "code",
      "source": [
        "tfidf = pipeline.named_steps['purchases_tfidf']\n",
        "len(tfidf.get_feature_names())"
      ],
      "metadata": {
        "colab": {
          "base_uri": "https://localhost:8080/"
        },
        "id": "27_f10nsNkeJ",
        "outputId": "1e892b12-35d5-4ded-c49e-578bb3144439"
      },
      "execution_count": 18,
      "outputs": [
        {
          "output_type": "stream",
          "name": "stderr",
          "text": [
            "/usr/local/lib/python3.7/dist-packages/sklearn/utils/deprecation.py:87: FutureWarning: Function get_feature_names is deprecated; get_feature_names is deprecated in 1.0 and will be removed in 1.2. Please use get_feature_names_out instead.\n",
            "  warnings.warn(msg, category=FutureWarning)\n"
          ]
        },
        {
          "output_type": "execute_result",
          "data": {
            "text/plain": [
              "5848"
            ]
          },
          "metadata": {},
          "execution_count": 18
        }
      ]
    },
    {
      "cell_type": "code",
      "source": [
        "df = pd.DataFrame.sparse.from_spmatrix(tfidf.transform(X_test['purchases'].iloc[:10]))\n",
        "df = pd.DataFrame(df)\n",
        "df.columns = tfidf.get_feature_names_out()\n",
        "df"
      ],
      "metadata": {
        "colab": {
          "base_uri": "https://localhost:8080/",
          "height": 456
        },
        "id": "aA740YsLMsWR",
        "outputId": "357efa48-3b97-4953-8255-b0e4d434929e"
      },
      "execution_count": 19,
      "outputs": [
        {
          "output_type": "execute_result",
          "data": {
            "text/plain": [
              "   000   04   05  0601   0г  0кг   0л  0манго   10      100  ...  японски  \\\n",
              "0  0.0  0.0  0.0   0.0  0.0  0.0  0.0     0.0  0.0  0.00000  ...      0.0   \n",
              "1  0.0  0.0  0.0   0.0  0.0  0.0  0.0     0.0  0.0  0.00000  ...      0.0   \n",
              "2  0.0  0.0  0.0   0.0  0.0  0.0  0.0     0.0  0.0  0.15099  ...      0.0   \n",
              "3  0.0  0.0  0.0   0.0  0.0  0.0  0.0     0.0  0.0  0.00000  ...      0.0   \n",
              "4  0.0  0.0  0.0   0.0  0.0  0.0  0.0     0.0  0.0  0.00000  ...      0.0   \n",
              "5  0.0  0.0  0.0   0.0  0.0  0.0  0.0     0.0  0.0  0.00000  ...      0.0   \n",
              "6  0.0  0.0  0.0   0.0  0.0  0.0  0.0     0.0  0.0  0.00000  ...      0.0   \n",
              "7  0.0  0.0  0.0   0.0  0.0  0.0  0.0     0.0  0.0  0.00000  ...      0.0   \n",
              "8  0.0  0.0  0.0   0.0  0.0  0.0  0.0     0.0  0.0  0.00000  ...      0.0   \n",
              "9  0.0  0.0  0.0   0.0  0.0  0.0  0.0     0.0  0.0  0.00000  ...      0.0   \n",
              "\n",
              "   японский  японского  японской  яркие  яркий  яркость  ярлычка  ярлычками  \\\n",
              "0       0.0        0.0       0.0    0.0    0.0      0.0      0.0        0.0   \n",
              "1       0.0        0.0       0.0    0.0    0.0      0.0      0.0        0.0   \n",
              "2       0.0        0.0       0.0    0.0    0.0      0.0      0.0        0.0   \n",
              "3       0.0        0.0       0.0    0.0    0.0      0.0      0.0        0.0   \n",
              "4       0.0        0.0       0.0    0.0    0.0      0.0      0.0        0.0   \n",
              "5       0.0        0.0       0.0    0.0    0.0      0.0      0.0        0.0   \n",
              "6       0.0        0.0       0.0    0.0    0.0      0.0      0.0        0.0   \n",
              "7       0.0        0.0       0.0    0.0    0.0      0.0      0.0        0.0   \n",
              "8       0.0        0.0       0.0    0.0    0.0      0.0      0.0        0.0   \n",
              "9       0.0        0.0       0.0    0.0    0.0      0.0      0.0        0.0   \n",
              "\n",
              "   яшкино  \n",
              "0     0.0  \n",
              "1     0.0  \n",
              "2     0.0  \n",
              "3     0.0  \n",
              "4     0.0  \n",
              "5     0.0  \n",
              "6     0.0  \n",
              "7     0.0  \n",
              "8     0.0  \n",
              "9     0.0  \n",
              "\n",
              "[10 rows x 5848 columns]"
            ],
            "text/html": [
              "\n",
              "  <div id=\"df-a68128f4-5c1d-4a4a-ac76-6aaa245e54ea\">\n",
              "    <div class=\"colab-df-container\">\n",
              "      <div>\n",
              "<style scoped>\n",
              "    .dataframe tbody tr th:only-of-type {\n",
              "        vertical-align: middle;\n",
              "    }\n",
              "\n",
              "    .dataframe tbody tr th {\n",
              "        vertical-align: top;\n",
              "    }\n",
              "\n",
              "    .dataframe thead th {\n",
              "        text-align: right;\n",
              "    }\n",
              "</style>\n",
              "<table border=\"1\" class=\"dataframe\">\n",
              "  <thead>\n",
              "    <tr style=\"text-align: right;\">\n",
              "      <th></th>\n",
              "      <th>000</th>\n",
              "      <th>04</th>\n",
              "      <th>05</th>\n",
              "      <th>0601</th>\n",
              "      <th>0г</th>\n",
              "      <th>0кг</th>\n",
              "      <th>0л</th>\n",
              "      <th>0манго</th>\n",
              "      <th>10</th>\n",
              "      <th>100</th>\n",
              "      <th>...</th>\n",
              "      <th>японски</th>\n",
              "      <th>японский</th>\n",
              "      <th>японского</th>\n",
              "      <th>японской</th>\n",
              "      <th>яркие</th>\n",
              "      <th>яркий</th>\n",
              "      <th>яркость</th>\n",
              "      <th>ярлычка</th>\n",
              "      <th>ярлычками</th>\n",
              "      <th>яшкино</th>\n",
              "    </tr>\n",
              "  </thead>\n",
              "  <tbody>\n",
              "    <tr>\n",
              "      <th>0</th>\n",
              "      <td>0.0</td>\n",
              "      <td>0.0</td>\n",
              "      <td>0.0</td>\n",
              "      <td>0.0</td>\n",
              "      <td>0.0</td>\n",
              "      <td>0.0</td>\n",
              "      <td>0.0</td>\n",
              "      <td>0.0</td>\n",
              "      <td>0.0</td>\n",
              "      <td>0.00000</td>\n",
              "      <td>...</td>\n",
              "      <td>0.0</td>\n",
              "      <td>0.0</td>\n",
              "      <td>0.0</td>\n",
              "      <td>0.0</td>\n",
              "      <td>0.0</td>\n",
              "      <td>0.0</td>\n",
              "      <td>0.0</td>\n",
              "      <td>0.0</td>\n",
              "      <td>0.0</td>\n",
              "      <td>0.0</td>\n",
              "    </tr>\n",
              "    <tr>\n",
              "      <th>1</th>\n",
              "      <td>0.0</td>\n",
              "      <td>0.0</td>\n",
              "      <td>0.0</td>\n",
              "      <td>0.0</td>\n",
              "      <td>0.0</td>\n",
              "      <td>0.0</td>\n",
              "      <td>0.0</td>\n",
              "      <td>0.0</td>\n",
              "      <td>0.0</td>\n",
              "      <td>0.00000</td>\n",
              "      <td>...</td>\n",
              "      <td>0.0</td>\n",
              "      <td>0.0</td>\n",
              "      <td>0.0</td>\n",
              "      <td>0.0</td>\n",
              "      <td>0.0</td>\n",
              "      <td>0.0</td>\n",
              "      <td>0.0</td>\n",
              "      <td>0.0</td>\n",
              "      <td>0.0</td>\n",
              "      <td>0.0</td>\n",
              "    </tr>\n",
              "    <tr>\n",
              "      <th>2</th>\n",
              "      <td>0.0</td>\n",
              "      <td>0.0</td>\n",
              "      <td>0.0</td>\n",
              "      <td>0.0</td>\n",
              "      <td>0.0</td>\n",
              "      <td>0.0</td>\n",
              "      <td>0.0</td>\n",
              "      <td>0.0</td>\n",
              "      <td>0.0</td>\n",
              "      <td>0.15099</td>\n",
              "      <td>...</td>\n",
              "      <td>0.0</td>\n",
              "      <td>0.0</td>\n",
              "      <td>0.0</td>\n",
              "      <td>0.0</td>\n",
              "      <td>0.0</td>\n",
              "      <td>0.0</td>\n",
              "      <td>0.0</td>\n",
              "      <td>0.0</td>\n",
              "      <td>0.0</td>\n",
              "      <td>0.0</td>\n",
              "    </tr>\n",
              "    <tr>\n",
              "      <th>3</th>\n",
              "      <td>0.0</td>\n",
              "      <td>0.0</td>\n",
              "      <td>0.0</td>\n",
              "      <td>0.0</td>\n",
              "      <td>0.0</td>\n",
              "      <td>0.0</td>\n",
              "      <td>0.0</td>\n",
              "      <td>0.0</td>\n",
              "      <td>0.0</td>\n",
              "      <td>0.00000</td>\n",
              "      <td>...</td>\n",
              "      <td>0.0</td>\n",
              "      <td>0.0</td>\n",
              "      <td>0.0</td>\n",
              "      <td>0.0</td>\n",
              "      <td>0.0</td>\n",
              "      <td>0.0</td>\n",
              "      <td>0.0</td>\n",
              "      <td>0.0</td>\n",
              "      <td>0.0</td>\n",
              "      <td>0.0</td>\n",
              "    </tr>\n",
              "    <tr>\n",
              "      <th>4</th>\n",
              "      <td>0.0</td>\n",
              "      <td>0.0</td>\n",
              "      <td>0.0</td>\n",
              "      <td>0.0</td>\n",
              "      <td>0.0</td>\n",
              "      <td>0.0</td>\n",
              "      <td>0.0</td>\n",
              "      <td>0.0</td>\n",
              "      <td>0.0</td>\n",
              "      <td>0.00000</td>\n",
              "      <td>...</td>\n",
              "      <td>0.0</td>\n",
              "      <td>0.0</td>\n",
              "      <td>0.0</td>\n",
              "      <td>0.0</td>\n",
              "      <td>0.0</td>\n",
              "      <td>0.0</td>\n",
              "      <td>0.0</td>\n",
              "      <td>0.0</td>\n",
              "      <td>0.0</td>\n",
              "      <td>0.0</td>\n",
              "    </tr>\n",
              "    <tr>\n",
              "      <th>5</th>\n",
              "      <td>0.0</td>\n",
              "      <td>0.0</td>\n",
              "      <td>0.0</td>\n",
              "      <td>0.0</td>\n",
              "      <td>0.0</td>\n",
              "      <td>0.0</td>\n",
              "      <td>0.0</td>\n",
              "      <td>0.0</td>\n",
              "      <td>0.0</td>\n",
              "      <td>0.00000</td>\n",
              "      <td>...</td>\n",
              "      <td>0.0</td>\n",
              "      <td>0.0</td>\n",
              "      <td>0.0</td>\n",
              "      <td>0.0</td>\n",
              "      <td>0.0</td>\n",
              "      <td>0.0</td>\n",
              "      <td>0.0</td>\n",
              "      <td>0.0</td>\n",
              "      <td>0.0</td>\n",
              "      <td>0.0</td>\n",
              "    </tr>\n",
              "    <tr>\n",
              "      <th>6</th>\n",
              "      <td>0.0</td>\n",
              "      <td>0.0</td>\n",
              "      <td>0.0</td>\n",
              "      <td>0.0</td>\n",
              "      <td>0.0</td>\n",
              "      <td>0.0</td>\n",
              "      <td>0.0</td>\n",
              "      <td>0.0</td>\n",
              "      <td>0.0</td>\n",
              "      <td>0.00000</td>\n",
              "      <td>...</td>\n",
              "      <td>0.0</td>\n",
              "      <td>0.0</td>\n",
              "      <td>0.0</td>\n",
              "      <td>0.0</td>\n",
              "      <td>0.0</td>\n",
              "      <td>0.0</td>\n",
              "      <td>0.0</td>\n",
              "      <td>0.0</td>\n",
              "      <td>0.0</td>\n",
              "      <td>0.0</td>\n",
              "    </tr>\n",
              "    <tr>\n",
              "      <th>7</th>\n",
              "      <td>0.0</td>\n",
              "      <td>0.0</td>\n",
              "      <td>0.0</td>\n",
              "      <td>0.0</td>\n",
              "      <td>0.0</td>\n",
              "      <td>0.0</td>\n",
              "      <td>0.0</td>\n",
              "      <td>0.0</td>\n",
              "      <td>0.0</td>\n",
              "      <td>0.00000</td>\n",
              "      <td>...</td>\n",
              "      <td>0.0</td>\n",
              "      <td>0.0</td>\n",
              "      <td>0.0</td>\n",
              "      <td>0.0</td>\n",
              "      <td>0.0</td>\n",
              "      <td>0.0</td>\n",
              "      <td>0.0</td>\n",
              "      <td>0.0</td>\n",
              "      <td>0.0</td>\n",
              "      <td>0.0</td>\n",
              "    </tr>\n",
              "    <tr>\n",
              "      <th>8</th>\n",
              "      <td>0.0</td>\n",
              "      <td>0.0</td>\n",
              "      <td>0.0</td>\n",
              "      <td>0.0</td>\n",
              "      <td>0.0</td>\n",
              "      <td>0.0</td>\n",
              "      <td>0.0</td>\n",
              "      <td>0.0</td>\n",
              "      <td>0.0</td>\n",
              "      <td>0.00000</td>\n",
              "      <td>...</td>\n",
              "      <td>0.0</td>\n",
              "      <td>0.0</td>\n",
              "      <td>0.0</td>\n",
              "      <td>0.0</td>\n",
              "      <td>0.0</td>\n",
              "      <td>0.0</td>\n",
              "      <td>0.0</td>\n",
              "      <td>0.0</td>\n",
              "      <td>0.0</td>\n",
              "      <td>0.0</td>\n",
              "    </tr>\n",
              "    <tr>\n",
              "      <th>9</th>\n",
              "      <td>0.0</td>\n",
              "      <td>0.0</td>\n",
              "      <td>0.0</td>\n",
              "      <td>0.0</td>\n",
              "      <td>0.0</td>\n",
              "      <td>0.0</td>\n",
              "      <td>0.0</td>\n",
              "      <td>0.0</td>\n",
              "      <td>0.0</td>\n",
              "      <td>0.00000</td>\n",
              "      <td>...</td>\n",
              "      <td>0.0</td>\n",
              "      <td>0.0</td>\n",
              "      <td>0.0</td>\n",
              "      <td>0.0</td>\n",
              "      <td>0.0</td>\n",
              "      <td>0.0</td>\n",
              "      <td>0.0</td>\n",
              "      <td>0.0</td>\n",
              "      <td>0.0</td>\n",
              "      <td>0.0</td>\n",
              "    </tr>\n",
              "  </tbody>\n",
              "</table>\n",
              "<p>10 rows × 5848 columns</p>\n",
              "</div>\n",
              "      <button class=\"colab-df-convert\" onclick=\"convertToInteractive('df-a68128f4-5c1d-4a4a-ac76-6aaa245e54ea')\"\n",
              "              title=\"Convert this dataframe to an interactive table.\"\n",
              "              style=\"display:none;\">\n",
              "        \n",
              "  <svg xmlns=\"http://www.w3.org/2000/svg\" height=\"24px\"viewBox=\"0 0 24 24\"\n",
              "       width=\"24px\">\n",
              "    <path d=\"M0 0h24v24H0V0z\" fill=\"none\"/>\n",
              "    <path d=\"M18.56 5.44l.94 2.06.94-2.06 2.06-.94-2.06-.94-.94-2.06-.94 2.06-2.06.94zm-11 1L8.5 8.5l.94-2.06 2.06-.94-2.06-.94L8.5 2.5l-.94 2.06-2.06.94zm10 10l.94 2.06.94-2.06 2.06-.94-2.06-.94-.94-2.06-.94 2.06-2.06.94z\"/><path d=\"M17.41 7.96l-1.37-1.37c-.4-.4-.92-.59-1.43-.59-.52 0-1.04.2-1.43.59L10.3 9.45l-7.72 7.72c-.78.78-.78 2.05 0 2.83L4 21.41c.39.39.9.59 1.41.59.51 0 1.02-.2 1.41-.59l7.78-7.78 2.81-2.81c.8-.78.8-2.07 0-2.86zM5.41 20L4 18.59l7.72-7.72 1.47 1.35L5.41 20z\"/>\n",
              "  </svg>\n",
              "      </button>\n",
              "      \n",
              "  <style>\n",
              "    .colab-df-container {\n",
              "      display:flex;\n",
              "      flex-wrap:wrap;\n",
              "      gap: 12px;\n",
              "    }\n",
              "\n",
              "    .colab-df-convert {\n",
              "      background-color: #E8F0FE;\n",
              "      border: none;\n",
              "      border-radius: 50%;\n",
              "      cursor: pointer;\n",
              "      display: none;\n",
              "      fill: #1967D2;\n",
              "      height: 32px;\n",
              "      padding: 0 0 0 0;\n",
              "      width: 32px;\n",
              "    }\n",
              "\n",
              "    .colab-df-convert:hover {\n",
              "      background-color: #E2EBFA;\n",
              "      box-shadow: 0px 1px 2px rgba(60, 64, 67, 0.3), 0px 1px 3px 1px rgba(60, 64, 67, 0.15);\n",
              "      fill: #174EA6;\n",
              "    }\n",
              "\n",
              "    [theme=dark] .colab-df-convert {\n",
              "      background-color: #3B4455;\n",
              "      fill: #D2E3FC;\n",
              "    }\n",
              "\n",
              "    [theme=dark] .colab-df-convert:hover {\n",
              "      background-color: #434B5C;\n",
              "      box-shadow: 0px 1px 3px 1px rgba(0, 0, 0, 0.15);\n",
              "      filter: drop-shadow(0px 1px 2px rgba(0, 0, 0, 0.3));\n",
              "      fill: #FFFFFF;\n",
              "    }\n",
              "  </style>\n",
              "\n",
              "      <script>\n",
              "        const buttonEl =\n",
              "          document.querySelector('#df-a68128f4-5c1d-4a4a-ac76-6aaa245e54ea button.colab-df-convert');\n",
              "        buttonEl.style.display =\n",
              "          google.colab.kernel.accessAllowed ? 'block' : 'none';\n",
              "\n",
              "        async function convertToInteractive(key) {\n",
              "          const element = document.querySelector('#df-a68128f4-5c1d-4a4a-ac76-6aaa245e54ea');\n",
              "          const dataTable =\n",
              "            await google.colab.kernel.invokeFunction('convertToInteractive',\n",
              "                                                     [key], {});\n",
              "          if (!dataTable) return;\n",
              "\n",
              "          const docLinkHtml = 'Like what you see? Visit the ' +\n",
              "            '<a target=\"_blank\" href=https://colab.research.google.com/notebooks/data_table.ipynb>data table notebook</a>'\n",
              "            + ' to learn more about interactive tables.';\n",
              "          element.innerHTML = '';\n",
              "          dataTable['output_type'] = 'display_data';\n",
              "          await google.colab.output.renderOutput(dataTable, element);\n",
              "          const docLink = document.createElement('div');\n",
              "          docLink.innerHTML = docLinkHtml;\n",
              "          element.appendChild(docLink);\n",
              "        }\n",
              "      </script>\n",
              "    </div>\n",
              "  </div>\n",
              "  "
            ]
          },
          "metadata": {},
          "execution_count": 19
        }
      ]
    },
    {
      "cell_type": "markdown",
      "metadata": {
        "id": "Z68RzSsmFs4K"
      },
      "source": [
        "Получим прогнозы для \"тестовой\" выборки"
      ]
    },
    {
      "cell_type": "code",
      "execution_count": 20,
      "metadata": {
        "id": "IuEdLrxXFs4M",
        "outputId": "7ad9d774-a4df-46e4-a9c9-f8ba2b57a9fa",
        "colab": {
          "base_uri": "https://localhost:8080/"
        }
      },
      "outputs": [
        {
          "output_type": "execute_result",
          "data": {
            "text/plain": [
              "array([0.00987465, 0.00454258, 0.00221269, 0.02663074, 0.00402058,\n",
              "       0.02508175, 0.00269904, 0.11747235, 0.01075453, 0.0036021 ])"
            ]
          },
          "metadata": {},
          "execution_count": 20
        }
      ],
      "source": [
        "# наши прогнозы для тестовой выборки\n",
        "preds = pipeline.predict_proba(X_test)[:, 1]\n",
        "preds[:10]"
      ]
    },
    {
      "cell_type": "code",
      "execution_count": 21,
      "metadata": {
        "id": "EQ8Rou2WFs4O",
        "outputId": "c6620550-52ce-4a89-f0f6-15139c800a70",
        "colab": {
          "base_uri": "https://localhost:8080/"
        }
      },
      "outputs": [
        {
          "output_type": "stream",
          "name": "stdout",
          "text": [
            "Best Threshold=0.2898588358747974, F-Score=0.973, Precision=0.980, Recall=0.966\n"
          ]
        }
      ],
      "source": [
        "from sklearn.metrics import f1_score, roc_auc_score, precision_score, classification_report, precision_recall_curve, confusion_matrix\n",
        "\n",
        "precision, recall, thresholds = precision_recall_curve(y_test, preds)\n",
        "fscore = (2 * precision * recall) / (precision + recall)\n",
        "# locate the index of the largest f score\n",
        "ix = np.argmax(fscore)\n",
        "print(f'Best Threshold={thresholds[ix]}, F-Score={fscore[ix]:.3f}, Precision={precision[ix]:.3f}, Recall={recall[ix]:.3f}')"
      ]
    },
    {
      "cell_type": "markdown",
      "metadata": {
        "id": "BhcZgUHCFs4Q"
      },
      "source": [
        "Довольно неплохие на первый взгляд метрики. Давайте теперь проскорим всю выборку и отсортируем по убыванию прогноза (ведь нам в итоге нужно взять топ 5000 пользователей)"
      ]
    },
    {
      "cell_type": "code",
      "execution_count": 22,
      "metadata": {
        "id": "n2LGlqZ6Fs4R",
        "outputId": "8f28b8a5-2f2c-4c8a-f942-82283b8b4132",
        "colab": {
          "base_uri": "https://localhost:8080/",
          "height": 143
        }
      },
      "outputs": [
        {
          "output_type": "execute_result",
          "data": {
            "text/plain": [
              "                                    user_id  \\\n",
              "1675   0d2f872b-6a49-5e95-9f2b-3ec9f9365dc6   \n",
              "19586  9c753d40-22ef-5491-b907-ff76f03d2044   \n",
              "15436  7c615620-53bf-59ce-8186-8d4f88ceca73   \n",
              "\n",
              "                                               purchases  y    y_pred  \n",
              "1675   чай dammann зеленый с жасмином, 25пак*2г корм ...  1  0.999988  \n",
              "19586  шоколад chokodelika темный с грецким орехом 16...  1  0.999952  \n",
              "15436  шоколад lindt creation тёмный с мятой 0,15кг н...  1  0.999933  "
            ],
            "text/html": [
              "\n",
              "  <div id=\"df-d7a5b402-097e-4930-bdaa-4baf5c82c622\">\n",
              "    <div class=\"colab-df-container\">\n",
              "      <div>\n",
              "<style scoped>\n",
              "    .dataframe tbody tr th:only-of-type {\n",
              "        vertical-align: middle;\n",
              "    }\n",
              "\n",
              "    .dataframe tbody tr th {\n",
              "        vertical-align: top;\n",
              "    }\n",
              "\n",
              "    .dataframe thead th {\n",
              "        text-align: right;\n",
              "    }\n",
              "</style>\n",
              "<table border=\"1\" class=\"dataframe\">\n",
              "  <thead>\n",
              "    <tr style=\"text-align: right;\">\n",
              "      <th></th>\n",
              "      <th>user_id</th>\n",
              "      <th>purchases</th>\n",
              "      <th>y</th>\n",
              "      <th>y_pred</th>\n",
              "    </tr>\n",
              "  </thead>\n",
              "  <tbody>\n",
              "    <tr>\n",
              "      <th>1675</th>\n",
              "      <td>0d2f872b-6a49-5e95-9f2b-3ec9f9365dc6</td>\n",
              "      <td>чай dammann зеленый с жасмином, 25пак*2г корм ...</td>\n",
              "      <td>1</td>\n",
              "      <td>0.999988</td>\n",
              "    </tr>\n",
              "    <tr>\n",
              "      <th>19586</th>\n",
              "      <td>9c753d40-22ef-5491-b907-ff76f03d2044</td>\n",
              "      <td>шоколад chokodelika темный с грецким орехом 16...</td>\n",
              "      <td>1</td>\n",
              "      <td>0.999952</td>\n",
              "    </tr>\n",
              "    <tr>\n",
              "      <th>15436</th>\n",
              "      <td>7c615620-53bf-59ce-8186-8d4f88ceca73</td>\n",
              "      <td>шоколад lindt creation тёмный с мятой 0,15кг н...</td>\n",
              "      <td>1</td>\n",
              "      <td>0.999933</td>\n",
              "    </tr>\n",
              "  </tbody>\n",
              "</table>\n",
              "</div>\n",
              "      <button class=\"colab-df-convert\" onclick=\"convertToInteractive('df-d7a5b402-097e-4930-bdaa-4baf5c82c622')\"\n",
              "              title=\"Convert this dataframe to an interactive table.\"\n",
              "              style=\"display:none;\">\n",
              "        \n",
              "  <svg xmlns=\"http://www.w3.org/2000/svg\" height=\"24px\"viewBox=\"0 0 24 24\"\n",
              "       width=\"24px\">\n",
              "    <path d=\"M0 0h24v24H0V0z\" fill=\"none\"/>\n",
              "    <path d=\"M18.56 5.44l.94 2.06.94-2.06 2.06-.94-2.06-.94-.94-2.06-.94 2.06-2.06.94zm-11 1L8.5 8.5l.94-2.06 2.06-.94-2.06-.94L8.5 2.5l-.94 2.06-2.06.94zm10 10l.94 2.06.94-2.06 2.06-.94-2.06-.94-.94-2.06-.94 2.06-2.06.94z\"/><path d=\"M17.41 7.96l-1.37-1.37c-.4-.4-.92-.59-1.43-.59-.52 0-1.04.2-1.43.59L10.3 9.45l-7.72 7.72c-.78.78-.78 2.05 0 2.83L4 21.41c.39.39.9.59 1.41.59.51 0 1.02-.2 1.41-.59l7.78-7.78 2.81-2.81c.8-.78.8-2.07 0-2.86zM5.41 20L4 18.59l7.72-7.72 1.47 1.35L5.41 20z\"/>\n",
              "  </svg>\n",
              "      </button>\n",
              "      \n",
              "  <style>\n",
              "    .colab-df-container {\n",
              "      display:flex;\n",
              "      flex-wrap:wrap;\n",
              "      gap: 12px;\n",
              "    }\n",
              "\n",
              "    .colab-df-convert {\n",
              "      background-color: #E8F0FE;\n",
              "      border: none;\n",
              "      border-radius: 50%;\n",
              "      cursor: pointer;\n",
              "      display: none;\n",
              "      fill: #1967D2;\n",
              "      height: 32px;\n",
              "      padding: 0 0 0 0;\n",
              "      width: 32px;\n",
              "    }\n",
              "\n",
              "    .colab-df-convert:hover {\n",
              "      background-color: #E2EBFA;\n",
              "      box-shadow: 0px 1px 2px rgba(60, 64, 67, 0.3), 0px 1px 3px 1px rgba(60, 64, 67, 0.15);\n",
              "      fill: #174EA6;\n",
              "    }\n",
              "\n",
              "    [theme=dark] .colab-df-convert {\n",
              "      background-color: #3B4455;\n",
              "      fill: #D2E3FC;\n",
              "    }\n",
              "\n",
              "    [theme=dark] .colab-df-convert:hover {\n",
              "      background-color: #434B5C;\n",
              "      box-shadow: 0px 1px 3px 1px rgba(0, 0, 0, 0.15);\n",
              "      filter: drop-shadow(0px 1px 2px rgba(0, 0, 0, 0.3));\n",
              "      fill: #FFFFFF;\n",
              "    }\n",
              "  </style>\n",
              "\n",
              "      <script>\n",
              "        const buttonEl =\n",
              "          document.querySelector('#df-d7a5b402-097e-4930-bdaa-4baf5c82c622 button.colab-df-convert');\n",
              "        buttonEl.style.display =\n",
              "          google.colab.kernel.accessAllowed ? 'block' : 'none';\n",
              "\n",
              "        async function convertToInteractive(key) {\n",
              "          const element = document.querySelector('#df-d7a5b402-097e-4930-bdaa-4baf5c82c622');\n",
              "          const dataTable =\n",
              "            await google.colab.kernel.invokeFunction('convertToInteractive',\n",
              "                                                     [key], {});\n",
              "          if (!dataTable) return;\n",
              "\n",
              "          const docLinkHtml = 'Like what you see? Visit the ' +\n",
              "            '<a target=\"_blank\" href=https://colab.research.google.com/notebooks/data_table.ipynb>data table notebook</a>'\n",
              "            + ' to learn more about interactive tables.';\n",
              "          element.innerHTML = '';\n",
              "          dataTable['output_type'] = 'display_data';\n",
              "          await google.colab.output.renderOutput(dataTable, element);\n",
              "          const docLink = document.createElement('div');\n",
              "          docLink.innerHTML = docLinkHtml;\n",
              "          element.appendChild(docLink);\n",
              "        }\n",
              "      </script>\n",
              "    </div>\n",
              "  </div>\n",
              "  "
            ]
          },
          "metadata": {},
          "execution_count": 22
        }
      ],
      "source": [
        "X['y_pred'] = pipeline.predict_proba(X)[:, 1]\n",
        "X = X.sort_values('y_pred', ascending=False)\n",
        "X.head(3)"
      ]
    },
    {
      "cell_type": "markdown",
      "metadata": {
        "id": "y9wGgCfgFs4T"
      },
      "source": [
        "Наконец, возьмем наши топ 5000 пользователей"
      ]
    },
    {
      "cell_type": "code",
      "execution_count": 23,
      "metadata": {
        "id": "l6R1ZKN1Fs4W"
      },
      "outputs": [],
      "source": [
        "selected_users = X.iloc[:5000]['user_id'].values"
      ]
    },
    {
      "cell_type": "markdown",
      "metadata": {
        "id": "v0D7WMeOFs4X"
      },
      "source": [
        "Давайте попробуем понять, чем они отличаются от всех остальных (если отличаются вообще)"
      ]
    },
    {
      "cell_type": "code",
      "execution_count": 24,
      "metadata": {
        "id": "x-3PqXAUFs4Z",
        "outputId": "0659a272-5cf8-40c4-dbd1-8ed731a7687a",
        "colab": {
          "base_uri": "https://localhost:8080/"
        }
      },
      "outputs": [
        {
          "output_type": "execute_result",
          "data": {
            "text/plain": [
              "кофе            0.22604\n",
              "шоколад         0.20240\n",
              "напиток         0.13028\n",
              "шампунь         0.12380\n",
              "чай             0.06292\n",
              "сыр             0.06284\n",
              "зубная паста    0.05548\n",
              "колбаса         0.05180\n",
              "пюре            0.04372\n",
              "корм            0.04072\n",
              "Name: item_type, dtype: float64"
            ]
          },
          "metadata": {},
          "execution_count": 24
        }
      ],
      "source": [
        "purchases[purchases['user_id'].isin(selected_users)]['item_type'].value_counts(normalize=True)"
      ]
    },
    {
      "cell_type": "code",
      "execution_count": 41,
      "metadata": {
        "id": "4JEmfNY2Fs4b",
        "outputId": "cfea06cf-6d3d-444d-a6da-38ca3bfbe2ac",
        "colab": {
          "base_uri": "https://localhost:8080/"
        }
      },
      "outputs": [
        {
          "output_type": "execute_result",
          "data": {
            "text/plain": [
              "колбаса         0.224785\n",
              "зубная паста    0.178756\n",
              "корм            0.125830\n",
              "шоколад         0.105156\n",
              "шампунь         0.097193\n",
              "напиток         0.096600\n",
              "сыр             0.065822\n",
              "кофе            0.054111\n",
              "пюре            0.051748\n",
              "Name: item_type, dtype: float64"
            ]
          },
          "metadata": {},
          "execution_count": 41
        }
      ],
      "source": [
        "purchases[~purchases['user_id'].isin(selected_users)]['item_type'].value_counts(normalize=True)"
      ]
    },
    {
      "cell_type": "markdown",
      "metadata": {
        "id": "oOPZDNccFs4d"
      },
      "source": [
        "Посмотрим на feature_importances"
      ]
    },
    {
      "cell_type": "code",
      "execution_count": 26,
      "metadata": {
        "id": "SY2miWFgFs4e",
        "outputId": "d718a06a-bda2-45b3-ffc6-db99477624c0",
        "colab": {
          "base_uri": "https://localhost:8080/"
        }
      },
      "outputs": [
        {
          "output_type": "execute_result",
          "data": {
            "text/plain": [
              "array(['чай', 'черный', '25пак', 'листовой', 'зеленый', '2г', 'fuzetea',\n",
              "       'greenfield', '20', 'байховый', '20пак', 'ahmad', '8г',\n",
              "       'пакетиков', '100пак', '25', 'крупнолистовой', 'tess', 'curtis',\n",
              "       'травяной', 'richard', 'майский', '5г', 'ароматом', 'grey',\n",
              "       'hyleys', 'dammann', 'принцесса', 'basilur', 'the', 'цейлонский',\n",
              "       'ceylon', 'шиповник', 'maitre', 'milford', 'азерчай', '20п',\n",
              "       'nadin', 'китайский', 'newby', 'de', 'пирамидках', 'mlesna', '50г',\n",
              "       'пирамидок', 'жасмином', 'sonnentor', 'earl', 'чабрецом', 'нури',\n",
              "       'vитамин', 'twinings', 'грей', 'green', 'гармония', '200г',\n",
              "       'витацентр', 'английский', '20пир', 'айдиго', 'жень', 'японски',\n",
              "       'тянь', 'цейлон', 'индийский', 'ромашка', 'природы', '75л',\n",
              "       'grace', 'akbar', 'чёрный', 'ява', 'collection', 'добавками',\n",
              "       'иван', 'улун', 'riston', 'холодный', '25шт', 'вкусов',\n",
              "       'среднелистовой', 'breakfast', '0г', 'юдзу', 'дракон', 'мелиссой',\n",
              "       'пакетированный', '100г', 'эрл', 'hilltop', 'kwinst', 'english',\n",
              "       'ассорти', '40г', 'arizona', 'шкатулка', 'музыкальная', 'отборный',\n",
              "       'жасмин', 'панда'], dtype=object)"
            ]
          },
          "metadata": {},
          "execution_count": 26
        }
      ],
      "source": [
        "feature_names = pipeline.named_steps[\"purchases_tfidf\"].get_feature_names_out()\n",
        "feature_weights = pipeline.named_steps[\"clf\"].coef_[0]\n",
        "\n",
        "weights = pd.DataFrame({\n",
        "    'feature_name': feature_names,\n",
        "    'feature_weight': feature_weights\n",
        "}).sort_values('feature_weight', ascending=False)\n",
        "\n",
        "# топ 100 слов\n",
        "weights['feature_name'].iloc[:100].values"
      ]
    },
    {
      "cell_type": "markdown",
      "metadata": {
        "id": "ym95wCcBFs4j"
      },
      "source": [
        "Понятно, что если в названии покупки есть что-то про чай, то это явный маркер для классификатора, что это объект класса 1. \n",
        "\n",
        "Также по распределению категорий видно также что топ5000 существенно отличаются от остальных"
      ]
    },
    {
      "cell_type": "markdown",
      "metadata": {
        "id": "PBjN7O9bFs47"
      },
      "source": [
        "В рекламе одна из важнейших прикладных задач - lookalike. Часто она решается именно как задача PU"
      ]
    },
    {
      "cell_type": "markdown",
      "source": [
        "## Пример 3"
      ],
      "metadata": {
        "id": "ZL6OKwFRUYX-"
      }
    },
    {
      "cell_type": "markdown",
      "metadata": {
        "id": "aTTFia2bPfpB"
      },
      "source": [
        "Расмотрим пример на датасете из репозитория UCI - задача поиска поддельных купюр. Признаки - это 4 аппартно измеримые характеристики. \n",
        "\n",
        "Описание данных - https://archive.ics.uci.edu/ml/datasets/banknote+authentication#"
      ]
    },
    {
      "cell_type": "markdown",
      "source": [
        "Ссылка на google drive: https://drive.google.com/file/d/1fpVIAEHCbA-tbOlWsC3v1uaUwZ7MF8ih"
      ],
      "metadata": {
        "id": "1kANPj6V83LE"
      }
    },
    {
      "cell_type": "code",
      "source": [
        "!wget 'https://drive.google.com/uc?export=download&id=1fpVIAEHCbA-tbOlWsC3v1uaUwZ7MF8ih' -O data_banknote_authentication.txt"
      ],
      "metadata": {
        "colab": {
          "base_uri": "https://localhost:8080/"
        },
        "id": "n_jenj-XPk5q",
        "outputId": "099347c6-a532-4e2b-9400-aa5b2fd9f5b5"
      },
      "execution_count": 27,
      "outputs": [
        {
          "output_type": "stream",
          "name": "stdout",
          "text": [
            "--2022-04-01 17:14:53--  https://drive.google.com/uc?export=download&id=1fpVIAEHCbA-tbOlWsC3v1uaUwZ7MF8ih\n",
            "Resolving drive.google.com (drive.google.com)... 74.125.20.113, 74.125.20.101, 74.125.20.139, ...\n",
            "Connecting to drive.google.com (drive.google.com)|74.125.20.113|:443... connected.\n",
            "HTTP request sent, awaiting response... 303 See Other\n",
            "Location: https://doc-08-c0-docs.googleusercontent.com/docs/securesc/ha0ro937gcuc7l7deffksulhg5h7mbp1/bd4l1gn3voee7jn2c0a91dlcbcmmih6v/1648833225000/14904333240138417226/*/1fpVIAEHCbA-tbOlWsC3v1uaUwZ7MF8ih?e=download [following]\n",
            "Warning: wildcards not supported in HTTP.\n",
            "--2022-04-01 17:14:53--  https://doc-08-c0-docs.googleusercontent.com/docs/securesc/ha0ro937gcuc7l7deffksulhg5h7mbp1/bd4l1gn3voee7jn2c0a91dlcbcmmih6v/1648833225000/14904333240138417226/*/1fpVIAEHCbA-tbOlWsC3v1uaUwZ7MF8ih?e=download\n",
            "Resolving doc-08-c0-docs.googleusercontent.com (doc-08-c0-docs.googleusercontent.com)... 74.125.199.132, 2607:f8b0:400e:c02::84\n",
            "Connecting to doc-08-c0-docs.googleusercontent.com (doc-08-c0-docs.googleusercontent.com)|74.125.199.132|:443... connected.\n",
            "HTTP request sent, awaiting response... 200 OK\n",
            "Length: 46400 (45K) [text/plain]\n",
            "Saving to: ‘data_banknote_authentication.txt’\n",
            "\n",
            "data_banknote_authe 100%[===================>]  45.31K  --.-KB/s    in 0s      \n",
            "\n",
            "2022-04-01 17:14:54 (102 MB/s) - ‘data_banknote_authentication.txt’ saved [46400/46400]\n",
            "\n"
          ]
        }
      ]
    },
    {
      "cell_type": "code",
      "execution_count": 28,
      "metadata": {
        "colab": {
          "base_uri": "https://localhost:8080/",
          "height": 143
        },
        "id": "B3YSU3RKPfpI",
        "outputId": "a1a9dc9d-cd38-4aff-f458-f32db63d1f5d"
      },
      "outputs": [
        {
          "output_type": "execute_result",
          "data": {
            "text/plain": [
              "        0       1       2        3  4\n",
              "0  3.6216  8.6661 -2.8073 -0.44699  0\n",
              "1  4.5459  8.1674 -2.4586 -1.46210  0\n",
              "2  3.8660 -2.6383  1.9242  0.10645  0"
            ],
            "text/html": [
              "\n",
              "  <div id=\"df-22700fb1-cc58-4967-be0f-6127e92248b1\">\n",
              "    <div class=\"colab-df-container\">\n",
              "      <div>\n",
              "<style scoped>\n",
              "    .dataframe tbody tr th:only-of-type {\n",
              "        vertical-align: middle;\n",
              "    }\n",
              "\n",
              "    .dataframe tbody tr th {\n",
              "        vertical-align: top;\n",
              "    }\n",
              "\n",
              "    .dataframe thead th {\n",
              "        text-align: right;\n",
              "    }\n",
              "</style>\n",
              "<table border=\"1\" class=\"dataframe\">\n",
              "  <thead>\n",
              "    <tr style=\"text-align: right;\">\n",
              "      <th></th>\n",
              "      <th>0</th>\n",
              "      <th>1</th>\n",
              "      <th>2</th>\n",
              "      <th>3</th>\n",
              "      <th>4</th>\n",
              "    </tr>\n",
              "  </thead>\n",
              "  <tbody>\n",
              "    <tr>\n",
              "      <th>0</th>\n",
              "      <td>3.6216</td>\n",
              "      <td>8.6661</td>\n",
              "      <td>-2.8073</td>\n",
              "      <td>-0.44699</td>\n",
              "      <td>0</td>\n",
              "    </tr>\n",
              "    <tr>\n",
              "      <th>1</th>\n",
              "      <td>4.5459</td>\n",
              "      <td>8.1674</td>\n",
              "      <td>-2.4586</td>\n",
              "      <td>-1.46210</td>\n",
              "      <td>0</td>\n",
              "    </tr>\n",
              "    <tr>\n",
              "      <th>2</th>\n",
              "      <td>3.8660</td>\n",
              "      <td>-2.6383</td>\n",
              "      <td>1.9242</td>\n",
              "      <td>0.10645</td>\n",
              "      <td>0</td>\n",
              "    </tr>\n",
              "  </tbody>\n",
              "</table>\n",
              "</div>\n",
              "      <button class=\"colab-df-convert\" onclick=\"convertToInteractive('df-22700fb1-cc58-4967-be0f-6127e92248b1')\"\n",
              "              title=\"Convert this dataframe to an interactive table.\"\n",
              "              style=\"display:none;\">\n",
              "        \n",
              "  <svg xmlns=\"http://www.w3.org/2000/svg\" height=\"24px\"viewBox=\"0 0 24 24\"\n",
              "       width=\"24px\">\n",
              "    <path d=\"M0 0h24v24H0V0z\" fill=\"none\"/>\n",
              "    <path d=\"M18.56 5.44l.94 2.06.94-2.06 2.06-.94-2.06-.94-.94-2.06-.94 2.06-2.06.94zm-11 1L8.5 8.5l.94-2.06 2.06-.94-2.06-.94L8.5 2.5l-.94 2.06-2.06.94zm10 10l.94 2.06.94-2.06 2.06-.94-2.06-.94-.94-2.06-.94 2.06-2.06.94z\"/><path d=\"M17.41 7.96l-1.37-1.37c-.4-.4-.92-.59-1.43-.59-.52 0-1.04.2-1.43.59L10.3 9.45l-7.72 7.72c-.78.78-.78 2.05 0 2.83L4 21.41c.39.39.9.59 1.41.59.51 0 1.02-.2 1.41-.59l7.78-7.78 2.81-2.81c.8-.78.8-2.07 0-2.86zM5.41 20L4 18.59l7.72-7.72 1.47 1.35L5.41 20z\"/>\n",
              "  </svg>\n",
              "      </button>\n",
              "      \n",
              "  <style>\n",
              "    .colab-df-container {\n",
              "      display:flex;\n",
              "      flex-wrap:wrap;\n",
              "      gap: 12px;\n",
              "    }\n",
              "\n",
              "    .colab-df-convert {\n",
              "      background-color: #E8F0FE;\n",
              "      border: none;\n",
              "      border-radius: 50%;\n",
              "      cursor: pointer;\n",
              "      display: none;\n",
              "      fill: #1967D2;\n",
              "      height: 32px;\n",
              "      padding: 0 0 0 0;\n",
              "      width: 32px;\n",
              "    }\n",
              "\n",
              "    .colab-df-convert:hover {\n",
              "      background-color: #E2EBFA;\n",
              "      box-shadow: 0px 1px 2px rgba(60, 64, 67, 0.3), 0px 1px 3px 1px rgba(60, 64, 67, 0.15);\n",
              "      fill: #174EA6;\n",
              "    }\n",
              "\n",
              "    [theme=dark] .colab-df-convert {\n",
              "      background-color: #3B4455;\n",
              "      fill: #D2E3FC;\n",
              "    }\n",
              "\n",
              "    [theme=dark] .colab-df-convert:hover {\n",
              "      background-color: #434B5C;\n",
              "      box-shadow: 0px 1px 3px 1px rgba(0, 0, 0, 0.15);\n",
              "      filter: drop-shadow(0px 1px 2px rgba(0, 0, 0, 0.3));\n",
              "      fill: #FFFFFF;\n",
              "    }\n",
              "  </style>\n",
              "\n",
              "      <script>\n",
              "        const buttonEl =\n",
              "          document.querySelector('#df-22700fb1-cc58-4967-be0f-6127e92248b1 button.colab-df-convert');\n",
              "        buttonEl.style.display =\n",
              "          google.colab.kernel.accessAllowed ? 'block' : 'none';\n",
              "\n",
              "        async function convertToInteractive(key) {\n",
              "          const element = document.querySelector('#df-22700fb1-cc58-4967-be0f-6127e92248b1');\n",
              "          const dataTable =\n",
              "            await google.colab.kernel.invokeFunction('convertToInteractive',\n",
              "                                                     [key], {});\n",
              "          if (!dataTable) return;\n",
              "\n",
              "          const docLinkHtml = 'Like what you see? Visit the ' +\n",
              "            '<a target=\"_blank\" href=https://colab.research.google.com/notebooks/data_table.ipynb>data table notebook</a>'\n",
              "            + ' to learn more about interactive tables.';\n",
              "          element.innerHTML = '';\n",
              "          dataTable['output_type'] = 'display_data';\n",
              "          await google.colab.output.renderOutput(dataTable, element);\n",
              "          const docLink = document.createElement('div');\n",
              "          docLink.innerHTML = docLinkHtml;\n",
              "          element.appendChild(docLink);\n",
              "        }\n",
              "      </script>\n",
              "    </div>\n",
              "  </div>\n",
              "  "
            ]
          },
          "metadata": {},
          "execution_count": 28
        }
      ],
      "source": [
        "import pandas as pd\n",
        "import numpy as np\n",
        "data = pd.read_csv(\"data_banknote_authentication.txt\", header=None)\n",
        "data.head(3)"
      ]
    },
    {
      "cell_type": "markdown",
      "metadata": {
        "id": "YcCHeQqxPfpM"
      },
      "source": [
        "У нас есть 4 признака и 1 целевая переменная (бинарная) - нужно определить поддельная купюра или нет"
      ]
    },
    {
      "cell_type": "code",
      "execution_count": 29,
      "metadata": {
        "colab": {
          "base_uri": "https://localhost:8080/"
        },
        "id": "1xwersCHPfpO",
        "outputId": "ee74d83d-16ca-4cab-f8d8-3fcea735c0ce"
      },
      "outputs": [
        {
          "output_type": "stream",
          "name": "stdout",
          "text": [
            "(1372, 5)\n"
          ]
        }
      ],
      "source": [
        "print(data.shape)"
      ]
    },
    {
      "cell_type": "markdown",
      "metadata": {
        "id": "CSVDaUGDPfpQ"
      },
      "source": [
        "Всего 1372 купюры"
      ]
    },
    {
      "cell_type": "markdown",
      "metadata": {
        "id": "R8QUF5spPfpS"
      },
      "source": [
        "Посмотрим на соотношение классов"
      ]
    },
    {
      "cell_type": "code",
      "execution_count": 30,
      "metadata": {
        "colab": {
          "base_uri": "https://localhost:8080/"
        },
        "id": "nRwgsiRwPfpV",
        "outputId": "ce2a069f-8603-43e0-83bf-80edec8deb07"
      },
      "outputs": [
        {
          "output_type": "execute_result",
          "data": {
            "text/plain": [
              "0    762\n",
              "1    610\n",
              "Name: 4, dtype: int64"
            ]
          },
          "metadata": {},
          "execution_count": 30
        }
      ],
      "source": [
        "data.iloc[:, -1].value_counts()"
      ]
    },
    {
      "cell_type": "markdown",
      "metadata": {
        "id": "bvGLaQs4PfpZ"
      },
      "source": [
        "Разбиваем выборку на тренировочную и тестовую части и обучаем модель (в примере - градиентный бустинг)"
      ]
    },
    {
      "cell_type": "code",
      "execution_count": 31,
      "metadata": {
        "id": "VfI0zX-DPfpc"
      },
      "outputs": [],
      "source": [
        "from sklearn.model_selection import train_test_split\n",
        "\n",
        "x_data = data.iloc[:,:-1]\n",
        "y_data = data.iloc[:,-1]\n",
        "\n",
        "x_train, x_test, y_train, y_test = train_test_split(x_data, y_data, test_size=0.2, random_state=7)"
      ]
    },
    {
      "cell_type": "code",
      "execution_count": 32,
      "metadata": {
        "id": "xntLocMTPfpf"
      },
      "outputs": [],
      "source": [
        "import xgboost as xgb\n",
        "\n",
        "model = xgb.XGBClassifier()\n",
        "\n",
        "model.fit(x_train, y_train)\n",
        "y_predict = model.predict(x_test)"
      ]
    },
    {
      "cell_type": "markdown",
      "metadata": {
        "id": "EjJW1_5-Pfph"
      },
      "source": [
        "Проверяем качество"
      ]
    },
    {
      "cell_type": "code",
      "execution_count": 33,
      "metadata": {
        "colab": {
          "base_uri": "https://localhost:8080/"
        },
        "id": "KBWvCmDvPfpk",
        "outputId": "2bdaef4f-bfa0-40c0-9533-c213fd029f6d"
      },
      "outputs": [
        {
          "output_type": "stream",
          "name": "stdout",
          "text": [
            "Classification results:\n",
            "f1: 99.57%\n",
            "roc: 99.57%\n",
            "recall: 99.15%\n",
            "precision: 100.00%\n"
          ]
        }
      ],
      "source": [
        "from sklearn.metrics import recall_score, precision_score, roc_auc_score, accuracy_score, f1_score\n",
        "\n",
        "def evaluate_results(y_test, y_predict):\n",
        "    print('Classification results:')\n",
        "    f1 = f1_score(y_test, y_predict)\n",
        "    print(f\"f1: {f1 * 100.0:.2f}%\") \n",
        "    roc = roc_auc_score(y_test, y_predict)\n",
        "    print(f\"roc: {roc * 100.0:.2f}%\") \n",
        "    rec = recall_score(y_test, y_predict, average='binary')\n",
        "    print(f\"recall: {rec * 100.0:.2f}%\") \n",
        "    prc = precision_score(y_test, y_predict, average='binary')\n",
        "    print(f\"precision: {prc * 100.0:.2f}%\" ) \n",
        "\n",
        "    \n",
        "evaluate_results(y_test, y_predict)"
      ]
    },
    {
      "cell_type": "markdown",
      "metadata": {
        "id": "1bIoaUg5Pfpo"
      },
      "source": [
        "### Теперь очередь PU learning"
      ]
    },
    {
      "cell_type": "markdown",
      "metadata": {
        "id": "jQ2Rn53ZPfpr"
      },
      "source": [
        "Представим, что нам неизвестны негативы и часть позитивов"
      ]
    },
    {
      "cell_type": "code",
      "execution_count": 34,
      "metadata": {
        "colab": {
          "base_uri": "https://localhost:8080/"
        },
        "id": "_Z9eMfhCPfps",
        "outputId": "0e1b0414-4b67-4218-d20c-048415627c7b"
      },
      "outputs": [
        {
          "output_type": "stream",
          "name": "stdout",
          "text": [
            "Using 153/610 as positives and unlabeling the rest\n"
          ]
        }
      ],
      "source": [
        "mod_data = data.copy()\n",
        "\n",
        "# get the indices of the positives samples\n",
        "pos_ind = np.where(mod_data.iloc[:, -1].values == 1)[0]\n",
        "\n",
        "# shuffle them\n",
        "np.random.shuffle(pos_ind)\n",
        "# leave just 25% of the positives marked\n",
        "perc = 0.25\n",
        "pos_sample_len = int(np.ceil(perc * len(pos_ind)))\n",
        "\n",
        "print(f'Using {pos_sample_len}/{len(pos_ind)} as positives and unlabeling the rest')\n",
        "pos_sample = pos_ind[:pos_sample_len]"
      ]
    },
    {
      "cell_type": "markdown",
      "metadata": {
        "id": "ij1beNVQPfpu"
      },
      "source": [
        "Создаем столбец для новой целевой переменной, где у нас два класса - P (1) и U (-1)"
      ]
    },
    {
      "cell_type": "code",
      "execution_count": 35,
      "metadata": {
        "colab": {
          "base_uri": "https://localhost:8080/"
        },
        "id": "-zF77IMXPfpv",
        "outputId": "71fc722c-7c01-4029-9299-c31272d0f6ee"
      },
      "outputs": [
        {
          "output_type": "stream",
          "name": "stdout",
          "text": [
            "target variable:\n",
            " -1    1219\n",
            " 1     153\n",
            "Name: class_test, dtype: int64\n"
          ]
        }
      ],
      "source": [
        "mod_data['class_test'] = -1\n",
        "mod_data.loc[pos_sample,'class_test'] = 1\n",
        "print('target variable:\\n', mod_data.iloc[:,-1].value_counts())"
      ]
    },
    {
      "cell_type": "markdown",
      "metadata": {
        "id": "QLjf9OBSPfpy"
      },
      "source": [
        "* 153 позитивных примеров (1)\n",
        "* 1219 без разметки (-1)"
      ]
    },
    {
      "cell_type": "code",
      "execution_count": 36,
      "metadata": {
        "colab": {
          "base_uri": "https://localhost:8080/",
          "height": 363
        },
        "id": "Tzry0pSJPfp1",
        "outputId": "a6bf6a68-3f32-43a5-994d-5d76fd56ed5c"
      },
      "outputs": [
        {
          "output_type": "execute_result",
          "data": {
            "text/plain": [
              "         0       1        2        3  4  class_test\n",
              "0  3.62160  8.6661 -2.80730 -0.44699  0          -1\n",
              "1  4.54590  8.1674 -2.45860 -1.46210  0          -1\n",
              "2  3.86600 -2.6383  1.92420  0.10645  0          -1\n",
              "3  3.45660  9.5228 -4.01120 -3.59440  0          -1\n",
              "4  0.32924 -4.4552  4.57180 -0.98880  0          -1\n",
              "5  4.36840  9.6718 -3.96060 -3.16250  0          -1\n",
              "6  3.59120  3.0129  0.72888  0.56421  0          -1\n",
              "7  2.09220 -6.8100  8.46360 -0.60216  0          -1\n",
              "8  3.20320  5.7588 -0.75345 -0.61251  0          -1\n",
              "9  1.53560  9.1772 -2.27180 -0.73535  0          -1"
            ],
            "text/html": [
              "\n",
              "  <div id=\"df-52ce5d2f-c6a4-4a0f-82cf-e507a9d6893e\">\n",
              "    <div class=\"colab-df-container\">\n",
              "      <div>\n",
              "<style scoped>\n",
              "    .dataframe tbody tr th:only-of-type {\n",
              "        vertical-align: middle;\n",
              "    }\n",
              "\n",
              "    .dataframe tbody tr th {\n",
              "        vertical-align: top;\n",
              "    }\n",
              "\n",
              "    .dataframe thead th {\n",
              "        text-align: right;\n",
              "    }\n",
              "</style>\n",
              "<table border=\"1\" class=\"dataframe\">\n",
              "  <thead>\n",
              "    <tr style=\"text-align: right;\">\n",
              "      <th></th>\n",
              "      <th>0</th>\n",
              "      <th>1</th>\n",
              "      <th>2</th>\n",
              "      <th>3</th>\n",
              "      <th>4</th>\n",
              "      <th>class_test</th>\n",
              "    </tr>\n",
              "  </thead>\n",
              "  <tbody>\n",
              "    <tr>\n",
              "      <th>0</th>\n",
              "      <td>3.62160</td>\n",
              "      <td>8.6661</td>\n",
              "      <td>-2.80730</td>\n",
              "      <td>-0.44699</td>\n",
              "      <td>0</td>\n",
              "      <td>-1</td>\n",
              "    </tr>\n",
              "    <tr>\n",
              "      <th>1</th>\n",
              "      <td>4.54590</td>\n",
              "      <td>8.1674</td>\n",
              "      <td>-2.45860</td>\n",
              "      <td>-1.46210</td>\n",
              "      <td>0</td>\n",
              "      <td>-1</td>\n",
              "    </tr>\n",
              "    <tr>\n",
              "      <th>2</th>\n",
              "      <td>3.86600</td>\n",
              "      <td>-2.6383</td>\n",
              "      <td>1.92420</td>\n",
              "      <td>0.10645</td>\n",
              "      <td>0</td>\n",
              "      <td>-1</td>\n",
              "    </tr>\n",
              "    <tr>\n",
              "      <th>3</th>\n",
              "      <td>3.45660</td>\n",
              "      <td>9.5228</td>\n",
              "      <td>-4.01120</td>\n",
              "      <td>-3.59440</td>\n",
              "      <td>0</td>\n",
              "      <td>-1</td>\n",
              "    </tr>\n",
              "    <tr>\n",
              "      <th>4</th>\n",
              "      <td>0.32924</td>\n",
              "      <td>-4.4552</td>\n",
              "      <td>4.57180</td>\n",
              "      <td>-0.98880</td>\n",
              "      <td>0</td>\n",
              "      <td>-1</td>\n",
              "    </tr>\n",
              "    <tr>\n",
              "      <th>5</th>\n",
              "      <td>4.36840</td>\n",
              "      <td>9.6718</td>\n",
              "      <td>-3.96060</td>\n",
              "      <td>-3.16250</td>\n",
              "      <td>0</td>\n",
              "      <td>-1</td>\n",
              "    </tr>\n",
              "    <tr>\n",
              "      <th>6</th>\n",
              "      <td>3.59120</td>\n",
              "      <td>3.0129</td>\n",
              "      <td>0.72888</td>\n",
              "      <td>0.56421</td>\n",
              "      <td>0</td>\n",
              "      <td>-1</td>\n",
              "    </tr>\n",
              "    <tr>\n",
              "      <th>7</th>\n",
              "      <td>2.09220</td>\n",
              "      <td>-6.8100</td>\n",
              "      <td>8.46360</td>\n",
              "      <td>-0.60216</td>\n",
              "      <td>0</td>\n",
              "      <td>-1</td>\n",
              "    </tr>\n",
              "    <tr>\n",
              "      <th>8</th>\n",
              "      <td>3.20320</td>\n",
              "      <td>5.7588</td>\n",
              "      <td>-0.75345</td>\n",
              "      <td>-0.61251</td>\n",
              "      <td>0</td>\n",
              "      <td>-1</td>\n",
              "    </tr>\n",
              "    <tr>\n",
              "      <th>9</th>\n",
              "      <td>1.53560</td>\n",
              "      <td>9.1772</td>\n",
              "      <td>-2.27180</td>\n",
              "      <td>-0.73535</td>\n",
              "      <td>0</td>\n",
              "      <td>-1</td>\n",
              "    </tr>\n",
              "  </tbody>\n",
              "</table>\n",
              "</div>\n",
              "      <button class=\"colab-df-convert\" onclick=\"convertToInteractive('df-52ce5d2f-c6a4-4a0f-82cf-e507a9d6893e')\"\n",
              "              title=\"Convert this dataframe to an interactive table.\"\n",
              "              style=\"display:none;\">\n",
              "        \n",
              "  <svg xmlns=\"http://www.w3.org/2000/svg\" height=\"24px\"viewBox=\"0 0 24 24\"\n",
              "       width=\"24px\">\n",
              "    <path d=\"M0 0h24v24H0V0z\" fill=\"none\"/>\n",
              "    <path d=\"M18.56 5.44l.94 2.06.94-2.06 2.06-.94-2.06-.94-.94-2.06-.94 2.06-2.06.94zm-11 1L8.5 8.5l.94-2.06 2.06-.94-2.06-.94L8.5 2.5l-.94 2.06-2.06.94zm10 10l.94 2.06.94-2.06 2.06-.94-2.06-.94-.94-2.06-.94 2.06-2.06.94z\"/><path d=\"M17.41 7.96l-1.37-1.37c-.4-.4-.92-.59-1.43-.59-.52 0-1.04.2-1.43.59L10.3 9.45l-7.72 7.72c-.78.78-.78 2.05 0 2.83L4 21.41c.39.39.9.59 1.41.59.51 0 1.02-.2 1.41-.59l7.78-7.78 2.81-2.81c.8-.78.8-2.07 0-2.86zM5.41 20L4 18.59l7.72-7.72 1.47 1.35L5.41 20z\"/>\n",
              "  </svg>\n",
              "      </button>\n",
              "      \n",
              "  <style>\n",
              "    .colab-df-container {\n",
              "      display:flex;\n",
              "      flex-wrap:wrap;\n",
              "      gap: 12px;\n",
              "    }\n",
              "\n",
              "    .colab-df-convert {\n",
              "      background-color: #E8F0FE;\n",
              "      border: none;\n",
              "      border-radius: 50%;\n",
              "      cursor: pointer;\n",
              "      display: none;\n",
              "      fill: #1967D2;\n",
              "      height: 32px;\n",
              "      padding: 0 0 0 0;\n",
              "      width: 32px;\n",
              "    }\n",
              "\n",
              "    .colab-df-convert:hover {\n",
              "      background-color: #E2EBFA;\n",
              "      box-shadow: 0px 1px 2px rgba(60, 64, 67, 0.3), 0px 1px 3px 1px rgba(60, 64, 67, 0.15);\n",
              "      fill: #174EA6;\n",
              "    }\n",
              "\n",
              "    [theme=dark] .colab-df-convert {\n",
              "      background-color: #3B4455;\n",
              "      fill: #D2E3FC;\n",
              "    }\n",
              "\n",
              "    [theme=dark] .colab-df-convert:hover {\n",
              "      background-color: #434B5C;\n",
              "      box-shadow: 0px 1px 3px 1px rgba(0, 0, 0, 0.15);\n",
              "      filter: drop-shadow(0px 1px 2px rgba(0, 0, 0, 0.3));\n",
              "      fill: #FFFFFF;\n",
              "    }\n",
              "  </style>\n",
              "\n",
              "      <script>\n",
              "        const buttonEl =\n",
              "          document.querySelector('#df-52ce5d2f-c6a4-4a0f-82cf-e507a9d6893e button.colab-df-convert');\n",
              "        buttonEl.style.display =\n",
              "          google.colab.kernel.accessAllowed ? 'block' : 'none';\n",
              "\n",
              "        async function convertToInteractive(key) {\n",
              "          const element = document.querySelector('#df-52ce5d2f-c6a4-4a0f-82cf-e507a9d6893e');\n",
              "          const dataTable =\n",
              "            await google.colab.kernel.invokeFunction('convertToInteractive',\n",
              "                                                     [key], {});\n",
              "          if (!dataTable) return;\n",
              "\n",
              "          const docLinkHtml = 'Like what you see? Visit the ' +\n",
              "            '<a target=\"_blank\" href=https://colab.research.google.com/notebooks/data_table.ipynb>data table notebook</a>'\n",
              "            + ' to learn more about interactive tables.';\n",
              "          element.innerHTML = '';\n",
              "          dataTable['output_type'] = 'display_data';\n",
              "          await google.colab.output.renderOutput(dataTable, element);\n",
              "          const docLink = document.createElement('div');\n",
              "          docLink.innerHTML = docLinkHtml;\n",
              "          element.appendChild(docLink);\n",
              "        }\n",
              "      </script>\n",
              "    </div>\n",
              "  </div>\n",
              "  "
            ]
          },
          "metadata": {},
          "execution_count": 36
        }
      ],
      "source": [
        "mod_data.head(10)"
      ]
    },
    {
      "cell_type": "markdown",
      "metadata": {
        "id": "xAs_-ZebPfp6"
      },
      "source": [
        "### random negative sampling"
      ]
    },
    {
      "cell_type": "markdown",
      "metadata": {
        "id": "pCplZOT7Pfp3"
      },
      "source": [
        "Помним, что (x_data) содержит целевой признак, который будем использовать для оценки качества\n",
        "\n",
        "Отделими [:-2] как истиный класс для проверки, и [:-1] как данные для входной разметки PUL"
      ]
    },
    {
      "cell_type": "code",
      "execution_count": 37,
      "metadata": {
        "scrolled": true,
        "colab": {
          "base_uri": "https://localhost:8080/"
        },
        "id": "qwR2aLAaPfp9",
        "outputId": "cce7c485-6c97-41e0-fb03-ab5e443afc99"
      },
      "outputs": [
        {
          "output_type": "stream",
          "name": "stdout",
          "text": [
            "(153, 6) (153, 6)\n"
          ]
        }
      ],
      "source": [
        "mod_data = mod_data.sample(frac=1)\n",
        "\n",
        "\n",
        "data_N = mod_data[mod_data['class_test'] == -1]\n",
        "data_P = mod_data[mod_data['class_test'] == 1]\n",
        "\n",
        "neg_sample = data_N[:data_P.shape[0]]\n",
        "sample_test = data_N[data_P.shape[0]:]\n",
        "pos_sample = data_P.copy()\n",
        "\n",
        "print(neg_sample.shape, pos_sample.shape)\n",
        "sample_train = pd.concat([neg_sample, pos_sample]).sample(frac=1)"
      ]
    },
    {
      "cell_type": "code",
      "execution_count": 38,
      "metadata": {
        "colab": {
          "base_uri": "https://localhost:8080/"
        },
        "id": "giyVfYx_Pfp_",
        "outputId": "45b4fa98-c305-4fe2-cd31-d8b7d7285c52"
      },
      "outputs": [
        {
          "output_type": "stream",
          "name": "stdout",
          "text": [
            "Classification results:\n",
            "f1: 86.67%\n",
            "roc: 88.55%\n",
            "recall: 79.19%\n",
            "precision: 95.71%\n"
          ]
        }
      ],
      "source": [
        "model = xgb.XGBClassifier()\n",
        "sample_train.loc[sample_train['class_test'] == -1, 'class_test'] = 0\n",
        "\n",
        "model.fit(sample_train.drop(columns=['class_test', 4]), \n",
        "          sample_train['class_test'])\n",
        "\n",
        "y_predict = model.predict(sample_test.drop(columns=['class_test', 4]))\n",
        "evaluate_results(sample_test[4], y_predict)"
      ]
    },
    {
      "cell_type": "markdown",
      "metadata": {
        "id": "VIm-RBetFs4x"
      },
      "source": [
        "**Краткие выводы**"
      ]
    },
    {
      "cell_type": "markdown",
      "metadata": {
        "id": "Y0MI-9lPFs40"
      },
      "source": [
        "Positive-Unlabeled (PU) learning можно перевести как «обучение на основе положительных и неразмеченных данных». \n",
        "\n",
        "По сути, PU learning —  это аналог бинарной классификация для случаев, когда имеются размеченные данные только одного из классов, но доступна неразмеченная смесь данных обоих классов. \n",
        "\n",
        "В общем случае мы даже не знаем, сколько данных в смеси соответствует положительному классу, а сколько — отрицательному. На основе таких наборов данных мы хотим построить бинарный классификатор: такой же, как и при наличии размеченных данных обоих классов."
      ]
    },
    {
      "cell_type": "markdown",
      "metadata": {
        "id": "QKwfPKC3PfqB"
      },
      "source": [
        "## Домашнее задание\n",
        "\n",
        "1. Взять любой набор данных для бинарной классификации (можно скачать один из модельных с https://archive.ics.uci.edu/ml/datasets.php)\n",
        "2. Обучить любой классификатор (какой вам нравится)\n",
        "3. Разделить ваш набор данных на два множества: P (positives) и U (unlabeled). Причем брать нужно не все положительные примеры (класс 1), а только лишь часть\n",
        "4. Применить random negative sampling для построения классификатора в новых условиях\n",
        "5. Сравнить качество с решением из пункта 3 (построить отчет - таблицу метрик)\n",
        "6. *Поэкспериментировать с долей P на шаге 5 (как будет меняться качество модели при уменьшении/увеличении размера P)"
      ]
    },
    {
      "cell_type": "code",
      "source": [
        "import pandas as pd\n",
        "from sklearn.base import BaseEstimator, TransformerMixin\n",
        "\n",
        "class FeatureSelector(BaseEstimator, TransformerMixin):\n",
        "    def __init__(self, column):\n",
        "        self.column = column\n",
        "\n",
        "    def fit(self, X, y=None):\n",
        "        return self\n",
        "\n",
        "    def transform(self, X, y=None):\n",
        "        return X[self.column]\n",
        "    \n",
        "class NumberSelector(BaseEstimator, TransformerMixin):\n",
        "    \"\"\"\n",
        "    Transformer to select a single column from the data frame to perform additional transformations on\n",
        "    Use on numeric columns in the data\n",
        "    \"\"\"\n",
        "    def __init__(self, key):\n",
        "        self.key = key\n",
        "\n",
        "    def fit(self, X, y=None):\n",
        "        return self\n",
        "\n",
        "    def transform(self, X):\n",
        "        return X[[self.key]]\n",
        "    \n",
        "class OHEEncoder(BaseEstimator, TransformerMixin):\n",
        "    def __init__(self, key):\n",
        "        self.key = key\n",
        "        self.columns = []\n",
        "\n",
        "    def fit(self, X, y=None):\n",
        "        self.columns = [col for col in pd.get_dummies(X, prefix=self.key).columns]\n",
        "        return self\n",
        "\n",
        "    def transform(self, X):\n",
        "        X = pd.get_dummies(X, prefix=self.key)\n",
        "        test_columns = [col for col in X.columns]\n",
        "        for col_ in self.columns:\n",
        "            if col_ not in test_columns:\n",
        "                X[col_] = 0\n",
        "        return X[self.columns]"
      ],
      "metadata": {
        "id": "Ls8hc-f6RUzI"
      },
      "execution_count": 43,
      "outputs": []
    },
    {
      "cell_type": "code",
      "source": [
        "from sklearn.pipeline import Pipeline, make_pipeline\n",
        "from sklearn.pipeline import FeatureUnion\n",
        "from sklearn.preprocessing import StandardScaler"
      ],
      "metadata": {
        "id": "LMIzE0-QQ_2z"
      },
      "execution_count": 45,
      "outputs": []
    },
    {
      "cell_type": "code",
      "source": [
        "passengers_test = pd.read_csv('./test.csv')\n",
        "passengers_train = pd.read_csv('./train.csv')\n",
        "passengers_train_copy = passengers_train.copy()\n",
        "passengers_train.head(5)"
      ],
      "metadata": {
        "colab": {
          "base_uri": "https://localhost:8080/",
          "height": 389
        },
        "id": "67zr74_sR2SA",
        "outputId": "c8d79485-24e3-4cc3-b1b0-5ff61d7e1039"
      },
      "execution_count": 46,
      "outputs": [
        {
          "output_type": "execute_result",
          "data": {
            "text/plain": [
              "   PassengerId  Survived  Pclass  \\\n",
              "0            1         0       3   \n",
              "1            2         1       1   \n",
              "2            3         1       3   \n",
              "3            4         1       1   \n",
              "4            5         0       3   \n",
              "\n",
              "                                                Name     Sex   Age  SibSp  \\\n",
              "0                            Braund, Mr. Owen Harris    male  22.0      1   \n",
              "1  Cumings, Mrs. John Bradley (Florence Briggs Th...  female  38.0      1   \n",
              "2                             Heikkinen, Miss. Laina  female  26.0      0   \n",
              "3       Futrelle, Mrs. Jacques Heath (Lily May Peel)  female  35.0      1   \n",
              "4                           Allen, Mr. William Henry    male  35.0      0   \n",
              "\n",
              "   Parch            Ticket     Fare Cabin Embarked  \n",
              "0      0         A/5 21171   7.2500   NaN        S  \n",
              "1      0          PC 17599  71.2833   C85        C  \n",
              "2      0  STON/O2. 3101282   7.9250   NaN        S  \n",
              "3      0            113803  53.1000  C123        S  \n",
              "4      0            373450   8.0500   NaN        S  "
            ],
            "text/html": [
              "\n",
              "  <div id=\"df-126e4403-f19c-4e05-b144-dc8bfa71b71b\">\n",
              "    <div class=\"colab-df-container\">\n",
              "      <div>\n",
              "<style scoped>\n",
              "    .dataframe tbody tr th:only-of-type {\n",
              "        vertical-align: middle;\n",
              "    }\n",
              "\n",
              "    .dataframe tbody tr th {\n",
              "        vertical-align: top;\n",
              "    }\n",
              "\n",
              "    .dataframe thead th {\n",
              "        text-align: right;\n",
              "    }\n",
              "</style>\n",
              "<table border=\"1\" class=\"dataframe\">\n",
              "  <thead>\n",
              "    <tr style=\"text-align: right;\">\n",
              "      <th></th>\n",
              "      <th>PassengerId</th>\n",
              "      <th>Survived</th>\n",
              "      <th>Pclass</th>\n",
              "      <th>Name</th>\n",
              "      <th>Sex</th>\n",
              "      <th>Age</th>\n",
              "      <th>SibSp</th>\n",
              "      <th>Parch</th>\n",
              "      <th>Ticket</th>\n",
              "      <th>Fare</th>\n",
              "      <th>Cabin</th>\n",
              "      <th>Embarked</th>\n",
              "    </tr>\n",
              "  </thead>\n",
              "  <tbody>\n",
              "    <tr>\n",
              "      <th>0</th>\n",
              "      <td>1</td>\n",
              "      <td>0</td>\n",
              "      <td>3</td>\n",
              "      <td>Braund, Mr. Owen Harris</td>\n",
              "      <td>male</td>\n",
              "      <td>22.0</td>\n",
              "      <td>1</td>\n",
              "      <td>0</td>\n",
              "      <td>A/5 21171</td>\n",
              "      <td>7.2500</td>\n",
              "      <td>NaN</td>\n",
              "      <td>S</td>\n",
              "    </tr>\n",
              "    <tr>\n",
              "      <th>1</th>\n",
              "      <td>2</td>\n",
              "      <td>1</td>\n",
              "      <td>1</td>\n",
              "      <td>Cumings, Mrs. John Bradley (Florence Briggs Th...</td>\n",
              "      <td>female</td>\n",
              "      <td>38.0</td>\n",
              "      <td>1</td>\n",
              "      <td>0</td>\n",
              "      <td>PC 17599</td>\n",
              "      <td>71.2833</td>\n",
              "      <td>C85</td>\n",
              "      <td>C</td>\n",
              "    </tr>\n",
              "    <tr>\n",
              "      <th>2</th>\n",
              "      <td>3</td>\n",
              "      <td>1</td>\n",
              "      <td>3</td>\n",
              "      <td>Heikkinen, Miss. Laina</td>\n",
              "      <td>female</td>\n",
              "      <td>26.0</td>\n",
              "      <td>0</td>\n",
              "      <td>0</td>\n",
              "      <td>STON/O2. 3101282</td>\n",
              "      <td>7.9250</td>\n",
              "      <td>NaN</td>\n",
              "      <td>S</td>\n",
              "    </tr>\n",
              "    <tr>\n",
              "      <th>3</th>\n",
              "      <td>4</td>\n",
              "      <td>1</td>\n",
              "      <td>1</td>\n",
              "      <td>Futrelle, Mrs. Jacques Heath (Lily May Peel)</td>\n",
              "      <td>female</td>\n",
              "      <td>35.0</td>\n",
              "      <td>1</td>\n",
              "      <td>0</td>\n",
              "      <td>113803</td>\n",
              "      <td>53.1000</td>\n",
              "      <td>C123</td>\n",
              "      <td>S</td>\n",
              "    </tr>\n",
              "    <tr>\n",
              "      <th>4</th>\n",
              "      <td>5</td>\n",
              "      <td>0</td>\n",
              "      <td>3</td>\n",
              "      <td>Allen, Mr. William Henry</td>\n",
              "      <td>male</td>\n",
              "      <td>35.0</td>\n",
              "      <td>0</td>\n",
              "      <td>0</td>\n",
              "      <td>373450</td>\n",
              "      <td>8.0500</td>\n",
              "      <td>NaN</td>\n",
              "      <td>S</td>\n",
              "    </tr>\n",
              "  </tbody>\n",
              "</table>\n",
              "</div>\n",
              "      <button class=\"colab-df-convert\" onclick=\"convertToInteractive('df-126e4403-f19c-4e05-b144-dc8bfa71b71b')\"\n",
              "              title=\"Convert this dataframe to an interactive table.\"\n",
              "              style=\"display:none;\">\n",
              "        \n",
              "  <svg xmlns=\"http://www.w3.org/2000/svg\" height=\"24px\"viewBox=\"0 0 24 24\"\n",
              "       width=\"24px\">\n",
              "    <path d=\"M0 0h24v24H0V0z\" fill=\"none\"/>\n",
              "    <path d=\"M18.56 5.44l.94 2.06.94-2.06 2.06-.94-2.06-.94-.94-2.06-.94 2.06-2.06.94zm-11 1L8.5 8.5l.94-2.06 2.06-.94-2.06-.94L8.5 2.5l-.94 2.06-2.06.94zm10 10l.94 2.06.94-2.06 2.06-.94-2.06-.94-.94-2.06-.94 2.06-2.06.94z\"/><path d=\"M17.41 7.96l-1.37-1.37c-.4-.4-.92-.59-1.43-.59-.52 0-1.04.2-1.43.59L10.3 9.45l-7.72 7.72c-.78.78-.78 2.05 0 2.83L4 21.41c.39.39.9.59 1.41.59.51 0 1.02-.2 1.41-.59l7.78-7.78 2.81-2.81c.8-.78.8-2.07 0-2.86zM5.41 20L4 18.59l7.72-7.72 1.47 1.35L5.41 20z\"/>\n",
              "  </svg>\n",
              "      </button>\n",
              "      \n",
              "  <style>\n",
              "    .colab-df-container {\n",
              "      display:flex;\n",
              "      flex-wrap:wrap;\n",
              "      gap: 12px;\n",
              "    }\n",
              "\n",
              "    .colab-df-convert {\n",
              "      background-color: #E8F0FE;\n",
              "      border: none;\n",
              "      border-radius: 50%;\n",
              "      cursor: pointer;\n",
              "      display: none;\n",
              "      fill: #1967D2;\n",
              "      height: 32px;\n",
              "      padding: 0 0 0 0;\n",
              "      width: 32px;\n",
              "    }\n",
              "\n",
              "    .colab-df-convert:hover {\n",
              "      background-color: #E2EBFA;\n",
              "      box-shadow: 0px 1px 2px rgba(60, 64, 67, 0.3), 0px 1px 3px 1px rgba(60, 64, 67, 0.15);\n",
              "      fill: #174EA6;\n",
              "    }\n",
              "\n",
              "    [theme=dark] .colab-df-convert {\n",
              "      background-color: #3B4455;\n",
              "      fill: #D2E3FC;\n",
              "    }\n",
              "\n",
              "    [theme=dark] .colab-df-convert:hover {\n",
              "      background-color: #434B5C;\n",
              "      box-shadow: 0px 1px 3px 1px rgba(0, 0, 0, 0.15);\n",
              "      filter: drop-shadow(0px 1px 2px rgba(0, 0, 0, 0.3));\n",
              "      fill: #FFFFFF;\n",
              "    }\n",
              "  </style>\n",
              "\n",
              "      <script>\n",
              "        const buttonEl =\n",
              "          document.querySelector('#df-126e4403-f19c-4e05-b144-dc8bfa71b71b button.colab-df-convert');\n",
              "        buttonEl.style.display =\n",
              "          google.colab.kernel.accessAllowed ? 'block' : 'none';\n",
              "\n",
              "        async function convertToInteractive(key) {\n",
              "          const element = document.querySelector('#df-126e4403-f19c-4e05-b144-dc8bfa71b71b');\n",
              "          const dataTable =\n",
              "            await google.colab.kernel.invokeFunction('convertToInteractive',\n",
              "                                                     [key], {});\n",
              "          if (!dataTable) return;\n",
              "\n",
              "          const docLinkHtml = 'Like what you see? Visit the ' +\n",
              "            '<a target=\"_blank\" href=https://colab.research.google.com/notebooks/data_table.ipynb>data table notebook</a>'\n",
              "            + ' to learn more about interactive tables.';\n",
              "          element.innerHTML = '';\n",
              "          dataTable['output_type'] = 'display_data';\n",
              "          await google.colab.output.renderOutput(dataTable, element);\n",
              "          const docLink = document.createElement('div');\n",
              "          docLink.innerHTML = docLinkHtml;\n",
              "          element.appendChild(docLink);\n",
              "        }\n",
              "      </script>\n",
              "    </div>\n",
              "  </div>\n",
              "  "
            ]
          },
          "metadata": {},
          "execution_count": 46
        }
      ]
    },
    {
      "cell_type": "code",
      "source": [
        "passengers_train['Embarked'].value_counts()"
      ],
      "metadata": {
        "colab": {
          "base_uri": "https://localhost:8080/"
        },
        "id": "KwvI1qsfR4gt",
        "outputId": "0c468099-4e57-4c06-a969-afc79c733cba"
      },
      "execution_count": 47,
      "outputs": [
        {
          "output_type": "execute_result",
          "data": {
            "text/plain": [
              "S    644\n",
              "C    168\n",
              "Q     77\n",
              "Name: Embarked, dtype: int64"
            ]
          },
          "metadata": {},
          "execution_count": 47
        }
      ]
    },
    {
      "cell_type": "code",
      "source": [
        "#сделать feature engineering\n",
        "categorical_columns = ['Embarked', 'Sex']\n",
        "continuous_columns = ['Pclass', 'Age', 'SibSp', 'Parch', 'Fare']\n",
        "\n",
        "final_transformers = list()\n",
        "\n",
        "for cat_col in categorical_columns:\n",
        "    cat_transformer = Pipeline([\n",
        "        ('selector', FeatureSelector(column=cat_col)),\n",
        "        ('ohe', OHEEncoder(key=cat_col))\n",
        "    ])\n",
        "    final_transformers.append((cat_col, cat_transformer))\n",
        "    \n",
        "for cont_col in continuous_columns:\n",
        "    cont_transformer = Pipeline([\n",
        "        ('selector', NumberSelector(key=cont_col)),\n",
        "        ('standardizer', StandardScaler())\n",
        "    ])\n",
        "    final_transformers.append((cont_col, cont_transformer))\n",
        "from sklearn.pipeline import FeatureUnion\n",
        "\n",
        "feats = FeatureUnion(final_transformers)\n",
        "feature_processing = Pipeline([('feats', feats)])\n",
        "from xgboost import XGBClassifier\n",
        "\n",
        "xgboost_pipeline = Pipeline([\n",
        "    ('features', feats),\n",
        "    ('classifier', XGBClassifier(objective=\"binary:logistic\", use_label_encoder=False, random_state=42)),\n",
        "])"
      ],
      "metadata": {
        "id": "32e4ijFfR8N-"
      },
      "execution_count": 48,
      "outputs": []
    },
    {
      "cell_type": "code",
      "source": [
        "#обучить любой классификатор\n",
        "\n",
        "from sklearn.model_selection import cross_val_score\n",
        "from sklearn.model_selection import ShuffleSplit\n",
        "\n",
        "cv = ShuffleSplit(n_splits=5, test_size=0.3, random_state=0)\n",
        "\n",
        "X = passengers_train.drop(columns=['Survived', 'Name', 'PassengerId', 'Ticket', 'Cabin'])\n",
        "y = passengers_train['Survived']\n",
        "\n",
        "xgboost_precision_scores = cross_val_score(xgboost_pipeline, X, y, cv=cv, scoring=\"precision_macro\").mean()\n",
        "xgboost_recall_scores = cross_val_score(xgboost_pipeline, X, y, cv=cv, scoring=\"recall_macro\").mean()\n",
        "xgboost_roc_auc_scores = cross_val_score(xgboost_pipeline, X, y, cv=cv, scoring=\"roc_auc\").mean()\n",
        "xgboost_f1_score_scores = cross_val_score(xgboost_pipeline, X, y, cv=cv, scoring=\"f1_macro\").mean()"
      ],
      "metadata": {
        "id": "CPAuG5QLSBRN"
      },
      "execution_count": 51,
      "outputs": []
    },
    {
      "cell_type": "code",
      "source": [
        "data = {\n",
        "    'xgboost': [\n",
        "        np.mean(xgboost_precision_scores),\n",
        "        np.mean(xgboost_recall_scores),\n",
        "        np.mean(xgboost_roc_auc_scores),\n",
        "        np.mean(xgboost_f1_score_scores)\n",
        "    ]\n",
        "}\n",
        "before = pd.DataFrame.from_dict(data, orient='index', columns=['precision', 'recall', 'roc_auc', 'f1_score'])\n",
        "before"
      ],
      "metadata": {
        "colab": {
          "base_uri": "https://localhost:8080/",
          "height": 81
        },
        "id": "aMu-SSoPSGFe",
        "outputId": "ed9a625e-cf90-4353-e0f9-02f5f16c2206"
      },
      "execution_count": 52,
      "outputs": [
        {
          "output_type": "execute_result",
          "data": {
            "text/plain": [
              "         precision    recall   roc_auc  f1_score\n",
              "xgboost   0.817753  0.795478  0.876701  0.802887"
            ],
            "text/html": [
              "\n",
              "  <div id=\"df-e0764f48-19ab-4732-97ec-70bac231da52\">\n",
              "    <div class=\"colab-df-container\">\n",
              "      <div>\n",
              "<style scoped>\n",
              "    .dataframe tbody tr th:only-of-type {\n",
              "        vertical-align: middle;\n",
              "    }\n",
              "\n",
              "    .dataframe tbody tr th {\n",
              "        vertical-align: top;\n",
              "    }\n",
              "\n",
              "    .dataframe thead th {\n",
              "        text-align: right;\n",
              "    }\n",
              "</style>\n",
              "<table border=\"1\" class=\"dataframe\">\n",
              "  <thead>\n",
              "    <tr style=\"text-align: right;\">\n",
              "      <th></th>\n",
              "      <th>precision</th>\n",
              "      <th>recall</th>\n",
              "      <th>roc_auc</th>\n",
              "      <th>f1_score</th>\n",
              "    </tr>\n",
              "  </thead>\n",
              "  <tbody>\n",
              "    <tr>\n",
              "      <th>xgboost</th>\n",
              "      <td>0.817753</td>\n",
              "      <td>0.795478</td>\n",
              "      <td>0.876701</td>\n",
              "      <td>0.802887</td>\n",
              "    </tr>\n",
              "  </tbody>\n",
              "</table>\n",
              "</div>\n",
              "      <button class=\"colab-df-convert\" onclick=\"convertToInteractive('df-e0764f48-19ab-4732-97ec-70bac231da52')\"\n",
              "              title=\"Convert this dataframe to an interactive table.\"\n",
              "              style=\"display:none;\">\n",
              "        \n",
              "  <svg xmlns=\"http://www.w3.org/2000/svg\" height=\"24px\"viewBox=\"0 0 24 24\"\n",
              "       width=\"24px\">\n",
              "    <path d=\"M0 0h24v24H0V0z\" fill=\"none\"/>\n",
              "    <path d=\"M18.56 5.44l.94 2.06.94-2.06 2.06-.94-2.06-.94-.94-2.06-.94 2.06-2.06.94zm-11 1L8.5 8.5l.94-2.06 2.06-.94-2.06-.94L8.5 2.5l-.94 2.06-2.06.94zm10 10l.94 2.06.94-2.06 2.06-.94-2.06-.94-.94-2.06-.94 2.06-2.06.94z\"/><path d=\"M17.41 7.96l-1.37-1.37c-.4-.4-.92-.59-1.43-.59-.52 0-1.04.2-1.43.59L10.3 9.45l-7.72 7.72c-.78.78-.78 2.05 0 2.83L4 21.41c.39.39.9.59 1.41.59.51 0 1.02-.2 1.41-.59l7.78-7.78 2.81-2.81c.8-.78.8-2.07 0-2.86zM5.41 20L4 18.59l7.72-7.72 1.47 1.35L5.41 20z\"/>\n",
              "  </svg>\n",
              "      </button>\n",
              "      \n",
              "  <style>\n",
              "    .colab-df-container {\n",
              "      display:flex;\n",
              "      flex-wrap:wrap;\n",
              "      gap: 12px;\n",
              "    }\n",
              "\n",
              "    .colab-df-convert {\n",
              "      background-color: #E8F0FE;\n",
              "      border: none;\n",
              "      border-radius: 50%;\n",
              "      cursor: pointer;\n",
              "      display: none;\n",
              "      fill: #1967D2;\n",
              "      height: 32px;\n",
              "      padding: 0 0 0 0;\n",
              "      width: 32px;\n",
              "    }\n",
              "\n",
              "    .colab-df-convert:hover {\n",
              "      background-color: #E2EBFA;\n",
              "      box-shadow: 0px 1px 2px rgba(60, 64, 67, 0.3), 0px 1px 3px 1px rgba(60, 64, 67, 0.15);\n",
              "      fill: #174EA6;\n",
              "    }\n",
              "\n",
              "    [theme=dark] .colab-df-convert {\n",
              "      background-color: #3B4455;\n",
              "      fill: #D2E3FC;\n",
              "    }\n",
              "\n",
              "    [theme=dark] .colab-df-convert:hover {\n",
              "      background-color: #434B5C;\n",
              "      box-shadow: 0px 1px 3px 1px rgba(0, 0, 0, 0.15);\n",
              "      filter: drop-shadow(0px 1px 2px rgba(0, 0, 0, 0.3));\n",
              "      fill: #FFFFFF;\n",
              "    }\n",
              "  </style>\n",
              "\n",
              "      <script>\n",
              "        const buttonEl =\n",
              "          document.querySelector('#df-e0764f48-19ab-4732-97ec-70bac231da52 button.colab-df-convert');\n",
              "        buttonEl.style.display =\n",
              "          google.colab.kernel.accessAllowed ? 'block' : 'none';\n",
              "\n",
              "        async function convertToInteractive(key) {\n",
              "          const element = document.querySelector('#df-e0764f48-19ab-4732-97ec-70bac231da52');\n",
              "          const dataTable =\n",
              "            await google.colab.kernel.invokeFunction('convertToInteractive',\n",
              "                                                     [key], {});\n",
              "          if (!dataTable) return;\n",
              "\n",
              "          const docLinkHtml = 'Like what you see? Visit the ' +\n",
              "            '<a target=\"_blank\" href=https://colab.research.google.com/notebooks/data_table.ipynb>data table notebook</a>'\n",
              "            + ' to learn more about interactive tables.';\n",
              "          element.innerHTML = '';\n",
              "          dataTable['output_type'] = 'display_data';\n",
              "          await google.colab.output.renderOutput(dataTable, element);\n",
              "          const docLink = document.createElement('div');\n",
              "          docLink.innerHTML = docLinkHtml;\n",
              "          element.appendChild(docLink);\n",
              "        }\n",
              "      </script>\n",
              "    </div>\n",
              "  </div>\n",
              "  "
            ]
          },
          "metadata": {},
          "execution_count": 52
        }
      ]
    },
    {
      "cell_type": "code",
      "source": [
        "#разделить ваш набор данных на два множества: P (positives) и U (unlabeled). Причем брать нужно не все положительные (класс 1) примеры, а только лишь часть\n",
        "#этот полностью размеченный датасет. ПУсть нам неизвестны негативы и часть позитивов.\n",
        "\n",
        "mod_data = passengers_train_copy\n",
        "# get the indices of the positives samples\n",
        "pos_ind = np.where(mod_data['Survived'].values == 1)[0]\n",
        "# shuffle them\n",
        "np.random.shuffle(pos_ind)\n",
        "# leave just 25% of the positives marked\n",
        "pos_sample_len = int(np.ceil(0.25 * len(pos_ind)))\n",
        "\n",
        "print(f'Using {pos_sample_len}/{len(pos_ind)} as positives and unlabeling the rest')\n",
        "\n",
        "pos_sample = pos_ind[:pos_sample_len]"
      ],
      "metadata": {
        "colab": {
          "base_uri": "https://localhost:8080/"
        },
        "id": "jVJCmU7FSYiw",
        "outputId": "079c2b73-ca97-4b5b-86b8-2865d529c04c"
      },
      "execution_count": 54,
      "outputs": [
        {
          "output_type": "stream",
          "name": "stdout",
          "text": [
            "Using 86/342 as positives and unlabeling the rest\n"
          ]
        }
      ]
    },
    {
      "cell_type": "code",
      "source": [
        "mod_data['class_test'] = -1\n",
        "mod_data.loc[pos_sample,'class_test'] = 1\n",
        "\n",
        "print('target variable:\\n', mod_data.iloc[:,-1].value_counts())"
      ],
      "metadata": {
        "colab": {
          "base_uri": "https://localhost:8080/"
        },
        "id": "ZnyIERMSSn_N",
        "outputId": "4e644b5b-e6b0-4e18-d663-c58ba237a35f"
      },
      "execution_count": 55,
      "outputs": [
        {
          "output_type": "stream",
          "name": "stdout",
          "text": [
            "target variable:\n",
            " -1    805\n",
            " 1     86\n",
            "Name: class_test, dtype: int64\n"
          ]
        }
      ]
    },
    {
      "cell_type": "code",
      "source": [
        "mod_data.head(5)"
      ],
      "metadata": {
        "colab": {
          "base_uri": "https://localhost:8080/",
          "height": 548
        },
        "id": "WjSTDQBjSrxY",
        "outputId": "b6b6688b-6ac9-4416-97c7-0f5f86746ce1"
      },
      "execution_count": 56,
      "outputs": [
        {
          "output_type": "execute_result",
          "data": {
            "text/plain": [
              "   PassengerId  Survived  Pclass  \\\n",
              "0            1         0       3   \n",
              "1            2         1       1   \n",
              "2            3         1       3   \n",
              "3            4         1       1   \n",
              "4            5         0       3   \n",
              "\n",
              "                                                Name     Sex   Age  SibSp  \\\n",
              "0                            Braund, Mr. Owen Harris    male  22.0      1   \n",
              "1  Cumings, Mrs. John Bradley (Florence Briggs Th...  female  38.0      1   \n",
              "2                             Heikkinen, Miss. Laina  female  26.0      0   \n",
              "3       Futrelle, Mrs. Jacques Heath (Lily May Peel)  female  35.0      1   \n",
              "4                           Allen, Mr. William Henry    male  35.0      0   \n",
              "\n",
              "   Parch            Ticket     Fare Cabin Embarked  class_test  \n",
              "0      0         A/5 21171   7.2500   NaN        S          -1  \n",
              "1      0          PC 17599  71.2833   C85        C          -1  \n",
              "2      0  STON/O2. 3101282   7.9250   NaN        S          -1  \n",
              "3      0            113803  53.1000  C123        S           1  \n",
              "4      0            373450   8.0500   NaN        S          -1  "
            ],
            "text/html": [
              "\n",
              "  <div id=\"df-0bd4e396-784b-400c-988b-6ad64c6ddc5d\">\n",
              "    <div class=\"colab-df-container\">\n",
              "      <div>\n",
              "<style scoped>\n",
              "    .dataframe tbody tr th:only-of-type {\n",
              "        vertical-align: middle;\n",
              "    }\n",
              "\n",
              "    .dataframe tbody tr th {\n",
              "        vertical-align: top;\n",
              "    }\n",
              "\n",
              "    .dataframe thead th {\n",
              "        text-align: right;\n",
              "    }\n",
              "</style>\n",
              "<table border=\"1\" class=\"dataframe\">\n",
              "  <thead>\n",
              "    <tr style=\"text-align: right;\">\n",
              "      <th></th>\n",
              "      <th>PassengerId</th>\n",
              "      <th>Survived</th>\n",
              "      <th>Pclass</th>\n",
              "      <th>Name</th>\n",
              "      <th>Sex</th>\n",
              "      <th>Age</th>\n",
              "      <th>SibSp</th>\n",
              "      <th>Parch</th>\n",
              "      <th>Ticket</th>\n",
              "      <th>Fare</th>\n",
              "      <th>Cabin</th>\n",
              "      <th>Embarked</th>\n",
              "      <th>class_test</th>\n",
              "    </tr>\n",
              "  </thead>\n",
              "  <tbody>\n",
              "    <tr>\n",
              "      <th>0</th>\n",
              "      <td>1</td>\n",
              "      <td>0</td>\n",
              "      <td>3</td>\n",
              "      <td>Braund, Mr. Owen Harris</td>\n",
              "      <td>male</td>\n",
              "      <td>22.0</td>\n",
              "      <td>1</td>\n",
              "      <td>0</td>\n",
              "      <td>A/5 21171</td>\n",
              "      <td>7.2500</td>\n",
              "      <td>NaN</td>\n",
              "      <td>S</td>\n",
              "      <td>-1</td>\n",
              "    </tr>\n",
              "    <tr>\n",
              "      <th>1</th>\n",
              "      <td>2</td>\n",
              "      <td>1</td>\n",
              "      <td>1</td>\n",
              "      <td>Cumings, Mrs. John Bradley (Florence Briggs Th...</td>\n",
              "      <td>female</td>\n",
              "      <td>38.0</td>\n",
              "      <td>1</td>\n",
              "      <td>0</td>\n",
              "      <td>PC 17599</td>\n",
              "      <td>71.2833</td>\n",
              "      <td>C85</td>\n",
              "      <td>C</td>\n",
              "      <td>-1</td>\n",
              "    </tr>\n",
              "    <tr>\n",
              "      <th>2</th>\n",
              "      <td>3</td>\n",
              "      <td>1</td>\n",
              "      <td>3</td>\n",
              "      <td>Heikkinen, Miss. Laina</td>\n",
              "      <td>female</td>\n",
              "      <td>26.0</td>\n",
              "      <td>0</td>\n",
              "      <td>0</td>\n",
              "      <td>STON/O2. 3101282</td>\n",
              "      <td>7.9250</td>\n",
              "      <td>NaN</td>\n",
              "      <td>S</td>\n",
              "      <td>-1</td>\n",
              "    </tr>\n",
              "    <tr>\n",
              "      <th>3</th>\n",
              "      <td>4</td>\n",
              "      <td>1</td>\n",
              "      <td>1</td>\n",
              "      <td>Futrelle, Mrs. Jacques Heath (Lily May Peel)</td>\n",
              "      <td>female</td>\n",
              "      <td>35.0</td>\n",
              "      <td>1</td>\n",
              "      <td>0</td>\n",
              "      <td>113803</td>\n",
              "      <td>53.1000</td>\n",
              "      <td>C123</td>\n",
              "      <td>S</td>\n",
              "      <td>1</td>\n",
              "    </tr>\n",
              "    <tr>\n",
              "      <th>4</th>\n",
              "      <td>5</td>\n",
              "      <td>0</td>\n",
              "      <td>3</td>\n",
              "      <td>Allen, Mr. William Henry</td>\n",
              "      <td>male</td>\n",
              "      <td>35.0</td>\n",
              "      <td>0</td>\n",
              "      <td>0</td>\n",
              "      <td>373450</td>\n",
              "      <td>8.0500</td>\n",
              "      <td>NaN</td>\n",
              "      <td>S</td>\n",
              "      <td>-1</td>\n",
              "    </tr>\n",
              "  </tbody>\n",
              "</table>\n",
              "</div>\n",
              "      <button class=\"colab-df-convert\" onclick=\"convertToInteractive('df-0bd4e396-784b-400c-988b-6ad64c6ddc5d')\"\n",
              "              title=\"Convert this dataframe to an interactive table.\"\n",
              "              style=\"display:none;\">\n",
              "        \n",
              "  <svg xmlns=\"http://www.w3.org/2000/svg\" height=\"24px\"viewBox=\"0 0 24 24\"\n",
              "       width=\"24px\">\n",
              "    <path d=\"M0 0h24v24H0V0z\" fill=\"none\"/>\n",
              "    <path d=\"M18.56 5.44l.94 2.06.94-2.06 2.06-.94-2.06-.94-.94-2.06-.94 2.06-2.06.94zm-11 1L8.5 8.5l.94-2.06 2.06-.94-2.06-.94L8.5 2.5l-.94 2.06-2.06.94zm10 10l.94 2.06.94-2.06 2.06-.94-2.06-.94-.94-2.06-.94 2.06-2.06.94z\"/><path d=\"M17.41 7.96l-1.37-1.37c-.4-.4-.92-.59-1.43-.59-.52 0-1.04.2-1.43.59L10.3 9.45l-7.72 7.72c-.78.78-.78 2.05 0 2.83L4 21.41c.39.39.9.59 1.41.59.51 0 1.02-.2 1.41-.59l7.78-7.78 2.81-2.81c.8-.78.8-2.07 0-2.86zM5.41 20L4 18.59l7.72-7.72 1.47 1.35L5.41 20z\"/>\n",
              "  </svg>\n",
              "      </button>\n",
              "      \n",
              "  <style>\n",
              "    .colab-df-container {\n",
              "      display:flex;\n",
              "      flex-wrap:wrap;\n",
              "      gap: 12px;\n",
              "    }\n",
              "\n",
              "    .colab-df-convert {\n",
              "      background-color: #E8F0FE;\n",
              "      border: none;\n",
              "      border-radius: 50%;\n",
              "      cursor: pointer;\n",
              "      display: none;\n",
              "      fill: #1967D2;\n",
              "      height: 32px;\n",
              "      padding: 0 0 0 0;\n",
              "      width: 32px;\n",
              "    }\n",
              "\n",
              "    .colab-df-convert:hover {\n",
              "      background-color: #E2EBFA;\n",
              "      box-shadow: 0px 1px 2px rgba(60, 64, 67, 0.3), 0px 1px 3px 1px rgba(60, 64, 67, 0.15);\n",
              "      fill: #174EA6;\n",
              "    }\n",
              "\n",
              "    [theme=dark] .colab-df-convert {\n",
              "      background-color: #3B4455;\n",
              "      fill: #D2E3FC;\n",
              "    }\n",
              "\n",
              "    [theme=dark] .colab-df-convert:hover {\n",
              "      background-color: #434B5C;\n",
              "      box-shadow: 0px 1px 3px 1px rgba(0, 0, 0, 0.15);\n",
              "      filter: drop-shadow(0px 1px 2px rgba(0, 0, 0, 0.3));\n",
              "      fill: #FFFFFF;\n",
              "    }\n",
              "  </style>\n",
              "\n",
              "      <script>\n",
              "        const buttonEl =\n",
              "          document.querySelector('#df-0bd4e396-784b-400c-988b-6ad64c6ddc5d button.colab-df-convert');\n",
              "        buttonEl.style.display =\n",
              "          google.colab.kernel.accessAllowed ? 'block' : 'none';\n",
              "\n",
              "        async function convertToInteractive(key) {\n",
              "          const element = document.querySelector('#df-0bd4e396-784b-400c-988b-6ad64c6ddc5d');\n",
              "          const dataTable =\n",
              "            await google.colab.kernel.invokeFunction('convertToInteractive',\n",
              "                                                     [key], {});\n",
              "          if (!dataTable) return;\n",
              "\n",
              "          const docLinkHtml = 'Like what you see? Visit the ' +\n",
              "            '<a target=\"_blank\" href=https://colab.research.google.com/notebooks/data_table.ipynb>data table notebook</a>'\n",
              "            + ' to learn more about interactive tables.';\n",
              "          element.innerHTML = '';\n",
              "          dataTable['output_type'] = 'display_data';\n",
              "          await google.colab.output.renderOutput(dataTable, element);\n",
              "          const docLink = document.createElement('div');\n",
              "          docLink.innerHTML = docLinkHtml;\n",
              "          element.appendChild(docLink);\n",
              "        }\n",
              "      </script>\n",
              "    </div>\n",
              "  </div>\n",
              "  "
            ]
          },
          "metadata": {},
          "execution_count": 56
        }
      ]
    },
    {
      "cell_type": "code",
      "source": [
        "x_data = mod_data.iloc[:,:-1].values # just the X \n",
        "y_labeled = mod_data.iloc[:,-1].values # new class (just the P & U)\n",
        "y_positive = mod_data.iloc[:,-1].values # original class\n",
        "\n",
        "#применить random negative sampling для построения классификатора в новых условиях\n",
        "\n",
        "mod_data = mod_data.sample(frac=1)\n",
        "neg_sample = mod_data[mod_data['class_test']==-1][:len(mod_data[mod_data['class_test']==1])]\n",
        "sample_test = mod_data[mod_data['class_test']==-1][len(mod_data[mod_data['class_test']==1]):]\n",
        "pos_sample = mod_data[mod_data['class_test']==1]\n",
        "\n",
        "print(neg_sample.shape, pos_sample.shape)\n",
        "\n",
        "sample_train = pd.concat([neg_sample, pos_sample]).sample(frac=1)"
      ],
      "metadata": {
        "colab": {
          "base_uri": "https://localhost:8080/"
        },
        "id": "g7Azk0MmSvs8",
        "outputId": "f3cd654d-2f6c-4e4b-92fe-6c463fe62d29"
      },
      "execution_count": 57,
      "outputs": [
        {
          "output_type": "stream",
          "name": "stdout",
          "text": [
            "(86, 13) (86, 13)\n"
          ]
        }
      ]
    },
    {
      "cell_type": "code",
      "source": [
        "from sklearn.metrics import recall_score, precision_score, roc_auc_score, accuracy_score, f1_score\n",
        "\n",
        "def evaluate_results(y_test, y_predict):\n",
        "    print('Classification results:')\n",
        "    f1 = f1_score(y_test, y_predict)\n",
        "    print(\"f1: %.2f%%\" % (f1 * 100.0)) \n",
        "    roc = roc_auc_score(y_test, y_predict)\n",
        "    print(\"roc: %.2f%%\" % (roc * 100.0)) \n",
        "    rec = recall_score(y_test, y_predict, average='binary')\n",
        "    print(\"recall: %.2f%%\" % (rec * 100.0))\n",
        "    prc = precision_score(y_test, y_predict, average='binary')\n",
        "    print(\"precision: %.2f%%\" % (prc * 100.0)) \n",
        "columns_to_drop = ['Survived']\n",
        "target = 'class_test'\n",
        "\n",
        "X = sample_train.drop(columns=['Survived', 'Name', 'PassengerId', 'Ticket', 'Cabin'])\n",
        "y = sample_train['Survived']\n",
        "\n",
        "xgboost_precision_scores_after = cross_val_score(xgboost_pipeline, X, y, cv=cv, scoring=\"precision_macro\").mean()\n",
        "xgboost_recall_scores_after = cross_val_score(xgboost_pipeline, X, y, cv=cv, scoring=\"recall_macro\").mean()\n",
        "xgboost_roc_auc_scores_after = cross_val_score(xgboost_pipeline, X, y, cv=cv, scoring=\"roc_auc\").mean()\n",
        "xgboost_f1_score_scores_after = cross_val_score(xgboost_pipeline, X, y, cv=cv, scoring=\"f1_macro\").mean()"
      ],
      "metadata": {
        "id": "rG-cVHdRS28s"
      },
      "execution_count": 58,
      "outputs": []
    },
    {
      "cell_type": "code",
      "source": [
        "data = {\n",
        "    'xgboost': [\n",
        "        np.mean(xgboost_precision_scores_after),\n",
        "        np.mean(xgboost_recall_scores_after),\n",
        "        np.mean(xgboost_roc_auc_scores_after),\n",
        "        np.mean(xgboost_f1_score_scores_after)\n",
        "    ]\n",
        "}\n",
        "after = pd.DataFrame.from_dict(data, orient='index', columns=['precision', 'recall', 'roc_auc', 'f1_score'])\n",
        "after"
      ],
      "metadata": {
        "colab": {
          "base_uri": "https://localhost:8080/",
          "height": 81
        },
        "id": "llV-IvX1S6-n",
        "outputId": "2332f1fa-c4ad-419b-bb7c-a58418a210cf"
      },
      "execution_count": 59,
      "outputs": [
        {
          "output_type": "execute_result",
          "data": {
            "text/plain": [
              "         precision    recall  roc_auc  f1_score\n",
              "xgboost   0.711135  0.709058  0.77338  0.699863"
            ],
            "text/html": [
              "\n",
              "  <div id=\"df-d25fe4da-6689-46f9-a66f-8361b54f2e86\">\n",
              "    <div class=\"colab-df-container\">\n",
              "      <div>\n",
              "<style scoped>\n",
              "    .dataframe tbody tr th:only-of-type {\n",
              "        vertical-align: middle;\n",
              "    }\n",
              "\n",
              "    .dataframe tbody tr th {\n",
              "        vertical-align: top;\n",
              "    }\n",
              "\n",
              "    .dataframe thead th {\n",
              "        text-align: right;\n",
              "    }\n",
              "</style>\n",
              "<table border=\"1\" class=\"dataframe\">\n",
              "  <thead>\n",
              "    <tr style=\"text-align: right;\">\n",
              "      <th></th>\n",
              "      <th>precision</th>\n",
              "      <th>recall</th>\n",
              "      <th>roc_auc</th>\n",
              "      <th>f1_score</th>\n",
              "    </tr>\n",
              "  </thead>\n",
              "  <tbody>\n",
              "    <tr>\n",
              "      <th>xgboost</th>\n",
              "      <td>0.711135</td>\n",
              "      <td>0.709058</td>\n",
              "      <td>0.77338</td>\n",
              "      <td>0.699863</td>\n",
              "    </tr>\n",
              "  </tbody>\n",
              "</table>\n",
              "</div>\n",
              "      <button class=\"colab-df-convert\" onclick=\"convertToInteractive('df-d25fe4da-6689-46f9-a66f-8361b54f2e86')\"\n",
              "              title=\"Convert this dataframe to an interactive table.\"\n",
              "              style=\"display:none;\">\n",
              "        \n",
              "  <svg xmlns=\"http://www.w3.org/2000/svg\" height=\"24px\"viewBox=\"0 0 24 24\"\n",
              "       width=\"24px\">\n",
              "    <path d=\"M0 0h24v24H0V0z\" fill=\"none\"/>\n",
              "    <path d=\"M18.56 5.44l.94 2.06.94-2.06 2.06-.94-2.06-.94-.94-2.06-.94 2.06-2.06.94zm-11 1L8.5 8.5l.94-2.06 2.06-.94-2.06-.94L8.5 2.5l-.94 2.06-2.06.94zm10 10l.94 2.06.94-2.06 2.06-.94-2.06-.94-.94-2.06-.94 2.06-2.06.94z\"/><path d=\"M17.41 7.96l-1.37-1.37c-.4-.4-.92-.59-1.43-.59-.52 0-1.04.2-1.43.59L10.3 9.45l-7.72 7.72c-.78.78-.78 2.05 0 2.83L4 21.41c.39.39.9.59 1.41.59.51 0 1.02-.2 1.41-.59l7.78-7.78 2.81-2.81c.8-.78.8-2.07 0-2.86zM5.41 20L4 18.59l7.72-7.72 1.47 1.35L5.41 20z\"/>\n",
              "  </svg>\n",
              "      </button>\n",
              "      \n",
              "  <style>\n",
              "    .colab-df-container {\n",
              "      display:flex;\n",
              "      flex-wrap:wrap;\n",
              "      gap: 12px;\n",
              "    }\n",
              "\n",
              "    .colab-df-convert {\n",
              "      background-color: #E8F0FE;\n",
              "      border: none;\n",
              "      border-radius: 50%;\n",
              "      cursor: pointer;\n",
              "      display: none;\n",
              "      fill: #1967D2;\n",
              "      height: 32px;\n",
              "      padding: 0 0 0 0;\n",
              "      width: 32px;\n",
              "    }\n",
              "\n",
              "    .colab-df-convert:hover {\n",
              "      background-color: #E2EBFA;\n",
              "      box-shadow: 0px 1px 2px rgba(60, 64, 67, 0.3), 0px 1px 3px 1px rgba(60, 64, 67, 0.15);\n",
              "      fill: #174EA6;\n",
              "    }\n",
              "\n",
              "    [theme=dark] .colab-df-convert {\n",
              "      background-color: #3B4455;\n",
              "      fill: #D2E3FC;\n",
              "    }\n",
              "\n",
              "    [theme=dark] .colab-df-convert:hover {\n",
              "      background-color: #434B5C;\n",
              "      box-shadow: 0px 1px 3px 1px rgba(0, 0, 0, 0.15);\n",
              "      filter: drop-shadow(0px 1px 2px rgba(0, 0, 0, 0.3));\n",
              "      fill: #FFFFFF;\n",
              "    }\n",
              "  </style>\n",
              "\n",
              "      <script>\n",
              "        const buttonEl =\n",
              "          document.querySelector('#df-d25fe4da-6689-46f9-a66f-8361b54f2e86 button.colab-df-convert');\n",
              "        buttonEl.style.display =\n",
              "          google.colab.kernel.accessAllowed ? 'block' : 'none';\n",
              "\n",
              "        async function convertToInteractive(key) {\n",
              "          const element = document.querySelector('#df-d25fe4da-6689-46f9-a66f-8361b54f2e86');\n",
              "          const dataTable =\n",
              "            await google.colab.kernel.invokeFunction('convertToInteractive',\n",
              "                                                     [key], {});\n",
              "          if (!dataTable) return;\n",
              "\n",
              "          const docLinkHtml = 'Like what you see? Visit the ' +\n",
              "            '<a target=\"_blank\" href=https://colab.research.google.com/notebooks/data_table.ipynb>data table notebook</a>'\n",
              "            + ' to learn more about interactive tables.';\n",
              "          element.innerHTML = '';\n",
              "          dataTable['output_type'] = 'display_data';\n",
              "          await google.colab.output.renderOutput(dataTable, element);\n",
              "          const docLink = document.createElement('div');\n",
              "          docLink.innerHTML = docLinkHtml;\n",
              "          element.appendChild(docLink);\n",
              "        }\n",
              "      </script>\n",
              "    </div>\n",
              "  </div>\n",
              "  "
            ]
          },
          "metadata": {},
          "execution_count": 59
        }
      ]
    },
    {
      "cell_type": "code",
      "source": [
        "#сравнить качество с решением из пункта 4 (построить отчет - таблицу метрик)\n",
        "\n",
        "before.append(after) "
      ],
      "metadata": {
        "colab": {
          "base_uri": "https://localhost:8080/",
          "height": 112
        },
        "id": "jDpywqP1S8hB",
        "outputId": "9d44ae30-9c0e-4c1e-ba1a-97c7dda8919c"
      },
      "execution_count": 60,
      "outputs": [
        {
          "output_type": "execute_result",
          "data": {
            "text/plain": [
              "         precision    recall   roc_auc  f1_score\n",
              "xgboost   0.817753  0.795478  0.876701  0.802887\n",
              "xgboost   0.711135  0.709058  0.773380  0.699863"
            ],
            "text/html": [
              "\n",
              "  <div id=\"df-72a6a2d1-ac7e-43e9-9bbe-b3bda2533aed\">\n",
              "    <div class=\"colab-df-container\">\n",
              "      <div>\n",
              "<style scoped>\n",
              "    .dataframe tbody tr th:only-of-type {\n",
              "        vertical-align: middle;\n",
              "    }\n",
              "\n",
              "    .dataframe tbody tr th {\n",
              "        vertical-align: top;\n",
              "    }\n",
              "\n",
              "    .dataframe thead th {\n",
              "        text-align: right;\n",
              "    }\n",
              "</style>\n",
              "<table border=\"1\" class=\"dataframe\">\n",
              "  <thead>\n",
              "    <tr style=\"text-align: right;\">\n",
              "      <th></th>\n",
              "      <th>precision</th>\n",
              "      <th>recall</th>\n",
              "      <th>roc_auc</th>\n",
              "      <th>f1_score</th>\n",
              "    </tr>\n",
              "  </thead>\n",
              "  <tbody>\n",
              "    <tr>\n",
              "      <th>xgboost</th>\n",
              "      <td>0.817753</td>\n",
              "      <td>0.795478</td>\n",
              "      <td>0.876701</td>\n",
              "      <td>0.802887</td>\n",
              "    </tr>\n",
              "    <tr>\n",
              "      <th>xgboost</th>\n",
              "      <td>0.711135</td>\n",
              "      <td>0.709058</td>\n",
              "      <td>0.773380</td>\n",
              "      <td>0.699863</td>\n",
              "    </tr>\n",
              "  </tbody>\n",
              "</table>\n",
              "</div>\n",
              "      <button class=\"colab-df-convert\" onclick=\"convertToInteractive('df-72a6a2d1-ac7e-43e9-9bbe-b3bda2533aed')\"\n",
              "              title=\"Convert this dataframe to an interactive table.\"\n",
              "              style=\"display:none;\">\n",
              "        \n",
              "  <svg xmlns=\"http://www.w3.org/2000/svg\" height=\"24px\"viewBox=\"0 0 24 24\"\n",
              "       width=\"24px\">\n",
              "    <path d=\"M0 0h24v24H0V0z\" fill=\"none\"/>\n",
              "    <path d=\"M18.56 5.44l.94 2.06.94-2.06 2.06-.94-2.06-.94-.94-2.06-.94 2.06-2.06.94zm-11 1L8.5 8.5l.94-2.06 2.06-.94-2.06-.94L8.5 2.5l-.94 2.06-2.06.94zm10 10l.94 2.06.94-2.06 2.06-.94-2.06-.94-.94-2.06-.94 2.06-2.06.94z\"/><path d=\"M17.41 7.96l-1.37-1.37c-.4-.4-.92-.59-1.43-.59-.52 0-1.04.2-1.43.59L10.3 9.45l-7.72 7.72c-.78.78-.78 2.05 0 2.83L4 21.41c.39.39.9.59 1.41.59.51 0 1.02-.2 1.41-.59l7.78-7.78 2.81-2.81c.8-.78.8-2.07 0-2.86zM5.41 20L4 18.59l7.72-7.72 1.47 1.35L5.41 20z\"/>\n",
              "  </svg>\n",
              "      </button>\n",
              "      \n",
              "  <style>\n",
              "    .colab-df-container {\n",
              "      display:flex;\n",
              "      flex-wrap:wrap;\n",
              "      gap: 12px;\n",
              "    }\n",
              "\n",
              "    .colab-df-convert {\n",
              "      background-color: #E8F0FE;\n",
              "      border: none;\n",
              "      border-radius: 50%;\n",
              "      cursor: pointer;\n",
              "      display: none;\n",
              "      fill: #1967D2;\n",
              "      height: 32px;\n",
              "      padding: 0 0 0 0;\n",
              "      width: 32px;\n",
              "    }\n",
              "\n",
              "    .colab-df-convert:hover {\n",
              "      background-color: #E2EBFA;\n",
              "      box-shadow: 0px 1px 2px rgba(60, 64, 67, 0.3), 0px 1px 3px 1px rgba(60, 64, 67, 0.15);\n",
              "      fill: #174EA6;\n",
              "    }\n",
              "\n",
              "    [theme=dark] .colab-df-convert {\n",
              "      background-color: #3B4455;\n",
              "      fill: #D2E3FC;\n",
              "    }\n",
              "\n",
              "    [theme=dark] .colab-df-convert:hover {\n",
              "      background-color: #434B5C;\n",
              "      box-shadow: 0px 1px 3px 1px rgba(0, 0, 0, 0.15);\n",
              "      filter: drop-shadow(0px 1px 2px rgba(0, 0, 0, 0.3));\n",
              "      fill: #FFFFFF;\n",
              "    }\n",
              "  </style>\n",
              "\n",
              "      <script>\n",
              "        const buttonEl =\n",
              "          document.querySelector('#df-72a6a2d1-ac7e-43e9-9bbe-b3bda2533aed button.colab-df-convert');\n",
              "        buttonEl.style.display =\n",
              "          google.colab.kernel.accessAllowed ? 'block' : 'none';\n",
              "\n",
              "        async function convertToInteractive(key) {\n",
              "          const element = document.querySelector('#df-72a6a2d1-ac7e-43e9-9bbe-b3bda2533aed');\n",
              "          const dataTable =\n",
              "            await google.colab.kernel.invokeFunction('convertToInteractive',\n",
              "                                                     [key], {});\n",
              "          if (!dataTable) return;\n",
              "\n",
              "          const docLinkHtml = 'Like what you see? Visit the ' +\n",
              "            '<a target=\"_blank\" href=https://colab.research.google.com/notebooks/data_table.ipynb>data table notebook</a>'\n",
              "            + ' to learn more about interactive tables.';\n",
              "          element.innerHTML = '';\n",
              "          dataTable['output_type'] = 'display_data';\n",
              "          await google.colab.output.renderOutput(dataTable, element);\n",
              "          const docLink = document.createElement('div');\n",
              "          docLink.innerHTML = docLinkHtml;\n",
              "          element.appendChild(docLink);\n",
              "        }\n",
              "      </script>\n",
              "    </div>\n",
              "  </div>\n",
              "  "
            ]
          },
          "metadata": {},
          "execution_count": 60
        }
      ]
    },
    {
      "cell_type": "code",
      "source": [
        "#поэкспериментировать с долей P на шаге 5 (как будет меняться качество модели при уменьшении/увеличении размера P)\n",
        "\n",
        "# если увеличивать долю позитивов качество модели растет"
      ],
      "metadata": {
        "id": "dUg0-6A4TDLo"
      },
      "execution_count": 61,
      "outputs": []
    },
    {
      "cell_type": "markdown",
      "metadata": {
        "id": "dJa6fGvvFs49"
      },
      "source": [
        "## Ссылки:"
      ]
    },
    {
      "cell_type": "markdown",
      "metadata": {
        "id": "c28S3aWHFs4-"
      },
      "source": [
        "1. https://arxiv.org/pdf/1811.04820.pdf\n",
        "2. https://habr.com/ru/company/JetBrains-education/blog/512032/\n",
        "3. https://en.wikipedia.org/wiki/Bootstrap_aggregating\n",
        "4. https://www.cs.uic.edu/~liub/publications/EMNLP-2010-no-negative.pdf\n",
        "5. https://towardsdatascience.com/lookalikes-finding-needles-in-a-haystack-683bae8fdfff"
      ]
    }
  ],
  "metadata": {
    "kernelspec": {
      "display_name": "Python 3",
      "language": "python",
      "name": "python3"
    },
    "language_info": {
      "codemirror_mode": {
        "name": "ipython",
        "version": 3
      },
      "file_extension": ".py",
      "mimetype": "text/x-python",
      "name": "python",
      "nbconvert_exporter": "python",
      "pygments_lexer": "ipython3",
      "version": "3.7.3"
    },
    "colab": {
      "name": "Lesson_6.ipynb",
      "provenance": [],
      "collapsed_sections": []
    }
  },
  "nbformat": 4,
  "nbformat_minor": 0
}